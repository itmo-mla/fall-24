{
 "cells": [
  {
   "cell_type": "code",
   "metadata": {
    "ExecuteTime": {
     "end_time": "2025-01-05T02:35:26.517680Z",
     "start_time": "2025-01-05T02:35:26.512553Z"
    }
   },
   "source": [
    "import pandas as pd\n",
    "from copy import deepcopy\n",
    "from sklearn.model_selection import train_test_split \n",
    "from sklearn.metrics import mean_squared_error\n",
    "import warnings\n",
    "from sklearn.metrics import accuracy_score, f1_score, mean_squared_error, r2_score\n",
    "from sklearn.tree import DecisionTreeClassifier, DecisionTreeRegressor\n",
    "import time\n",
    "\n",
    "# Игнорирование FutureWarnings\n",
    "warnings.filterwarnings('ignore', category=FutureWarning)\n",
    "warnings.filterwarnings('ignore', category=RuntimeWarning)"
   ],
   "outputs": [],
   "execution_count": 13
  },
  {
   "metadata": {
    "ExecuteTime": {
     "end_time": "2025-01-05T02:35:26.541817Z",
     "start_time": "2025-01-05T02:35:26.527678Z"
    }
   },
   "cell_type": "code",
   "source": [
    "df = pd.read_csv('./Titanic-Dataset.csv')\n",
    "\n",
    "features = df[['Pclass', 'Sex', 'Age', 'SibSp', 'Parch', 'Fare', 'Embarked']].copy()\n",
    "target_class = df['Survived'].values  # для задачи классификации\n",
    "target_reg = df['Fare'].values       # для задачи регрессии\n",
    "\n",
    "features['Sex'] = features['Sex'].map({'male': 0, 'female': 1})\n",
    "features['Embarked'] = features['Embarked'].map({'S': 0, 'C': 1, 'Q': 2})\n",
    "\n",
    "features['Age'].fillna(features['Age'].mean(), inplace=True)\n",
    "features['Embarked'].fillna(features['Embarked'].mode()[0], inplace=True)\n",
    "\n",
    "X = features.values\n",
    "\n",
    "X_train_c, X_val_c, y_train_c, y_val_c = train_test_split(\n",
    "    X, target_class, test_size=0.2, random_state=42\n",
    ")\n",
    "\n",
    "X_train_r, X_val_r, y_train_r, y_val_r = train_test_split(\n",
    "    X, target_reg, test_size=0.2, random_state=42\n",
    ")"
   ],
   "outputs": [],
   "execution_count": 14
  },
  {
   "cell_type": "code",
   "metadata": {
    "ExecuteTime": {
     "end_time": "2025-01-05T02:35:28.001507Z",
     "start_time": "2025-01-05T02:35:26.569481Z"
    }
   },
   "source": [
    "from Classifier import TreeClassifier\n",
    "from Regressor import TreeRegressor\n",
    "\n",
    "tree_ent = TreeClassifier(criterion='entropy', max_depth=10, min_samples_split=2)\n",
    "t1 = time.time()\n",
    "tree_ent.fit(X_train_c, y_train_c)\n",
    "t2 = time.time()\n",
    "print(f\"Энтропия (время обучения): {t2 - t1:.4f}s\")\n",
    "\n",
    "# Предсказание\n",
    "t1 = time.time()\n",
    "y_pred_ent = tree_ent.predict(X_val_c)\n",
    "t2 = time.time()\n",
    "acc_ent = accuracy_score(y_val_c, y_pred_ent)\n",
    "f1_ent = f1_score(y_val_c, y_pred_ent)\n",
    "print(f\"Энтропия (время предсказания): {t2 - t1:.4f}s\")\n",
    "print(\"Энтропия: Accuracy =\", acc_ent, \"F1 =\", f1_ent)\n",
    "\n",
    "t1 = time.time()\n",
    "tree_ent.prune(X_val_c, y_val_c)\n",
    "t2 = time.time()\n",
    "print(f\"Энтропия (время обрезки): {t2 - t1:.4f}s\")\n",
    "\n",
    "t1 = time.time()\n",
    "y_pred_ent_pruned = tree_ent.predict(X_val_c)\n",
    "t2 = time.time()\n",
    "acc_ent_pruned = accuracy_score(y_val_c, y_pred_ent_pruned)\n",
    "f1_ent_pruned = f1_score(y_val_c, y_pred_ent_pruned)\n",
    "print(f\"Энтропия (время предсказания после обрезки): {t2 - t1:.4f}s\")\n",
    "print(\"Энтропия (после обрезки): Accuracy =\", acc_ent_pruned, \"F1 =\", f1_ent_pruned)\n",
    "\n",
    "print()\n",
    "\n",
    "tree_donskoy = TreeClassifier(criterion='donskoy', max_depth=10, min_samples_split=2)\n",
    "t1 = time.time()\n",
    "tree_donskoy.fit(X_train_c, y_train_c)\n",
    "t2 = time.time()\n",
    "print(f\"Критерий Донского (время обучения): {t2 - t1:.4f}s\")\n",
    "\n",
    "t1 = time.time()\n",
    "y_pred_donskoy = tree_donskoy.predict(X_val_c)\n",
    "t2 = time.time()\n",
    "acc_donskoy = accuracy_score(y_val_c, y_pred_donskoy)\n",
    "f1_donskoy = f1_score(y_val_c, y_pred_donskoy)\n",
    "print(f\"Критерий Донского (время предсказания): {t2 - t1:.4f}s\")\n",
    "print(\"Критерий Донского: Accuracy =\", acc_donskoy, \"F1 =\", f1_donskoy)\n",
    "\n",
    "t1 = time.time()\n",
    "tree_donskoy.prune(X_val_c, y_val_c)\n",
    "t2 = time.time()\n",
    "print(f\"Критерий Донского (время обрезки): {t2 - t1:.4f}s\")\n",
    "\n",
    "t1 = time.time()\n",
    "y_pred_donskoy_pruned = tree_donskoy.predict(X_val_c)\n",
    "t2 = time.time()\n",
    "acc_ent_pruned = accuracy_score(y_val_c, y_pred_donskoy_pruned)\n",
    "f1_ent_pruned = f1_score(y_val_c, y_pred_donskoy_pruned)\n",
    "print(f\"Критерий Донского (время предсказания после обрезки): {t2 - t1:.4f}s\")\n",
    "print(\"Критерий Донского (после обрезки): Accuracy =\", acc_ent_pruned, \"F1 =\", f1_ent_pruned)"
   ],
   "outputs": [
    {
     "name": "stdout",
     "output_type": "stream",
     "text": [
      "Энтропия (время обучения): 0.7230s\n",
      "Энтропия (время предсказания): 0.0050s\n",
      "Энтропия: Accuracy = 0.7932960893854749 F1 = 0.7299270072992701\n",
      "Энтропия (время обрезки): 0.0490s\n",
      "Энтропия (время предсказания после обрезки): 0.0040s\n",
      "Энтропия (после обрезки): Accuracy = 0.7932960893854749 F1 = 0.7299270072992701\n",
      "\n",
      "Критерий Донского (время обучения): 0.5740s\n",
      "Критерий Донского (время предсказания): 0.0050s\n",
      "Критерий Донского: Accuracy = 0.7932960893854749 F1 = 0.7299270072992701\n",
      "Критерий Донского (время обрезки): 0.0480s\n",
      "Критерий Донского (время предсказания после обрезки): 0.0050s\n",
      "Критерий Донского (после обрезки): Accuracy = 0.7932960893854749 F1 = 0.7299270072992701\n"
     ]
    }
   ],
   "execution_count": 15
  },
  {
   "metadata": {
    "ExecuteTime": {
     "end_time": "2025-01-05T02:35:28.707857Z",
     "start_time": "2025-01-05T02:35:28.031334Z"
    }
   },
   "cell_type": "code",
   "source": [
    "tree_reg = TreeRegressor(min_samples_split=5)\n",
    "\n",
    "t1 = time.time()\n",
    "tree_reg.fit(X_train_r, y_train_r)\n",
    "t2 = time.time()\n",
    "print(f\"Регрессия (время обучения): {t2 - t1:.4f}s\")\n",
    "\n",
    "t1 = time.time()\n",
    "y_pred_reg = tree_reg.predict(X_val_r)\n",
    "t2 = time.time()\n",
    "mse_reg = mean_squared_error(y_val_r, y_pred_reg)\n",
    "r2_reg = r2_score(y_val_r, y_pred_reg)\n",
    "print(f\"Регрессия (время предсказания): {t2 - t1:.4f}s\")\n",
    "print(\"Регрессия: MSE =\", mse_reg, \"R^2 =\", r2_reg)\n",
    "\n",
    "t1 = time.time()\n",
    "tree_reg.prune(X_val_r, y_val_r)\n",
    "t2 = time.time()\n",
    "print(f\"Регрессия (время обрезки): {t2 - t1:.4f}s\")\n",
    "\n",
    "t1 = time.time()\n",
    "y_pred_reg_pruned = tree_reg.predict(X_val_r)\n",
    "t2 = time.time()\n",
    "mse_reg_pruned = mean_squared_error(y_val_r, y_pred_reg_pruned)\n",
    "r2_reg = r2_score(y_val_r, y_pred_reg_pruned)\n",
    "print(f\"Регрессия (время предсказания после обрезки): {t2 - t1:.4f}s\")\n",
    "print(\"Регрессия (после обрезки):MSE =\", mse_reg, \"R^2 =\", r2_reg)"
   ],
   "outputs": [
    {
     "name": "stdout",
     "output_type": "stream",
     "text": [
      "Регрессия (время обучения): 0.4570s\n",
      "Регрессия (время предсказания): 0.0030s\n",
      "Регрессия: MSE = 0.36631807725675036 R^2 = 0.999763273190162\n",
      "Регрессия (время обрезки): 0.2040s\n",
      "Регрессия (время предсказания после обрезки): 0.0040s\n",
      "Регрессия (после обрезки):MSE = 0.36631807725675036 R^2 = 0.999763273190162\n"
     ]
    }
   ],
   "execution_count": 16
  },
  {
   "metadata": {
    "ExecuteTime": {
     "end_time": "2025-01-05T02:35:28.747459Z",
     "start_time": "2025-01-05T02:35:28.737266Z"
    }
   },
   "cell_type": "code",
   "source": [
    "clf_sklearn = DecisionTreeClassifier(\n",
    "    criterion='entropy', max_depth=10, min_samples_split=2, random_state=42\n",
    ")\n",
    "t1 = time.time()\n",
    "clf_sklearn.fit(X_train_c, y_train_c)\n",
    "t2 = time.time()\n",
    "print(f\"sklearn Энтропия (время обучения): {t2 - t1:.4f}s\")\n",
    "\n",
    "t1 = time.time()\n",
    "y_pred_sklearn = clf_sklearn.predict(X_val_c)\n",
    "t2 = time.time()\n",
    "acc_sklearn = accuracy_score(y_val_c, y_pred_sklearn)\n",
    "print(f\"sklearn Энтропия (время предсказания): {t2 - t1:.4f}s\")\n",
    "print(\"sklearn Энтропия Accuracy =\", acc_sklearn, \"F1 =\", f1_score(y_val_c, y_pred_sklearn))"
   ],
   "outputs": [
    {
     "name": "stdout",
     "output_type": "stream",
     "text": [
      "sklearn Энтропия (время обучения): 0.0030s\n",
      "sklearn Энтропия (время предсказания): 0.0000s\n",
      "sklearn Энтропия Accuracy = 0.8044692737430168 F1 = 0.7445255474452555\n"
     ]
    }
   ],
   "execution_count": 17
  },
  {
   "metadata": {
    "ExecuteTime": {
     "end_time": "2025-01-05T02:35:28.808516Z",
     "start_time": "2025-01-05T02:35:28.799926Z"
    }
   },
   "cell_type": "code",
   "source": [
    "reg = DecisionTreeRegressor(\n",
    "    criterion='squared_error', max_depth=10, min_samples_split=5, random_state=42\n",
    ")\n",
    "t1 = time.time()\n",
    "reg.fit(X_train_r, y_train_r)\n",
    "t2 = time.time()\n",
    "print(f\"sklearn Регрессия (время обучения): {t2 - t1:.4f}s\")\n",
    "\n",
    "t1 = time.time()\n",
    "y_pred_sklearn_reg = reg.predict(X_val_r)\n",
    "t2 = time.time()\n",
    "mse_sklearn = mean_squared_error(y_val_r, y_pred_sklearn_reg)\n",
    "r2_sklearn = r2_score(y_val_r, y_pred_sklearn_reg)\n",
    "print(f\"sklearn Регрессия (время предсказание): {t2 - t1:.4f}s\")\n",
    "print(\"sklearn Регрессия: MSE =\", mse_sklearn, \"R^2 =\", r2_sklearn)"
   ],
   "outputs": [
    {
     "name": "stdout",
     "output_type": "stream",
     "text": [
      "sklearn Регрессия (время обучения): 0.0020s\n",
      "sklearn Регрессия (время предсказание): 0.0010s\n",
      "sklearn Регрессия: MSE = 0.28196101211523195 R^2 = 0.9998177875047921\n"
     ]
    }
   ],
   "execution_count": 18
  }
 ],
 "metadata": {
  "kernelspec": {
   "display_name": "Python 3 (ipykernel)",
   "language": "python",
   "name": "python3"
  },
  "language_info": {
   "codemirror_mode": {
    "name": "ipython",
    "version": 3
   },
   "file_extension": ".py",
   "mimetype": "text/x-python",
   "name": "python",
   "nbconvert_exporter": "python",
   "pygments_lexer": "ipython3",
   "version": "3.12.7"
  }
 },
 "nbformat": 4,
 "nbformat_minor": 2
}
