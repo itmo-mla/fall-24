{
 "cells": [
  {
   "cell_type": "code",
   "id": "initial_id",
   "metadata": {
    "collapsed": true,
    "ExecuteTime": {
     "end_time": "2024-12-22T14:29:18.881853Z",
     "start_time": "2024-12-22T14:29:18.878657Z"
    }
   },
   "source": [
    "import pandas as pd\n",
    "import numpy as np\n",
    "from sklearn.model_selection import train_test_split\n",
    "from sklearn.preprocessing import StandardScaler\n",
    "from sklearn.neighbors import KNeighborsClassifier\n",
    "from sklearn.metrics import precision_score, recall_score, accuracy_score\n",
    "import matplotlib.pyplot as plt\n",
    "import time"
   ],
   "outputs": [],
   "execution_count": 420
  },
  {
   "metadata": {
    "ExecuteTime": {
     "end_time": "2024-12-22T14:29:18.922016Z",
     "start_time": "2024-12-22T14:29:18.910831Z"
    }
   },
   "cell_type": "code",
   "source": [
    "data = pd.read_csv(\"iris.csv\")\n",
    "\n",
    "x = data.drop(['species'], axis=1)\n",
    "y = data['species']\n",
    "\n",
    "scaler = StandardScaler()\n",
    "X_scaled = scaler.fit_transform(x)\n",
    "\n",
    "x_train, x_test, y_train, y_test = train_test_split(X_scaled, y, test_size=0.2, random_state=48)"
   ],
   "id": "3c523eae6cb7850e",
   "outputs": [],
   "execution_count": 421
  },
  {
   "metadata": {
    "ExecuteTime": {
     "end_time": "2024-12-22T14:29:18.953717Z",
     "start_time": "2024-12-22T14:29:18.947700Z"
    }
   },
   "cell_type": "code",
   "source": "x_train.shape",
   "id": "39e130750c184178",
   "outputs": [
    {
     "data": {
      "text/plain": [
       "(120, 4)"
      ]
     },
     "execution_count": 422,
     "metadata": {},
     "output_type": "execute_result"
    }
   ],
   "execution_count": 422
  },
  {
   "metadata": {
    "ExecuteTime": {
     "end_time": "2024-12-22T14:29:18.982877Z",
     "start_time": "2024-12-22T14:29:18.977317Z"
    }
   },
   "cell_type": "code",
   "source": "y_train.shape",
   "id": "18f1ff2e5c82a365",
   "outputs": [
    {
     "data": {
      "text/plain": [
       "(120,)"
      ]
     },
     "execution_count": 423,
     "metadata": {},
     "output_type": "execute_result"
    }
   ],
   "execution_count": 423
  },
  {
   "metadata": {
    "ExecuteTime": {
     "end_time": "2024-12-22T14:29:19.036431Z",
     "start_time": "2024-12-22T14:29:19.029754Z"
    }
   },
   "cell_type": "code",
   "source": [
    "class KNN:\n",
    "    def __init__(self, k=1):\n",
    "        self.y_train = None\n",
    "        self.X_train = None\n",
    "        self.k = k\n",
    "        \n",
    "    def fit(self, X_train, y_train):\n",
    "        self.X_train, self.y_train = np.array(X_train), np.array(y_train)\n",
    "\n",
    "    @staticmethod\n",
    "    def gaussian_kernel(u):\n",
    "        return (1 / np.sqrt(2 * np.pi)) * np.exp(-0.5 * (u**2))\n",
    "    \n",
    "    def euclidean_distances(self, x_new):\n",
    "            return np.sqrt(np.sum((self.X_train - x_new) ** 2, axis=1))\n",
    "    \n",
    "    def make_prediction(self, x_new):\n",
    "        distances = self.euclidean_distances(x_new)\n",
    "        \n",
    "        weights = {}\n",
    "        for i in range(len(self.X_train)):\n",
    "            mark = self.y_train[i]\n",
    "            index_k_plus_1 = np.argsort(distances)[:self.k+1][-1]\n",
    "            r = distances[i] / (distances[index_k_plus_1] + 1e-12)\n",
    "            \n",
    "            try:\n",
    "                weights[mark] += self.gaussian_kernel(r)\n",
    "            except KeyError:\n",
    "                weights[mark] = self.gaussian_kernel(r)\n",
    "        max = 0\n",
    "        max_key = 0\n",
    "        for key, value in weights.items():\n",
    "            if value > max:\n",
    "                max_key = key\n",
    "                max = value\n",
    "        return max_key\n",
    "    \n",
    "    def predict(self, X_test):\n",
    "        return pd.Series([self.make_prediction(x) for x in np.array(X_test)])"
   ],
   "id": "43267fd844021ac",
   "outputs": [],
   "execution_count": 424
  },
  {
   "metadata": {
    "ExecuteTime": {
     "end_time": "2024-12-22T14:29:19.047139Z",
     "start_time": "2024-12-22T14:29:19.040430Z"
    }
   },
   "cell_type": "code",
   "source": [
    "class LOO:\n",
    "    def __init__(self, model, k):\n",
    "        self.best_param = None\n",
    "        self.model = model\n",
    "        self.k = k\n",
    "        self.errors = {}\n",
    "\n",
    "    def fit(self, X, y):\n",
    "        X = np.array(X)\n",
    "        y = np.array(y)\n",
    "        n = len(X)\n",
    "    \n",
    "        for k_value in range(1, self.k):\n",
    "            self.model.k = k_value\n",
    "            err_count = 0\n",
    "            for i in range(n):\n",
    "                X_train = np.concatenate((X[:i], X[i+1:]), axis=0)\n",
    "                y_train = np.concatenate((y[:i], y[i+1:]), axis=0)\n",
    "                \n",
    "                x_array = X[i]\n",
    "                x_test = pd.DataFrame([x_array], columns=[str(i) for i in range(len(x_array))])\n",
    "                y_test = y[i]\n",
    "    \n",
    "                self.model.fit(X_train, y_train)\n",
    "                y_pred = self.model.predict(x_test)\n",
    "                if y_pred[0] != pd.Series(y_test)[0]:\n",
    "                    err_count += 1\n",
    "            \n",
    "            self.errors[k_value] = err_count / n\n",
    "        \n",
    "        min = 10 ** 9\n",
    "        min_key = 0\n",
    "        for key, value in self.errors.items():\n",
    "            if value <= min:\n",
    "                min_key = key\n",
    "                min = value\n",
    "\n",
    "        self.best_param = min_key\n"
   ],
   "id": "e26f842688684824",
   "outputs": [],
   "execution_count": 425
  },
  {
   "metadata": {
    "ExecuteTime": {
     "end_time": "2024-12-22T14:29:20.882014Z",
     "start_time": "2024-12-22T14:29:19.070817Z"
    }
   },
   "cell_type": "code",
   "source": [
    "errors_loo = LOO(KNN(), k = 10)\n",
    "errors_loo.fit(x_train, y_train)\n",
    "\n",
    "graph = errors_loo.errors.values()\n",
    "plt.plot([_ for _ in range(1, 10)], graph)\n",
    "plt.xlabel('k')\n",
    "plt.ylabel('LOO Error')\n",
    "plt.title('График ошибки LOO от k')\n",
    "plt.show()\n",
    "\n",
    "print(\"Оптимальное k по LOO =\", errors_loo.best_param)"
   ],
   "id": "802bdbcf52d48ba5",
   "outputs": [
    {
     "data": {
      "text/plain": [
       "<Figure size 640x480 with 1 Axes>"
      ],
      "image/png": "[encoded data removed]"
     },
     "metadata": {},
     "output_type": "display_data"
    },
    {
     "name": "stdout",
     "output_type": "stream",
     "text": [
      "Оптимальное k по LOO = 4\n"
     ]
    }
   ],
   "execution_count": 426
  },
  {
   "metadata": {
    "ExecuteTime": {
     "end_time": "2024-12-22T14:29:20.972364Z",
     "start_time": "2024-12-22T14:29:20.908372Z"
    }
   },
   "cell_type": "code",
   "source": [
    "custom_knn = KNN(k=4)\n",
    "custom_knn.fit(x_train, y_train)\n",
    "\n",
    "start_time = time.time()\n",
    "custom_predictions = custom_knn.predict(x_test)\n",
    "custom_time = time.time() - start_time\n",
    "\n",
    "sklearn_knn = KNeighborsClassifier(n_neighbors=4)\n",
    "sklearn_knn.fit(x_train, y_train)\n",
    "\n",
    "start_time = time.time()\n",
    "sklearn_predictions = sklearn_knn.predict(x_test)\n",
    "sklearn_time = time.time() - start_time\n",
    "\n",
    "custom_precision = precision_score(y_test, custom_predictions, average='macro')\n",
    "custom_recall = recall_score(y_test, custom_predictions, average='macro')\n",
    "custom_accuracy = accuracy_score(y_test, custom_predictions)\n",
    "\n",
    "sklearn_precision = precision_score(y_test, sklearn_predictions, average='macro')\n",
    "sklearn_recall = recall_score(y_test, sklearn_predictions, average='macro')\n",
    "sklearn_accuracy = accuracy_score(y_test, sklearn_predictions)\n",
    "\n",
    "print(\"Custom KNN:\")\n",
    "print(f\"Precision: {custom_precision:.4f}\")\n",
    "print(f\"Recall: {custom_recall:.4f}\")\n",
    "print(f\"Accuracy: {custom_accuracy:.4f}\")\n",
    "print(f\"Time: {custom_time:.4f} seconds\")\n",
    "\n",
    "print(\"\\nSklearn KNN:\")\n",
    "print(f\"Precision: {sklearn_precision:.4f}\")\n",
    "print(f\"Recall: {sklearn_recall:.4f}\")\n",
    "print(f\"Accuracy: {sklearn_accuracy:.4f}\")\n",
    "print(f\"Time: {sklearn_time:.4f} seconds\")"
   ],
   "id": "e81f806484e2049a",
   "outputs": [
    {
     "name": "stdout",
     "output_type": "stream",
     "text": [
      "Custom KNN:\n",
      "Precision: 0.9074\n",
      "Recall: 0.9030\n",
      "Accuracy: 0.9000\n",
      "Time: 0.0300 seconds\n",
      "\n",
      "Sklearn KNN:\n",
      "Precision: 0.9364\n",
      "Recall: 0.9364\n",
      "Accuracy: 0.9333\n",
      "Time: 0.0040 seconds\n"
     ]
    }
   ],
   "execution_count": 427
  }
 ],
 "metadata": {
  "kernelspec": {
   "display_name": "Python 3",
   "language": "python",
   "name": "python3"
  },
  "language_info": {
   "codemirror_mode": {
    "name": "ipython",
    "version": 2
   },
   "file_extension": ".py",
   "mimetype": "text/x-python",
   "name": "python",
   "nbconvert_exporter": "python",
   "pygments_lexer": "ipython2",
   "version": "2.7.6"
  }
 },
 "nbformat": 4,
 "nbformat_minor": 5
}
