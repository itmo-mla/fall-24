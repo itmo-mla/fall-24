{
 "cells": [
  {
   "cell_type": "code",
   "execution_count": 1,
   "id": "d2a62114",
   "metadata": {},
   "outputs": [],
   "source": [
    "import pandas as pd\n",
    "import numpy as np\n",
    "import matplotlib.pyplot as plt\n",
    "\n",
    "from sklearn.decomposition import PCA\n",
    "from scipy.optimize import minimize\n",
    "from sklearn.model_selection import train_test_split\n",
    "from sklearn import preprocessing\n",
    "from sklearn.svm import SVC "
   ]
  },
  {
   "cell_type": "markdown",
   "id": "4dae8971",
   "metadata": {},
   "source": [
    "# Загрузка данных"
   ]
  },
  {
   "cell_type": "code",
   "execution_count": 2,
   "id": "1c0553b0",
   "metadata": {},
   "outputs": [],
   "source": [
    "class Loader:\n",
    "    def __init__(self, data):\n",
    "        if data == 'mashroom':\n",
    "            self.data = pd.read_csv('2. Mushroom_dataset', delimiter = \",\", names=['class-label','cap-shape','cap-surface','cap-color','bruises','odor','gill-attachment','gill-spacing','gill-size','gill-color','stalk-shape','stalk-root','stalk-surface-above-ring','stalk-surface-below-ring','stalk-color-above-ring','stalk-color-below-ring','veil-type','veil-color','ring-number','ring-type','spore-print-color','population','habitat'])\n",
    "            self.data = self.data.drop(['veil-type'], axis=1)\n",
    "\n",
    "            le = preprocessing.LabelEncoder()\n",
    "            for col in self.data.columns:\n",
    "                self.data[col] = le.fit_transform(self.data[col])\n",
    "\n",
    "            X = self.data.drop(['class-label'], axis=1)\n",
    "            y = self.data['class-label']\n",
    "        else:\n",
    "            self.data = pd.read_csv(r\"C:\\Users\\makso\\Desktop\\АМО\\linear\\iris.csv\")[0:100]\n",
    "            le = preprocessing.LabelEncoder()\n",
    "            self.data['species'] = le.fit_transform(self.data['species'])\n",
    "\n",
    "            X = self.data.drop(['species'], axis=1)\n",
    "            y = self.data['species']\n",
    "\n",
    "        self.X_train, self.X_test, self.y_train, self.y_test = train_test_split(X, y, test_size=0.25, random_state=24)"
   ]
  },
  {
   "cell_type": "code",
   "execution_count": 20,
   "id": "058b3077",
   "metadata": {},
   "outputs": [],
   "source": [
    "loader = Loader('iris')\n",
    "X_train, X_test, y_train, y_test = loader.X_train, loader.X_test, loader.y_train, loader.y_test"
   ]
  },
  {
   "cell_type": "markdown",
   "id": "1d4dc1f0",
   "metadata": {},
   "source": [
    "# Метрики"
   ]
  },
  {
   "cell_type": "code",
   "execution_count": 4,
   "id": "165dc005",
   "metadata": {},
   "outputs": [],
   "source": [
    "#accuracy\n",
    "\n",
    "def accuracy(y_test, y_pred):\n",
    "    compare_df = pd.DataFrame({'y': list(y_test), 'y_pred': y_pred})\n",
    "    \n",
    "    TP = compare_df.loc[(compare_df['y'] == 1) & (compare_df['y_pred'] == 1)]\n",
    "    FP = compare_df.loc[(compare_df['y'] == 0) & (compare_df['y_pred'] == 1)]\n",
    "    FN = compare_df.loc[(compare_df['y'] == 1) & (compare_df['y_pred'] == 0)]\n",
    "    TN = compare_df.loc[(compare_df['y'] == 0) & (compare_df['y_pred'] == 0)]\n",
    "    \n",
    "    return (len(TP) + len(TN)) / len(compare_df)\n",
    "\n",
    "#precession\n",
    "\n",
    "def precession(y_test, y_pred):\n",
    "    compare_df = pd.DataFrame({'y': (y_test), 'y_pred': y_pred})\n",
    "    \n",
    "    TP = compare_df.loc[(compare_df['y'] == 1) & (compare_df['y_pred'] == 1)]\n",
    "    FP = compare_df.loc[(compare_df['y'] == 0) & (compare_df['y_pred'] == 1)]\n",
    "    FN = compare_df.loc[(compare_df['y'] == 1) & (compare_df['y_pred'] == 0)]\n",
    "    TN = compare_df.loc[(compare_df['y'] == 0) & (compare_df['y_pred'] == 0)]\n",
    "    \n",
    "    return len(TP) / (len(TP) + len(FP))\n",
    "\n",
    "#recall\n",
    "\n",
    "def recall(y_test, y_pred):\n",
    "    compare_df = pd.DataFrame({'y': list(y_test), 'y_pred': y_pred})\n",
    "    \n",
    "    TP = compare_df.loc[(compare_df['y'] == 1) & (compare_df['y_pred'] == 1)]\n",
    "    FP = compare_df.loc[(compare_df['y'] == 0) & (compare_df['y_pred'] == 1)]\n",
    "    FN = compare_df.loc[(compare_df['y'] == 1) & (compare_df['y_pred'] == 0)]\n",
    "    TN = compare_df.loc[(compare_df['y'] == 0) & (compare_df['y_pred'] == 0)]\n",
    "    \n",
    "    return len(TP) / (len(TP) + len(FN))\n",
    "                                    \n",
    "#f1\n",
    "\n",
    "def f1(y_test, y_pred):\n",
    "    compare_df = pd.DataFrame({'y': list(y_test), 'y_pred': y_pred})\n",
    "    \n",
    "    TP = compare_df.loc[(compare_df['y'] == 1) & (compare_df['y_pred'] == 1)]\n",
    "    FP = compare_df.loc[(compare_df['y'] == 0) & (compare_df['y_pred'] == 1)]\n",
    "    FN = compare_df.loc[(compare_df['y'] == 1) & (compare_df['y_pred'] == 0)]\n",
    "    TN = compare_df.loc[(compare_df['y'] == 0) & (compare_df['y_pred'] == 0)]\n",
    "    \n",
    "    precession_ = precession(y_test, y_pred)\n",
    "    recall_ = recall(y_test, y_pred)\n",
    "    return 2 * precession_ * recall_ / (recall_+ precession_)"
   ]
  },
  {
   "cell_type": "markdown",
   "id": "8a59dd5c",
   "metadata": {},
   "source": [
    "# SVM"
   ]
  },
  {
   "cell_type": "code",
   "execution_count": 5,
   "id": "1559a022",
   "metadata": {},
   "outputs": [],
   "source": [
    "class SVM:\n",
    "    def __init__(self, kernel, C=1, gamma=1, degree=3):\n",
    "        self.C = C\n",
    "        self.alpha = None\n",
    "        self.b = None\n",
    "        self.gamma = gamma\n",
    "        self.degree = degree\n",
    "        self.support_vectors = None\n",
    "        self.support_vector_labels = None\n",
    "        self.kernel = kernel\n",
    "        self.weights = None\n",
    "\n",
    "    def fit(self, X, y):\n",
    "        X = np.array(X)\n",
    "        y = np.array(y)\n",
    "\n",
    "        n_samples, n_features = X.shape\n",
    "\n",
    "        y = np.where(y <= 0, -1, 1)\n",
    "\n",
    "        # Определение функции для минимизации\n",
    "        def objective(alpha):\n",
    "            if self.kernel == 'polinomial':\n",
    "                K = np.array([[self.polynomial_kernel(X[i], X[j]) for j in range(n_samples)] for i in range(n_samples)])\n",
    "            elif self.kernel == 'rbf':\n",
    "                K = np.array([[self.rbf_kernel(X[i], X[j]) for j in range(n_samples)] for i in range(n_samples)])\n",
    "            else:\n",
    "                K = np.dot(X, X.T)\n",
    "            return 0.5 * np.sum(alpha[:, None] * alpha[None, :] * y[:, None] * y[None, :] * K) - np.sum(alpha)\n",
    "\n",
    "        # Границы для альфа\n",
    "        bounds = [(0, self.C) for _ in range(n_samples)]\n",
    "        # Начальное значение альфа\n",
    "        initial_alpha = np.zeros(n_samples)\n",
    "\n",
    "        # Оптимизация двойственной задачи\n",
    "        constraints = {'type': 'eq', 'fun': lambda alpha: np.dot(alpha, y)}\n",
    "        result = minimize(objective, initial_alpha, bounds=bounds, constraints=constraints)\n",
    "\n",
    "        self.alpha = result.x\n",
    "\n",
    "        # Индексы векторов поддержки\n",
    "        support_indices = self.alpha > 1e-5\n",
    "        self.support_vectors = X[support_indices]\n",
    "        self.support_vector_labels = y[support_indices]\n",
    "        self.alpha = self.alpha[support_indices]\n",
    "\n",
    "        # Вычисление b\n",
    "        self.b = np.mean(self.support_vector_labels - np.dot(X[support_indices], self._get_weights()))\n",
    "\n",
    "    def rbf_kernel(self, x1, x2):\n",
    "        return np.exp(-self.gamma * np.linalg.norm(x1 - x2) ** 2)\n",
    "\n",
    "    def polynomial_kernel(self, x1, x2):\n",
    "        return (np.dot(x1, x2) + 1) ** self.degree\n",
    "\n",
    "    def _get_weights(self):\n",
    "        return np.sum(self.alpha[:, None] * self.support_vector_labels[:, None] * self.support_vectors, axis=0)\n",
    "\n",
    "    def predict(self, X):\n",
    "        self.weights = self._get_weights()\n",
    "        return np.sign(np.dot(X, self.weights) + self.b)"
   ]
  },
  {
   "cell_type": "markdown",
   "id": "8b1fe12b",
   "metadata": {},
   "source": [
    "## Линейное ядро"
   ]
  },
  {
   "cell_type": "code",
   "execution_count": 6,
   "id": "3bf400b0",
   "metadata": {},
   "outputs": [
    {
     "name": "stdout",
     "output_type": "stream",
     "text": [
      "Accuracy: 1.0\n",
      "Precession: 1.0\n",
      "Recall: 1.0\n",
      "F1: 1.0\n",
      "CPU times: total: 46.9 ms\n",
      "Wall time: 69 ms\n"
     ]
    }
   ],
   "source": [
    "%%time\n",
    "# вручную\n",
    "svm = SVM(kernel='linear')\n",
    "svm.fit(X_train, y_train)\n",
    "\n",
    "pred = list(np.where(svm.predict(X_test) < 0, 0, 1))\n",
    "\n",
    "print(f'Accuracy: {accuracy(y_test, pred)}')\n",
    "print(f'Precession: {precession(y_test, pred)}')\n",
    "print(f'Recall: {recall(y_test, pred)}')\n",
    "print(f'F1: {f1(y_test, pred)}')"
   ]
  },
  {
   "cell_type": "code",
   "execution_count": 7,
   "id": "3f3bbc55",
   "metadata": {},
   "outputs": [
    {
     "name": "stdout",
     "output_type": "stream",
     "text": [
      "Accuracy: 1.0\n",
      "Precession: 1.0\n",
      "Recall: 1.0\n",
      "F1: 1.0\n",
      "CPU times: total: 0 ns\n",
      "Wall time: 114 ms\n"
     ]
    }
   ],
   "source": [
    "%%time\n",
    "# библиотека\n",
    "svm = SVC(kernel='linear')\n",
    "svm.fit(X_train, y_train)\n",
    "\n",
    "pred = list(svm.predict(X_test))\n",
    "\n",
    "print(f'Accuracy: {accuracy(y_test, pred)}')\n",
    "print(f'Precession: {precession(y_test, pred)}')\n",
    "print(f'Recall: {recall(y_test, pred)}')\n",
    "print(f'F1: {f1(y_test, pred)}')"
   ]
  },
  {
   "cell_type": "markdown",
   "id": "1c763003",
   "metadata": {},
   "source": [
    "## RBF"
   ]
  },
  {
   "cell_type": "code",
   "execution_count": 8,
   "id": "4845f79c",
   "metadata": {},
   "outputs": [
    {
     "name": "stdout",
     "output_type": "stream",
     "text": [
      "Accuracy: 1.0\n",
      "Precession: 1.0\n",
      "Recall: 1.0\n",
      "F1: 1.0\n",
      "CPU times: total: 46.2 s\n",
      "Wall time: 1min 17s\n"
     ]
    }
   ],
   "source": [
    "%%time\n",
    "# вручную\n",
    "svm = SVM(kernel='rbf')\n",
    "svm.fit(X_train, y_train)\n",
    "\n",
    "pred = list(np.where(svm.predict(X_test) < 0, 0, 1))\n",
    "\n",
    "print(f'Accuracy: {accuracy(y_test, pred)}')\n",
    "print(f'Precession: {precession(y_test, pred)}')\n",
    "print(f'Recall: {recall(y_test, pred)}')\n",
    "print(f'F1: {f1(y_test, pred)}')"
   ]
  },
  {
   "cell_type": "code",
   "execution_count": 9,
   "id": "3a4e8da3",
   "metadata": {},
   "outputs": [
    {
     "name": "stdout",
     "output_type": "stream",
     "text": [
      "Accuracy: 1.0\n",
      "Precession: 1.0\n",
      "Recall: 1.0\n",
      "F1: 1.0\n",
      "CPU times: total: 0 ns\n",
      "Wall time: 32.8 ms\n"
     ]
    }
   ],
   "source": [
    "%%time\n",
    "# библиотека\n",
    "svm = SVC(kernel='rbf')\n",
    "svm.fit(X_train, y_train)\n",
    "\n",
    "pred = list(svm.predict(X_test))\n",
    "\n",
    "print(f'Accuracy: {accuracy(y_test, pred)}')\n",
    "print(f'Precession: {precession(y_test, pred)}')\n",
    "print(f'Recall: {recall(y_test, pred)}')\n",
    "print(f'F1: {f1(y_test, pred)}')"
   ]
  },
  {
   "cell_type": "markdown",
   "id": "cc2a7f46",
   "metadata": {},
   "source": [
    "## Poplynomial"
   ]
  },
  {
   "cell_type": "code",
   "execution_count": 10,
   "id": "14563267",
   "metadata": {},
   "outputs": [
    {
     "name": "stdout",
     "output_type": "stream",
     "text": [
      "Accuracy: 1.0\n",
      "Precession: 1.0\n",
      "Recall: 1.0\n",
      "F1: 1.0\n",
      "CPU times: total: 78.1 ms\n",
      "Wall time: 165 ms\n"
     ]
    }
   ],
   "source": [
    "%%time\n",
    "# вручную\n",
    "svm = SVM(kernel='polynimial')\n",
    "svm.fit(X_train, y_train)\n",
    "\n",
    "pred = list(np.where(svm.predict(X_test) < 0, 0, 1))\n",
    "\n",
    "print(f'Accuracy: {accuracy(y_test, pred)}')\n",
    "print(f'Precession: {precession(y_test, pred)}')\n",
    "print(f'Recall: {recall(y_test, pred)}')\n",
    "print(f'F1: {f1(y_test, pred)}')"
   ]
  },
  {
   "cell_type": "code",
   "execution_count": 11,
   "id": "50660403",
   "metadata": {},
   "outputs": [
    {
     "name": "stdout",
     "output_type": "stream",
     "text": [
      "Accuracy: 1.0\n",
      "Precession: 1.0\n",
      "Recall: 1.0\n",
      "F1: 1.0\n",
      "CPU times: total: 15.6 ms\n",
      "Wall time: 33.7 ms\n"
     ]
    }
   ],
   "source": [
    "%%time\n",
    "# библиотека\n",
    "svm = SVC(kernel='poly')\n",
    "svm.fit(X_train, y_train)\n",
    "\n",
    "pred = list(svm.predict(X_test))\n",
    "\n",
    "print(f'Accuracy: {accuracy(y_test, pred)}')\n",
    "print(f'Precession: {precession(y_test, pred)}')\n",
    "print(f'Recall: {recall(y_test, pred)}')\n",
    "print(f'F1: {f1(y_test, pred)}')"
   ]
  },
  {
   "cell_type": "markdown",
   "id": "b08d8953",
   "metadata": {},
   "source": [
    "# Visualisation"
   ]
  },
  {
   "cell_type": "code",
   "execution_count": 33,
   "id": "606b3af5",
   "metadata": {},
   "outputs": [],
   "source": [
    "class Visual:\n",
    "    def __init__(self, X, y, svm):\n",
    "        pca = PCA(n_components=2)\n",
    "        X_reduced = pca.fit_transform(X)\n",
    "\n",
    "        plt.figure(figsize=(10, 6))\n",
    "        plt.scatter(X_reduced[y == 1, 0], X_reduced[y == 1, 1], color='blue', label='1', alpha=0.7)\n",
    "        plt.scatter(X_reduced[y == -1, 0], X_reduced[y == -1, 1], color='red', label='-1', alpha=0.7)\n",
    "\n",
    "        X_support_reduced = pca.transform(svm.support_vectors)\n",
    "        plt.scatter(X_support_reduced[:, 0], X_support_reduced[:, 1], facecolors='none', edgecolors='k', s=100, label='Опорные вектора')\n",
    "\n",
    "        point = pca.transform(svm.weights[None, :])\n",
    "#         x = float(point[0][0])\n",
    "#         y = float(point[0][1])\n",
    "#         b = svm.b\n",
    "#         k = (y - b) / x\n",
    "        x = [-4, 2]\n",
    "        y = [_ * point[0][1] + point[0][0] for _ in x]\n",
    "        plt.plot(x, y)\n",
    "\n",
    "        plt.title('SVM')\n",
    "        plt.legend(loc='best')\n",
    "        plt.grid()\n",
    "        plt.show()"
   ]
  },
  {
   "cell_type": "code",
   "execution_count": 34,
   "id": "84d4683d",
   "metadata": {},
   "outputs": [],
   "source": [
    "svm = SVM(kernel='linear')\n",
    "svm.fit(X_train, y_train)\n",
    "\n",
    "y_pred = svm.predict(X_test)\n",
    "y_test_visual = np.where(np.array(y_test) == 0, -1, 1)"
   ]
  },
  {
   "cell_type": "code",
   "execution_count": 35,
   "id": "45b3cd2d",
   "metadata": {},
   "outputs": [
    {
     "name": "stderr",
     "output_type": "stream",
     "text": [
      "C:\\Users\\makso\\anaconda3\\Lib\\site-packages\\sklearn\\base.py:464: UserWarning: X does not have valid feature names, but PCA was fitted with feature names\n",
      "  warnings.warn(\n",
      "C:\\Users\\makso\\anaconda3\\Lib\\site-packages\\sklearn\\base.py:464: UserWarning: X does not have valid feature names, but PCA was fitted with feature names\n",
      "  warnings.warn(\n"
     ]
    },
    {
     "name": "stdout",
     "output_type": "stream",
     "text": [
      "(1, 4)\n"
     ]
    },
    {
     "data": {
      "image/png": "[encoded data removed]",
      "text/plain": [
       "<Figure size 1000x600 with 1 Axes>"
      ]
     },
     "metadata": {},
     "output_type": "display_data"
    },
    {
     "data": {
      "text/plain": [
       "<__main__.Visual at 0x27088e43b90>"
      ]
     },
     "execution_count": 35,
     "metadata": {},
     "output_type": "execute_result"
    }
   ],
   "source": [
    "Visual(X_test, y_test_visual, svm)"
   ]
  }
 ],
 "metadata": {
  "kernelspec": {
   "display_name": "Python 3 (ipykernel)",
   "language": "python",
   "name": "python3"
  },
  "language_info": {
   "codemirror_mode": {
    "name": "ipython",
    "version": 3
   },
   "file_extension": ".py",
   "mimetype": "text/x-python",
   "name": "python",
   "nbconvert_exporter": "python",
   "pygments_lexer": "ipython3",
   "version": "3.11.5"
  }
 },
 "nbformat": 4,
 "nbformat_minor": 5
}
