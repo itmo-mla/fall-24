{
 "cells": [
  {
   "cell_type": "code",
   "execution_count": 1,
   "id": "19c821d8",
   "metadata": {},
   "outputs": [],
   "source": [
    "import pandas as pd\n",
    "import numpy as np\n",
    "import matplotlib.pyplot as plt\n",
    "from random import randint\n",
    "import pandas as pd\n",
    "\n",
    "from sklearn.model_selection import train_test_split\n",
    "from sklearn import preprocessing\n",
    "from sklearn.linear_model import SGDClassifier"
   ]
  },
  {
   "cell_type": "markdown",
   "id": "24a8e125",
   "metadata": {},
   "source": [
    "# Загрузка данных"
   ]
  },
  {
   "cell_type": "code",
   "execution_count": 2,
   "id": "e982d874",
   "metadata": {},
   "outputs": [],
   "source": [
    "class Loader:\n",
    "    def __init__(self):\n",
    "        self.data = pd.read_csv(r\"iris.csv\")[0:100]\n",
    "\n",
    "        le = preprocessing.LabelEncoder()\n",
    "        self.data['species'] = le.fit_transform(self.data['species'])\n",
    "\n",
    "        X = self.data.drop(['species'], axis=1)\n",
    "        y = self.data['species']\n",
    "\n",
    "        self.X_train, self.X_test, self.y_train, self.y_test = train_test_split(X, y, test_size=0.25, random_state=24)"
   ]
  },
  {
   "cell_type": "code",
   "execution_count": 3,
   "id": "968dbcd0",
   "metadata": {},
   "outputs": [],
   "source": [
    "loader = Loader()\n",
    "X_train, X_test, y_train, y_test = loader.X_train, loader.X_test, loader.y_train, loader.y_test"
   ]
  },
  {
   "cell_type": "markdown",
   "id": "4a17d10e",
   "metadata": {},
   "source": [
    "# Метрики"
   ]
  },
  {
   "cell_type": "code",
   "execution_count": 4,
   "id": "94795a0e",
   "metadata": {},
   "outputs": [],
   "source": [
    "#accuracy\n",
    "\n",
    "def accuracy(y_test, y_pred):\n",
    "    compare_df = pd.DataFrame({'y': list(y_test), 'y_pred': y_pred})\n",
    "    \n",
    "    TP = compare_df.loc[(compare_df['y'] == 1) & (compare_df['y_pred'] == 1)]\n",
    "    FP = compare_df.loc[(compare_df['y'] == 0) & (compare_df['y_pred'] == 1)]\n",
    "    FN = compare_df.loc[(compare_df['y'] == 1) & (compare_df['y_pred'] == 0)]\n",
    "    TN = compare_df.loc[(compare_df['y'] == 0) & (compare_df['y_pred'] == 0)]\n",
    "    \n",
    "    return (len(TP) + len(TN)) / len(compare_df)\n",
    "\n",
    "#precession\n",
    "\n",
    "def precession(y_test, y_pred):\n",
    "    compare_df = pd.DataFrame({'y': (y_test), 'y_pred': y_pred})\n",
    "    \n",
    "    TP = compare_df.loc[(compare_df['y'] == 1) & (compare_df['y_pred'] == 1)]\n",
    "    FP = compare_df.loc[(compare_df['y'] == 0) & (compare_df['y_pred'] == 1)]\n",
    "    FN = compare_df.loc[(compare_df['y'] == 1) & (compare_df['y_pred'] == 0)]\n",
    "    TN = compare_df.loc[(compare_df['y'] == 0) & (compare_df['y_pred'] == 0)]\n",
    "    \n",
    "    return len(TP) / (len(TP) + len(FP))\n",
    "\n",
    "#recall\n",
    "\n",
    "def recall(y_test, y_pred):\n",
    "    compare_df = pd.DataFrame({'y': list(y_test), 'y_pred': y_pred})\n",
    "    \n",
    "    TP = compare_df.loc[(compare_df['y'] == 1) & (compare_df['y_pred'] == 1)]\n",
    "    FP = compare_df.loc[(compare_df['y'] == 0) & (compare_df['y_pred'] == 1)]\n",
    "    FN = compare_df.loc[(compare_df['y'] == 1) & (compare_df['y_pred'] == 0)]\n",
    "    TN = compare_df.loc[(compare_df['y'] == 0) & (compare_df['y_pred'] == 0)]\n",
    "    \n",
    "    return len(TP) / (len(TP) + len(FN))\n",
    "                                    \n",
    "#f1\n",
    "\n",
    "def f1(y_test, y_pred):\n",
    "    compare_df = pd.DataFrame({'y': list(y_test), 'y_pred': y_pred})\n",
    "    \n",
    "    TP = compare_df.loc[(compare_df['y'] == 1) & (compare_df['y_pred'] == 1)]\n",
    "    FP = compare_df.loc[(compare_df['y'] == 0) & (compare_df['y_pred'] == 1)]\n",
    "    FN = compare_df.loc[(compare_df['y'] == 1) & (compare_df['y_pred'] == 0)]\n",
    "    TN = compare_df.loc[(compare_df['y'] == 0) & (compare_df['y_pred'] == 0)]\n",
    "    \n",
    "    precession_ = precession(y_test, y_pred)\n",
    "    recall_ = recall(y_test, y_pred)\n",
    "    return 2 * precession_ * recall_ / (recall_+ precession_)"
   ]
  },
  {
   "cell_type": "markdown",
   "id": "737fa0e2",
   "metadata": {},
   "source": [
    "# Линейный классификатор"
   ]
  },
  {
   "cell_type": "code",
   "execution_count": 7,
   "id": "29489bbf",
   "metadata": {},
   "outputs": [],
   "source": [
    "class LinearClassifier:\n",
    "    def __init__(self):\n",
    "        self.weights = None\n",
    "        self.v = None\n",
    "        self.num_samples = None\n",
    "        self.num_features = None\n",
    "        self.loss = None\n",
    "        self.learning_rate = None\n",
    "        self.delta = None\n",
    "        self.momentum = None\n",
    "        self.lambda_reg = None\n",
    "        self.optimizer = None\n",
    "        self.t = None\n",
    "        self.M = None\n",
    "        self.w = None\n",
    "\n",
    "    def __call__(self, lr, a, lambda_reg, delta, optimizer, t, w, M=False):\n",
    "        self.learning_rate = lr\n",
    "        self.delta = delta\n",
    "        self.momentum = a\n",
    "        self.lambda_reg = lambda_reg\n",
    "        self.optimizer = optimizer\n",
    "        self.t = t\n",
    "        self.M = M\n",
    "        self.w = w\n",
    "\n",
    "    def init_weights(self, X, y):\n",
    "        if self.w == 'corr':\n",
    "            X = np.array(X)\n",
    "            f = np.sum(X, axis=0)\n",
    "            self.weights = np.sum(y) * f / (f * f)\n",
    "            self.v = np.zeros(self.num_features) * 0.01\n",
    "        else:\n",
    "            self.weights = np.random.rand(self.num_features) * 0.01\n",
    "            self.v = np.zeros(self.num_features) * 0.01\n",
    "\n",
    "    def fit(self, X, y):\n",
    "        if self.w != 'multi':\n",
    "            self.feedforward(X, y)\n",
    "        else:\n",
    "            loss = []\n",
    "            w = []\n",
    "\n",
    "            for i in range(5):\n",
    "                self.feedforward(X, y)\n",
    "                loss.append(np.mean(self.loss))\n",
    "                w.append(self.weights)\n",
    "\n",
    "            min_loss = 1\n",
    "            for _ in loss:\n",
    "                if _ < min_loss:\n",
    "                    min_loss = _\n",
    "\n",
    "            self.weights = w[loss.index(min_loss)]\n",
    "\n",
    "    def feedforward(self, X, y):\n",
    "        self.num_samples, self.num_features = X.shape\n",
    "        self.init_weights(X, y)\n",
    "\n",
    "        X = np.array(X)\n",
    "        y_ = np.where(np.array(y) <= 0, -1, 1)\n",
    "\n",
    "        q = [self.count_q(X, y_), self.count_q(X, y_)]\n",
    "\n",
    "        median = None\n",
    "        q1 = None\n",
    "        q3 = None\n",
    "        if self.M is True:\n",
    "            g = self.margin(X, y_)\n",
    "            g = [abs(_) for _ in g]\n",
    "            median = g.index(float(np.median(g)))\n",
    "\n",
    "            elem = g[0]\n",
    "            delta = 0.000001\n",
    "\n",
    "            num = float(np.quantile(g, 0.25))\n",
    "            for _ in g:\n",
    "                if _ - num < delta:\n",
    "                    elem = _\n",
    "            q1 = g.index(elem)\n",
    "            num = float(np.quantile(g, 0.75))\n",
    "            for _ in g:\n",
    "                if _ - num < delta:\n",
    "                    elem = _\n",
    "            q3 = g.index(elem)\n",
    "\n",
    "        self.loss = []\n",
    "\n",
    "        while abs(q[-1] - q[-2]) > self.delta:\n",
    "            if self.M is False:\n",
    "                i = randint(0, self.num_samples - 1)\n",
    "            else:\n",
    "                i = randint(0, self.num_samples - 1)\n",
    "                if i < q1:\n",
    "                    i = randint(0, q1)\n",
    "                elif q1 < i < median:\n",
    "                    i = randint(q1, median)\n",
    "                elif median > i > q3:\n",
    "                    i = randint(median, q3)\n",
    "                else:\n",
    "                    i = randint(median, self.num_samples - 1)\n",
    "\n",
    "            X_butch = X[i]\n",
    "            y_butch = y_[i]\n",
    "\n",
    "            M = self.count_margin(X_butch, y_butch)\n",
    "            self.loss.append((1 - M) ** 2)\n",
    "\n",
    "            dloss = self.dcount_margin(X_butch, y_butch)\n",
    "            grad_w = self.backward(X_butch, y_butch, dloss)\n",
    "            self.update_params(grad_w, X_butch)\n",
    "\n",
    "            q.append(self.lambda_reg * M + (1 - self.lambda_reg) * q[-1])\n",
    "\n",
    "    def count_margin(self, X, y):\n",
    "        return np.dot(self.weights, X.T) * y\n",
    "\n",
    "    def dcount_margin(self, X, y):\n",
    "        return - 2 * (1 - self.count_margin(X, y))\n",
    "\n",
    "    @staticmethod\n",
    "    def backward(X, y, dloss):\n",
    "        grad_w = np.dot(X, dloss) * y\n",
    "        return grad_w\n",
    "\n",
    "    def update_params(self, grad_w, X):\n",
    "        if self.optimizer == 'momentum':\n",
    "            self.v = self.momentum * self.v - self.learning_rate * grad_w\n",
    "            self.weights += self.v\n",
    "        elif self.optimizer == 'l2':\n",
    "            self.weights -= (grad_w + self.weights * self.t) * self.learning_rate\n",
    "        elif self.optimizer == 'fast':\n",
    "            self.learning_rate = 1.0 / (np.sum(X * X) + 1e-8)\n",
    "            self.weights -= grad_w * self.learning_rate\n",
    "        else:\n",
    "            self.weights -= grad_w * self.learning_rate\n",
    "\n",
    "    def predict(self, X):\n",
    "        X = np.array(X)\n",
    "        pred = []\n",
    "        for i in range(len(X)):\n",
    "            linear_output = np.dot(X[i], self.weights) - 0.1\n",
    "            pred.append(int(self.sign(linear_output)))\n",
    "        return pd.Series(np.where(np.array(pred) >= 0, 1, 0))\n",
    "\n",
    "    @staticmethod\n",
    "    def sign(x):\n",
    "        return np.where(x >= 0, 1, -1)\n",
    "\n",
    "    def count_q(self, X, y):\n",
    "        i = randint(0, self.num_samples-1)\n",
    "        return self.count_margin(X[i], y[i])\n",
    "\n",
    "    def margin(self, X, y):\n",
    "        if isinstance(X, pd.DataFrame):\n",
    "            X = np.array(X)\n",
    "            y = np.where(np.array(y) <= 0, -1, 1)\n",
    "\n",
    "        self.num_samples, self.num_features = X.shape\n",
    "        g = []\n",
    "        self.init_weights(X, y)\n",
    "\n",
    "        for i in range(self.num_samples):\n",
    "            X_butch = X[i]\n",
    "            y_butch = y[i]\n",
    "\n",
    "            g.append(float((np.dot(X_butch, self.weights)) * y_butch))\n",
    "        return g\n",
    "\n",
    "    @staticmethod\n",
    "    def visualize(X, y):\n",
    "        X = np.array(X)\n",
    "        y = np.where(np.array(y) <= 0, -1, 1)\n",
    "        \n",
    "        num_samples, num_features = X.shape\n",
    "        g = []\n",
    "        weights = np.random.rand(num_features)\n",
    "\n",
    "        for i in range(num_samples):\n",
    "            X_butch = X[i]\n",
    "            y_butch = y[i]\n",
    "\n",
    "            g.append(float((np.dot(X_butch, weights)) * y_butch))\n",
    "\n",
    "        # Визуализация данных\n",
    "        plt.figure(figsize=(10, 6))\n",
    "\n",
    "        # Отображение точек данных\n",
    "        for i in range(len(y)):\n",
    "            if y[i] == 1:\n",
    "                plt.scatter(X[i][0], X[i][1], color='blue', marker='o',\n",
    "                            label='1' if '1' not in plt.gca().get_legend_handles_labels()[1] else \"\")\n",
    "            else:\n",
    "                plt.scatter(X[i][0], X[i][1], color='red', marker='x',\n",
    "                            label='-1' if '-1' not in plt.gca().get_legend_handles_labels()[1] else \"\")\n",
    "\n",
    "        # Визуализация границы принятия решения\n",
    "        x_values = np.linspace(min(X[:, 0]) - 1, max(X[:, 0]) + 1, X.shape[0])\n",
    "        g.sort()\n",
    "        y_values = g\n",
    "        plt.plot(x_values, y_values, color='green', label='Граница')\n",
    "\n",
    "        plt.title('Отступ')\n",
    "        plt.grid(color='gray', linestyle='--', linewidth=0.5)\n",
    "        plt.legend()\n",
    "        plt.show()"
   ]
  },
  {
   "cell_type": "markdown",
   "id": "f5e1afb9",
   "metadata": {},
   "source": [
    "# Визаулизация отступа"
   ]
  },
  {
   "cell_type": "code",
   "execution_count": 8,
   "id": "c1f355dc",
   "metadata": {},
   "outputs": [],
   "source": [
    "classifier = LinearClassifier()"
   ]
  },
  {
   "cell_type": "code",
   "execution_count": 9,
   "id": "5e0edfc5",
   "metadata": {},
   "outputs": [
    {
     "data": {
      "image/png": "[encoded data removed]",
      "text/plain": [
       "<Figure size 1000x600 with 1 Axes>"
      ]
     },
     "metadata": {},
     "output_type": "display_data"
    }
   ],
   "source": [
    "classifier.visualize(X_train, y_train)"
   ]
  },
  {
   "cell_type": "markdown",
   "id": "5535d424",
   "metadata": {},
   "source": [
    "# SG"
   ]
  },
  {
   "cell_type": "code",
   "execution_count": 38,
   "id": "ffb190f8",
   "metadata": {},
   "outputs": [
    {
     "name": "stdout",
     "output_type": "stream",
     "text": [
      "Accuracy: 1.0\n",
      "Precession: 1.0\n",
      "Recall: 1.0\n",
      "F1: 1.0\n",
      "CPU times: total: 93.8 ms\n",
      "Wall time: 122 ms\n"
     ]
    }
   ],
   "source": [
    "%%time\n",
    "classifier(lr=0.01, a=0.01, lambda_reg=0.0001, delta=0.0000001, optimizer='sgd', t=0.9, M=False, w='random')\n",
    "classifier.fit(X_train, y_train)\n",
    "pred = classifier.predict(X_test)\n",
    "print(f'Accuracy: {accuracy(y_test, pred)}')\n",
    "print(f'Precession: {precession(y_test, pred)}')\n",
    "print(f'Recall: {recall(y_test, pred)}')\n",
    "print(f'F1: {f1(y_test, pred)}')"
   ]
  },
  {
   "cell_type": "markdown",
   "id": "80b43132",
   "metadata": {},
   "source": [
    "# Momentum"
   ]
  },
  {
   "cell_type": "code",
   "execution_count": 39,
   "id": "15f6cb5f",
   "metadata": {},
   "outputs": [
    {
     "name": "stdout",
     "output_type": "stream",
     "text": [
      "Accuracy: 1.0\n",
      "Precession: 1.0\n",
      "Recall: 1.0\n",
      "F1: 1.0\n",
      "CPU times: total: 62.5 ms\n",
      "Wall time: 64.3 ms\n"
     ]
    }
   ],
   "source": [
    "%%time\n",
    "classifier(lr=0.01, a=0.01, lambda_reg=0.0001, delta=0.0000001, optimizer='momentum', t=0.9, M=False, w='random')\n",
    "classifier.fit(X_train, y_train)\n",
    "pred = classifier.predict(X_test)\n",
    "print(f'Accuracy: {accuracy(y_test, pred)}')\n",
    "print(f'Precession: {precession(y_test, pred)}')\n",
    "print(f'Recall: {recall(y_test, pred)}')\n",
    "print(f'F1: {f1(y_test, pred)}')"
   ]
  },
  {
   "cell_type": "markdown",
   "id": "78691b11",
   "metadata": {},
   "source": [
    "# L2"
   ]
  },
  {
   "cell_type": "code",
   "execution_count": 40,
   "id": "9573dd3c",
   "metadata": {},
   "outputs": [
    {
     "name": "stdout",
     "output_type": "stream",
     "text": [
      "Accuracy: 1.0\n",
      "Precession: 1.0\n",
      "Recall: 1.0\n",
      "F1: 1.0\n",
      "CPU times: total: 15.6 ms\n",
      "Wall time: 49.3 ms\n"
     ]
    }
   ],
   "source": [
    "%%time\n",
    "classifier(lr=0.01, a=0.01, lambda_reg=0.0001, delta=0.0000001, optimizer='l2', t=0.9, M=False, w='random')\n",
    "classifier.fit(X_train, y_train)\n",
    "pred = classifier.predict(X_test)\n",
    "print(f'Accuracy: {accuracy(y_test, pred)}')\n",
    "print(f'Precession: {precession(y_test, pred)}')\n",
    "print(f'Recall: {recall(y_test, pred)}')\n",
    "print(f'F1: {f1(y_test, pred)}')"
   ]
  },
  {
   "cell_type": "markdown",
   "id": "3cf301ae",
   "metadata": {},
   "source": [
    "# Fast"
   ]
  },
  {
   "cell_type": "code",
   "execution_count": 41,
   "id": "f559b66f",
   "metadata": {},
   "outputs": [
    {
     "name": "stdout",
     "output_type": "stream",
     "text": [
      "Accuracy: 1.0\n",
      "Precession: 1.0\n",
      "Recall: 1.0\n",
      "F1: 1.0\n",
      "CPU times: total: 78.1 ms\n",
      "Wall time: 124 ms\n"
     ]
    }
   ],
   "source": [
    "%%time\n",
    "classifier(lr=0.01, a=0.01, lambda_reg=0.0001, delta=0.0000001, optimizer='fast', t=0.9, M=False, w='random')\n",
    "classifier.fit(X_train, y_train)\n",
    "pred = classifier.predict(X_test)\n",
    "print(f'Accuracy: {accuracy(y_test, pred)}')\n",
    "print(f'Precession: {precession(y_test, pred)}')\n",
    "print(f'Recall: {recall(y_test, pred)}')\n",
    "print(f'F1: {f1(y_test, pred)}')"
   ]
  },
  {
   "cell_type": "markdown",
   "id": "4567c65e",
   "metadata": {},
   "source": [
    "# Отступ по модулю"
   ]
  },
  {
   "cell_type": "code",
   "execution_count": 42,
   "id": "29cb2303",
   "metadata": {},
   "outputs": [
    {
     "name": "stdout",
     "output_type": "stream",
     "text": [
      "Accuracy: 1.0\n",
      "Precession: 1.0\n",
      "Recall: 1.0\n",
      "F1: 1.0\n",
      "CPU times: total: 62.5 ms\n",
      "Wall time: 196 ms\n"
     ]
    }
   ],
   "source": [
    "%%time\n",
    "classifier(lr=0.01, a=0.01, lambda_reg=0.0001, delta=0.0000001, optimizer='sgd', t=0.9, M=True, w='random')\n",
    "classifier.fit(X_train, y_train)\n",
    "pred = classifier.predict(X_test)\n",
    "print(f'Accuracy: {accuracy(y_test, pred)}')\n",
    "print(f'Precession: {precession(y_test, pred)}')\n",
    "print(f'Recall: {recall(y_test, pred)}')\n",
    "print(f'F1: {f1(y_test, pred)}')"
   ]
  },
  {
   "cell_type": "markdown",
   "id": "eebb702f",
   "metadata": {},
   "source": [
    "# Инициализация весов через корреляцию"
   ]
  },
  {
   "cell_type": "code",
   "execution_count": 44,
   "id": "f596154b",
   "metadata": {},
   "outputs": [
    {
     "name": "stdout",
     "output_type": "stream",
     "text": [
      "Accuracy: 1.0\n",
      "Precession: 1.0\n",
      "Recall: 1.0\n",
      "F1: 1.0\n",
      "CPU times: total: 125 ms\n",
      "Wall time: 275 ms\n"
     ]
    }
   ],
   "source": [
    "%%time\n",
    "classifier(lr=0.01, a=0.01, lambda_reg=0.0001, delta=0.0000001, optimizer='sgd', t=0.9, M=False, w='corr')\n",
    "classifier.fit(X_train, y_train)\n",
    "pred = classifier.predict(X_test)\n",
    "print(f'Accuracy: {accuracy(y_test, pred)}')\n",
    "print(f'Precession: {precession(y_test, pred)}')\n",
    "print(f'Recall: {recall(y_test, pred)}')\n",
    "print(f'F1: {f1(y_test, pred)}')"
   ]
  },
  {
   "cell_type": "markdown",
   "id": "2fcb08cb",
   "metadata": {},
   "source": [
    "# Мультистарт"
   ]
  },
  {
   "cell_type": "code",
   "execution_count": 45,
   "id": "7c8b6a71",
   "metadata": {},
   "outputs": [
    {
     "name": "stdout",
     "output_type": "stream",
     "text": [
      "Accuracy: 1.0\n",
      "Precession: 1.0\n",
      "Recall: 1.0\n",
      "F1: 1.0\n",
      "CPU times: total: 93.8 ms\n",
      "Wall time: 521 ms\n"
     ]
    }
   ],
   "source": [
    "%%time\n",
    "classifier(lr=0.01, a=0.01, lambda_reg=0.0001, delta=0.0000001, optimizer='sgd', t=0.9, M=False, w='multi')\n",
    "classifier.fit(X_train, y_train)\n",
    "pred = classifier.predict(X_test)\n",
    "print(f'Accuracy: {accuracy(y_test, pred)}')\n",
    "print(f'Precession: {precession(y_test, pred)}')\n",
    "print(f'Recall: {recall(y_test, pred)}')\n",
    "print(f'F1: {f1(y_test, pred)}')"
   ]
  },
  {
   "cell_type": "markdown",
   "id": "53e5b57c",
   "metadata": {},
   "source": [
    "# Библиотека"
   ]
  },
  {
   "cell_type": "code",
   "execution_count": 48,
   "id": "fc54f421",
   "metadata": {},
   "outputs": [
    {
     "name": "stdout",
     "output_type": "stream",
     "text": [
      "Accuracy: 1.0\n",
      "Precession: 1.0\n",
      "Recall: 1.0\n",
      "F1: 1.0\n",
      "CPU times: total: 0 ns\n",
      "Wall time: 25.8 ms\n"
     ]
    }
   ],
   "source": [
    "%%time\n",
    "clf = SGDClassifier(loss=\"hinge\", penalty=\"l2\", max_iter=20)\n",
    "clf.fit(X_train, y_train)\n",
    "pred = clf.predict(X_test)\n",
    "print(f'Accuracy: {accuracy(y_test, pred)}')\n",
    "print(f'Precession: {precession(y_test, pred)}')\n",
    "print(f'Recall: {recall(y_test, pred)}')\n",
    "print(f'F1: {f1(y_test, pred)}')"
   ]
  }
 ],
 "metadata": {
  "kernelspec": {
   "display_name": "Python 3 (ipykernel)",
   "language": "python",
   "name": "python3"
  },
  "language_info": {
   "codemirror_mode": {
    "name": "ipython",
    "version": 3
   },
   "file_extension": ".py",
   "mimetype": "text/x-python",
   "name": "python",
   "nbconvert_exporter": "python",
   "pygments_lexer": "ipython3",
   "version": "3.11.5"
  }
 },
 "nbformat": 4,
 "nbformat_minor": 5
}
