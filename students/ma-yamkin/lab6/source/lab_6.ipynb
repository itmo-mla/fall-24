{
 "cells": [
  {
   "cell_type": "code",
   "execution_count": 2,
   "id": "df9f19e9",
   "metadata": {},
   "outputs": [],
   "source": [
    "import pandas as pd\n",
    "from sklearn.model_selection import train_test_split\n",
    "import numpy as np\n",
    "from sklearn.linear_model import Ridge\n",
    "from sklearn.preprocessing import StandardScaler"
   ]
  },
  {
   "cell_type": "markdown",
   "id": "81538507",
   "metadata": {},
   "source": [
    "# Загрузка данных"
   ]
  },
  {
   "cell_type": "code",
   "execution_count": 3,
   "id": "cd6db1ce",
   "metadata": {},
   "outputs": [],
   "source": [
    "class Loader:\n",
    "    def __init__(self):\n",
    "        data = pd.read_csv('bikes_rent.csv')\n",
    "\n",
    "        data = data.dropna()\n",
    "        \n",
    "        features = data.drop(columns=['cnt'], axis=1)\n",
    "        target = data['cnt']\n",
    "\n",
    "        self.X_train, self.X_test, self.y_train, self.y_test = train_test_split(features, target, test_size=0.3, random_state=12)"
   ]
  },
  {
   "cell_type": "code",
   "execution_count": 4,
   "id": "c10275a2",
   "metadata": {},
   "outputs": [],
   "source": [
    "loader = Loader()\n",
    "X_train, X_test, y_train, y_test = loader.X_train, loader.X_test, loader.y_train, loader.y_test"
   ]
  },
  {
   "cell_type": "markdown",
   "id": "17378056",
   "metadata": {},
   "source": [
    "# Метрики"
   ]
  },
  {
   "cell_type": "code",
   "execution_count": 5,
   "id": "c6d4e6a1",
   "metadata": {},
   "outputs": [],
   "source": [
    "# mse\n",
    "def mse(y_pred, y_targ):\n",
    "    y_pred = np.array(y_pred)\n",
    "    y_targ = np.array(y_targ)\n",
    "    return np.mean(np.square(y_targ - y_pred))\n",
    "\n",
    "# rmse\n",
    "def rmse(y_pred, y_targ):\n",
    "    y_pred = np.array(y_pred)\n",
    "    y_targ = np.array(y_targ)\n",
    "    return (np.sum((y_targ - y_pred) ** 2) / len(y_pred)) ** 0.5\n",
    "\n",
    "# r2\n",
    "def r2(y_pred, y_targ):\n",
    "    y_pred = np.array(y_pred)\n",
    "    y_targ = np.array(y_targ)\n",
    "    \n",
    "    sse = np.sum((y_pred - y_targ) ** 2)\n",
    "    sst = np.sum((y_pred - np.mean(y_pred)) ** 2)\n",
    "    return abs(1 - sse / sst)"
   ]
  },
  {
   "cell_type": "markdown",
   "id": "749c667a",
   "metadata": {},
   "source": [
    "# Модель"
   ]
  },
  {
   "cell_type": "code",
   "execution_count": 6,
   "id": "211ec306",
   "metadata": {},
   "outputs": [],
   "source": [
    "class RidgeRegression:\n",
    "    def __init__(self, alpha=1.0):\n",
    "        self.alpha = alpha\n",
    "        self.coef_ = None\n",
    "\n",
    "    def train(self, X, y):\n",
    "        X = np.array(X)\n",
    "        y = np.array(y)\n",
    "\n",
    "        U, S, Vt = np.linalg.svd(X, full_matrices=False)\n",
    "\n",
    "        S_reg = np.diag(S / (S ** 2 + self.alpha))\n",
    "\n",
    "        self.coef_ = Vt.T @ S_reg @ U.T @ y\n",
    "\n",
    "    def predict(self, X):\n",
    "        return np.array(X) @ self.coef_\n",
    "\n",
    "    @staticmethod\n",
    "    def select_optimal_alpha(X, y, alphas):\n",
    "        best_alpha = None\n",
    "        best_error = float('inf')\n",
    "\n",
    "        for alpha in alphas:\n",
    "            model = RidgeRegression(alpha=alpha)\n",
    "            model.train(X, y)\n",
    "            predictions = model.predict(X)\n",
    "            error = np.mean((y - predictions) ** 2)\n",
    "\n",
    "            if error < best_error:\n",
    "                best_error = error\n",
    "                best_alpha = alpha\n",
    "\n",
    "        return best_alpha"
   ]
  },
  {
   "cell_type": "code",
   "execution_count": 7,
   "id": "360b6607",
   "metadata": {},
   "outputs": [],
   "source": [
    "# подбор регулязационного параметра\n",
    "alphas = [0.1, 1, 10, 100]\n",
    "optimal_alpha = RidgeRegression.select_optimal_alpha(X_train, y_train, alphas)"
   ]
  },
  {
   "cell_type": "code",
   "execution_count": 8,
   "id": "8b57c0e5",
   "metadata": {},
   "outputs": [
    {
     "name": "stdout",
     "output_type": "stream",
     "text": [
      "r2: 0.7788606268120315\n",
      "mse: 798058.4887337552\n",
      "rmse: 893.341193908439\n",
      "CPU times: total: 0 ns\n",
      "Wall time: 2.99 ms\n"
     ]
    }
   ],
   "source": [
    "%%time\n",
    "# ручной алгоритм\n",
    "model = RidgeRegression(alpha=optimal_alpha)\n",
    "model.train(X_train, y_train)\n",
    "pred = pd.Series(model.predict(X_test))\n",
    "print(f'r2: {r2(pred, y_test)}')\n",
    "print(f'mse: {mse(pred, y_test)}')\n",
    "print(f'rmse: {rmse(pred, y_test)}')"
   ]
  },
  {
   "cell_type": "code",
   "execution_count": 9,
   "id": "5b09bfbf",
   "metadata": {},
   "outputs": [
    {
     "name": "stdout",
     "output_type": "stream",
     "text": [
      "r2: 0.7800864825953512\n",
      "mse: 729181.039387566\n",
      "rmse: 853.9209795921201\n",
      "CPU times: total: 15.6 ms\n",
      "Wall time: 15.6 ms\n"
     ]
    }
   ],
   "source": [
    "%%time\n",
    "# библиотечный алгоритм\n",
    "ridge_model = Ridge(alpha=optimal_alpha)\n",
    "ridge_model.fit(X_train, y_train)\n",
    "pred = ridge_model.predict(X_test)\n",
    "print(f'r2: {r2(pred, y_test)}')\n",
    "print(f'mse: {mse(pred, y_test)}')\n",
    "print(f'rmse: {rmse(pred, y_test)}')"
   ]
  }
 ],
 "metadata": {
  "kernelspec": {
   "display_name": "Python 3 (ipykernel)",
   "language": "python",
   "name": "python3"
  },
  "language_info": {
   "codemirror_mode": {
    "name": "ipython",
    "version": 3
   },
   "file_extension": ".py",
   "mimetype": "text/x-python",
   "name": "python",
   "nbconvert_exporter": "python",
   "pygments_lexer": "ipython3",
   "version": "3.11.5"
  }
 },
 "nbformat": 4,
 "nbformat_minor": 5
}
