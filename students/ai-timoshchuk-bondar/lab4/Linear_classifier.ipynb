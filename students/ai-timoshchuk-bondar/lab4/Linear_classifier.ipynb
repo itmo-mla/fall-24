{
 "cells": [
  {
   "cell_type": "code",
   "execution_count": 70,
   "metadata": {},
   "outputs": [],
   "source": [
    "import numpy as np\n",
    "\n",
    "def one_hot(Y: np.ndarray, num_class) -> np.array: # TESDED\n",
    "    one_hot_Y = np.zeros((Y.shape[0], num_class)) \n",
    "    one_hot_Y[np.arange(Y.shape[0]), Y] += 1\n",
    "    return one_hot_Y\n",
    "\n",
    "\n",
    "\n",
    "class LinearClassifier:\n",
    "    def __init__(self, n_features:int, n_classes:int, init_weights:np.array,  lambda_l2:float = 0.1):\n",
    "        self.bias = np.random.rand(n_classes)-0.5\n",
    "        self.Weights = init_weights\n",
    "        self.weights_grad = np.zeros((n_features, n_classes))\n",
    "        self.bias_grad = np.zeros((n_classes))\n",
    "        self.n_classes = n_classes\n",
    "        self.input = None\n",
    "        self.alpha = None\n",
    "        self.lambda_l2 = lambda_l2\n",
    "\n",
    "    def __call__(self, X:np.ndarray):\n",
    "        self.input = X.copy()\n",
    "        self.output = X @ self.Weights + self.bias\n",
    "\n",
    "        return self.output\n",
    "    \n",
    "    def backprop(self, grads_per_class:np.ndarray, Y_pred:np.ndarray, Y_real:np.ndarray):\n",
    "        # print(f\"{self.input=}\")\n",
    "        # print(f\"{grads_per_class=}\")\n",
    "        # print(f\"{self.Weights=}\")\n",
    "        self.weights_grad = self.input.T @ grads_per_class \n",
    "        # print(f\"{Y_pred=}\")\n",
    "        # print(f\"{Y_real=}\")\n",
    "        # print(f\"{self.weights_grad=}\")\n",
    "        logits_updated = self.input @ self.weights_grad\n",
    "\n",
    "        numerator = np.sum(np.array([np.sum((Y_pred[:, i] - (Y_real[:, i]==1)) * logits_updated[:,i]) for i in range(self.Weights.shape[1])]))\n",
    "        denominator = np.sum(np.array([np.sum(logits_updated[:, i] ** 2) for i in range(self.Weights.shape[1])]))\n",
    "\n",
    "\n",
    "        self.alpha = numerator / denominator #if denominator != 0 else 0.0\n",
    "        # print(self.alpha)\n",
    "        self.weights_grad += 2 * self.lambda_l2 * self.Weights\n",
    "        # print(f\"{self.weights_grad=}\")\n",
    "        self.bias_grad = np.sum(grads_per_class, axis=0)\n",
    "\n",
    "\n",
    "    def apply_grad(self):\n",
    "        self.Weights -= self.weights_grad\n",
    "        self.bias -= self.bias_grad\n",
    "\n",
    "\n",
    "\n",
    "\n",
    "\n",
    "class LinearLoss:\n",
    "    def __init__(self, n_classes:int, loss_type:str = \"sigmoid\", lr:float = 0.001):\n",
    "        self.n_classes = n_classes\n",
    "        self.loss_type = loss_type\n",
    "        self.lr = lr\n",
    "        self.Y_real = None\n",
    "    \n",
    "    def sigmoid(self, X:np.ndarray):\n",
    "         return 1 / (1 + np.exp(-X))\n",
    "    \n",
    "    def __call__(self, Y_logit:np.ndarray, Y_real:np.ndarray):\n",
    "        Y_real = one_hot(Y_real, self.n_classes)\n",
    "        self.Y_real = Y_real\n",
    "        # print(f\"{Y_real=}\")\n",
    "\n",
    "        if self.loss_type == \"sigmoid\":\n",
    "            self.Y_pred = self.sigmoid(Y_logit)\n",
    "            gradient_func = lambda y_pred, y_real: (y_pred - y_real)\n",
    "\n",
    "        \n",
    "        \n",
    "\n",
    "        return np.array([gradient_func(self.Y_pred[:, i], self.Y_real[:, i]==1) for i in range(self.n_classes)]).T, self.Y_pred, self.Y_real\n",
    "\n",
    "    def get_loss(self):\n",
    "        loss = np.sum([-(self.Y_real[:, i]==1).astype(int) * np.log(self.Y_pred[:, i]) - (1 - (self.Y_real[:, i]==1).astype(int)) * np.log(1 - self.Y_pred[:, i]) for i in range(self.n_classes)])\n",
    "        return loss\n",
    "    \n",
    "\n",
    "\n",
    "class BatchGenerator:  # TESTED\n",
    "    def __init__(self, X: np.ndarray, Y: np.ndarray, batch_size: int, linear:LinearClassifier, loss_fn:LinearLoss, shuffle: bool = True, ):\n",
    "        \"\"\"\n",
    "        X: np.ndarray\n",
    "            Входные данные, размеры [n_samples, n_features]\n",
    "        Y: np.ndarray\n",
    "            Метки данных, размеры [n_samples] или [n_samples, n_classes]\n",
    "        batch_size: int\n",
    "            Размер мини-батча\n",
    "        shuffle: bool\n",
    "            Перемешивать ли данные перед каждой эпохой\n",
    "        \"\"\"\n",
    "        self.X = X\n",
    "        self.Y = Y\n",
    "        self.batch_size = batch_size\n",
    "        self.shuffle = shuffle\n",
    "        self.num_samples = X.shape[0]  # Количество примеров\n",
    "        self.indices = np.arange(self.num_samples)  # Индексы для перемешивания\n",
    "        self.linear = linear\n",
    "        self.Y_real = one_hot(Y, self.linear.n_classes)\n",
    "        self.loss_fn = loss_fn\n",
    "\n",
    "    def __iter__(self):\n",
    "        \"\"\"\n",
    "        Итератор для перебора батчей.\n",
    "        \"\"\"\n",
    "        if self.shuffle:\n",
    "            # print(\"Перемешано\")\n",
    "            # Перемешиваем индексы в начале каждой эпохи\n",
    "            np.random.shuffle(self.indices)\n",
    "        \n",
    "        \n",
    "        # print(self.indices)\n",
    "        # Возвращаем батчи данных\n",
    "        # selected_indices = np.random.choice(np.arange(len(self.X)), size=self.batch_size, p=margin_probabilities)\n",
    "        # margin_probabilities = np.sum(np.array([(self.Y_real[:, i]==1) * self.linear(self.X)[:, i] for i in range(self.linear.n_classes)]),  axis=0)\n",
    "        for start_idx in range(0, self.num_samples - self.batch_size + 1, self.batch_size):\n",
    "            margin_probabilities = 1 / np.sum(np.array([(self.Y_real[:, i]==1) * self.loss_fn.sigmoid(self.linear(self.X))[:, i] for i in range(self.linear.n_classes)]),  axis=0)\n",
    "            margin_probabilities /= np.sum(margin_probabilities)\n",
    "            selected_indices = np.random.choice(self.indices, size=self.batch_size, p=margin_probabilities)\n",
    "            # end_idx = start_idx + self.batch_size  \n",
    "            # batch_indices = self.indices[start_idx:end_idx]\n",
    "            # # print(batch_indices)\n",
    "            # print(self.Y[selected_indices])\n",
    "            yield self.X[selected_indices], self.Y[selected_indices]\n",
    "\n",
    "    def __len__(self):\n",
    "        \"\"\"\n",
    "        Возвращает количество батчей за одну эпоху.\n",
    "        \"\"\"\n",
    "        return (self.num_samples // self.batch_size)\n",
    "\n",
    "\n",
    "class AdamOptimizer:\n",
    "    def __init__(self, layer:LinearClassifier, beta1:float=0.9, beta2:float=0.99, debug=False): #learning_rate:float,\n",
    "        self.V_w = np.zeros(layer.weights_grad.shape)\n",
    "        self.A_w = np.zeros(layer.weights_grad.shape)\n",
    "        self.V_b = np.zeros(layer.bias_grad.shape)\n",
    "        self.A_b = np.zeros(layer.bias_grad.shape)\n",
    "        self.layer_amm = 1\n",
    "        self.beta1 = beta1\n",
    "        self.beta2 = beta2\n",
    "        self.layer = layer\n",
    "        # self.learning_rate = learning_rate\n",
    "        self.iteration = 1\n",
    "        self.debug = debug\n",
    "\n",
    "    def step(self):\n",
    "    \n",
    "        if self.debug:\n",
    "            print(self.V_w)\n",
    "        \n",
    "        # Коррекция для весов\n",
    "        self.V_w = self.beta1 * self.V_w + (1 - self.beta1) * self.layer.weights_grad\n",
    "        self.A_w = self.beta2 * self.A_w + (1 - self.beta2) * self.layer.weights_grad ** 2\n",
    "        self.V_b = self.beta1 * self.V_b + (1 - self.beta1) * self.layer.bias_grad\n",
    "        self.A_b = self.beta2 * self.A_b + (1 - self.beta2) * self.layer.bias_grad ** 2\n",
    "        self.layer.weights_grad = self.layer.alpha * ((self.V_w / (1 - self.beta1 ** self.iteration)) \n",
    "                                                                        / (np.sqrt(self.A_w / (1 - self.beta2 ** self.iteration)) + 0.0001))\n",
    "        self.layer.bias_grad =  self.layer.alpha * ((self.V_b/(1-self.beta1 ** self.iteration)) \n",
    "                                                                           / (np.sqrt(self.A_b / (1 - self.beta2 ** self.iteration)) + 0.0001))\n",
    "\n",
    "        self.layer.apply_grad()\n",
    "\n",
    "        self.iteration += 1\n",
    "\n",
    "\n",
    "def Accuracy(y_pred_softmax: np.ndarray, y_real: np.ndarray) -> float:\n",
    "    # print(y_pred_softmax)\n",
    "    return np.sum(np.argmax(y_pred_softmax, axis=1)==y_real)/y_real.shape[0]\n",
    "\n",
    "\n",
    "def train_test_split(X: np.ndarray, Y: np.ndarray, test_size:float=0.3, shuffle:bool=True):\n",
    "    indices = np.arange(X.shape[0])\n",
    "\n",
    "    if shuffle:\n",
    "        np.random.shuffle(indices)\n",
    "\n",
    "    train_end_ind = int(X.shape[0] * (1-test_size)+1)\n",
    "\n",
    "    return X[:train_end_ind], Y[:train_end_ind], X[train_end_ind:], Y[train_end_ind:]\n",
    "\n"
   ]
  },
  {
   "cell_type": "code",
   "execution_count": 77,
   "metadata": {},
   "outputs": [
    {
     "name": "stdout",
     "output_type": "stream",
     "text": [
      "My calc time is 1.9151034355163574\n"
     ]
    },
    {
     "data": {
      "text/plain": [
       "[<matplotlib.lines.Line2D at 0x218aadd5a60>]"
      ]
     },
     "execution_count": 77,
     "metadata": {},
     "output_type": "execute_result"
    },
    {
     "data": {
      "image/png": "[encoded data removed]",
      "text/plain": [
       "<Figure size 640x480 with 1 Axes>"
      ]
     },
     "metadata": {},
     "output_type": "display_data"
    }
   ],
   "source": [
    "\n",
    "import pandas as pd\n",
    "import matplotlib.pyplot as plt\n",
    "url = \"./mushrooms.csv\"\n",
    "dataset = pd.read_csv(url)\n",
    "dataset.head(10)\n",
    "\n",
    "for column in dataset.columns[1:]:\n",
    "    unics = dataset[column].unique()\n",
    "    transform = {unic:i+1 for i, unic in enumerate(dataset[column].unique())}\n",
    "    dataset[column] = dataset[column].apply(lambda x: transform[x])\n",
    "\n",
    "transform = {\"e\":0, \"p\":1}\n",
    "dataset[\"class\"] = dataset[\"class\"].apply(lambda x: transform[x])\n",
    "dataset.head(10)\n",
    "\n",
    "X = dataset[dataset.columns[1:]].to_numpy()\n",
    "Y = dataset[\"class\"].to_numpy()\n",
    "\n",
    "x_train, y_train, x_test, y_test = train_test_split(X=X, Y=Y, test_size=0.2)\n",
    "# print(x_train)\n",
    "\n",
    "def random_init(n_features, n_classes):\n",
    "    return np.random.rand(n_features, n_classes) - 0.5\n",
    "\n",
    "def init_corr(X, Y):\n",
    "    correlations = np.corrcoef(X, Y, rowvar=False)\n",
    "    correlations =  np.where(np.isnan(correlations[-1, :-1]), 0, correlations[-1, :-1])\n",
    "    correlations =np.tile(correlations , reps=(2,1)).T\n",
    "    return correlations\n",
    "\n",
    "\n",
    "\n",
    "\n",
    "loss = LinearLoss(n_classes=2)\n",
    "np.random.seed(3)                                          #init_corr(X, Y)\n",
    "linear = LinearClassifier(n_features=22, n_classes=2, init_weights=random_init(22, 2))\n",
    "optimizer = AdamOptimizer(linear)\n",
    "\n",
    "train_batch_gen = BatchGenerator(x_train, y_train, batch_size=30, shuffle=True, linear=linear, loss_fn=loss)\n",
    "losses = []\n",
    "\n",
    "import time\n",
    "\n",
    "start = time.time()\n",
    "for epoch in range(3):\n",
    "    for x,y in train_batch_gen:\n",
    "        out = linear(x)\n",
    "        grads = loss(out, y)\n",
    "        losses.append(loss.get_loss())\n",
    "        # print(loss.get_loss())\n",
    "        linear.backprop(*grads)\n",
    "        optimizer.step()\n",
    "        \n",
    "print(f\"My calc time is {time.time()-start}\")\n",
    "import matplotlib.pyplot as plt\n",
    "\n",
    "plt.plot(np.arange(len(losses)), losses)\n",
    "\n",
    "    "
   ]
  },
  {
   "cell_type": "code",
   "execution_count": 78,
   "metadata": {},
   "outputs": [
    {
     "data": {
      "text/plain": [
       "0.8300492610837439"
      ]
     },
     "execution_count": 78,
     "metadata": {},
     "output_type": "execute_result"
    }
   ],
   "source": [
    "Accuracy(loss.sigmoid(linear(x_test)), y_test)\n",
    "# print(y_test)\n",
    "# print(linear(x_test))\n",
    "# print(y_test)"
   ]
  },
  {
   "cell_type": "code",
   "execution_count": 69,
   "metadata": {},
   "outputs": [
    {
     "name": "stdout",
     "output_type": "stream",
     "text": [
      "[-0.09748116 -0.96019488]\n"
     ]
    }
   ],
   "source": [
    "print(linear.bias)"
   ]
  },
  {
   "cell_type": "code",
   "execution_count": 46,
   "metadata": {},
   "outputs": [
    {
     "name": "stdout",
     "output_type": "stream",
     "text": [
      "SKLEARN calc time is 0.013003826141357422\n",
      "0.8171182266009852\n"
     ]
    },
    {
     "name": "stderr",
     "output_type": "stream",
     "text": [
      "d:\\Anaconda3\\lib\\site-packages\\sklearn\\utils\\validation.py:1143: DataConversionWarning: A column-vector y was passed when a 1d array was expected. Please change the shape of y to (n_samples, ), for example using ravel().\n",
      "  y = column_or_1d(y, warn=True)\n"
     ]
    }
   ],
   "source": [
    "from sklearn.linear_model import SGDClassifier\n",
    "start = time.time()\n",
    "classifier = SGDClassifier(\n",
    "    loss=\"log_loss\",           # Логистическая регрессия для вероятностного выхода\n",
    "    penalty=\"l2\",         # L2 регуляризация\n",
    "    max_iter=30,        # Максимальное количество итераций\n",
    "    tol=1e-3,             # Допуск для останова\n",
    "    alpha=0.001,          # Коэффициент регуляризации\n",
    "    random_state=42\n",
    ")\n",
    "\n",
    "# Обучение классификатора\n",
    "classifier.fit(x_train, y_train.reshape(-1, 1))\n",
    "\n",
    "# Предсказание на тестовых данных\n",
    "y_pred = classifier.predict_proba(x_test)\n",
    "print(f\"SKLEARN calc time is {time.time()-start}\")\n",
    "# Оценка модели\n",
    "accuracy = Accuracy(y_pred, y_test)\n",
    "print(accuracy)"
   ]
  },
  {
   "cell_type": "code",
   "execution_count": 79,
   "metadata": {},
   "outputs": [
    {
     "data": {
      "text/plain": [
       "[<matplotlib.lines.Line2D at 0x218ab670a30>]"
      ]
     },
     "execution_count": 79,
     "metadata": {},
     "output_type": "execute_result"
    },
    {
     "data": {
      "image/png": "[encoded data removed]",
      "text/plain": [
       "<Figure size 640x480 with 1 Axes>"
      ]
     },
     "metadata": {},
     "output_type": "display_data"
    }
   ],
   "source": [
    "sigm_predicted = loss.sigmoid(linear(X))\n",
    "predicted = np.argmax(sigm_predicted, axis=1)\n",
    "predicted_rw = np.where(predicted==Y, 1, -1)\n",
    "predicted\n",
    "plt.plot(sorted(sigm_predicted[np.arange(predicted.shape[0]), predicted]*predicted_rw))"
   ]
  },
  {
   "cell_type": "code",
   "execution_count": 7,
   "metadata": {},
   "outputs": [
    {
     "data": {
      "text/plain": [
       "array([1, 0, 0, ..., 0, 1, 0], dtype=int64)"
      ]
     },
     "execution_count": 7,
     "metadata": {},
     "output_type": "execute_result"
    }
   ],
   "source": [
    "sigm_predicted = loss.sigmoid(linear(X))\n",
    "predicted = np.argmax(sigm_predicted, axis=1)\n",
    "sigm_predicted\n",
    "Y"
   ]
  },
  {
   "cell_type": "code",
   "execution_count": null,
   "metadata": {},
   "outputs": [
    {
     "name": "stderr",
     "output_type": "stream",
     "text": [
      "C:\\Users\\artbo\\AppData\\Roaming\\Python\\Python39\\site-packages\\numpy\\lib\\function_base.py:2897: RuntimeWarning: invalid value encountered in divide\n",
      "  c /= stddev[:, None]\n",
      "C:\\Users\\artbo\\AppData\\Roaming\\Python\\Python39\\site-packages\\numpy\\lib\\function_base.py:2898: RuntimeWarning: invalid value encountered in divide\n",
      "  c /= stddev[None, :]\n"
     ]
    },
    {
     "data": {
      "text/plain": [
       "array([[ 0.11211032, -0.16966305,  0.04202825,  0.50153038,  0.58201543,\n",
       "        -0.12919986, -0.34838679, -0.54002436,  0.41286943, -0.10201902,\n",
       "         0.3375417 ,  0.55204364,  0.53245229,  0.22529398,  0.09847579,\n",
       "                nan, -0.12076594, -0.15226082,  0.55651472,  0.56071523,\n",
       "         0.15525371,  0.19129694],\n",
       "       [ 0.11211032, -0.16966305,  0.04202825,  0.50153038,  0.58201543,\n",
       "        -0.12919986, -0.34838679, -0.54002436,  0.41286943, -0.10201902,\n",
       "         0.3375417 ,  0.55204364,  0.53245229,  0.22529398,  0.09847579,\n",
       "                nan, -0.12076594, -0.15226082,  0.55651472,  0.56071523,\n",
       "         0.15525371,  0.19129694]])"
      ]
     },
     "execution_count": 41,
     "metadata": {},
     "output_type": "execute_result"
    }
   ],
   "source": [
    "np.tile(np.corrcoef(X, Y, rowvar=False)[-1, :-1], reps=(2,1)).T"
   ]
  },
  {
   "cell_type": "code",
   "execution_count": null,
   "metadata": {},
   "outputs": [
    {
     "data": {
      "text/plain": [
       "array([ 0.11211032, -0.16966305,  0.04202825,  0.50153038,  0.58201543,\n",
       "       -0.12919986, -0.34838679, -0.54002436,  0.41286943, -0.10201902,\n",
       "        0.3375417 ,  0.55204364,  0.53245229,  0.22529398,  0.09847579,\n",
       "               nan, -0.12076594, -0.15226082,  0.55651472,  0.56071523,\n",
       "        0.15525371,  0.19129694])"
      ]
     },
     "execution_count": 28,
     "metadata": {},
     "output_type": "execute_result"
    }
   ],
   "source": []
  },
  {
   "cell_type": "code",
   "execution_count": 30,
   "metadata": {},
   "outputs": [
    {
     "name": "stdout",
     "output_type": "stream",
     "text": [
      "0.11211031703516394\n",
      "-0.1696630540517295\n",
      "0.04202825176197811\n",
      "0.5015303774075575\n",
      "0.5820154327236085\n",
      "-0.12919986026788396\n",
      "-0.34838678518427396\n",
      "-0.5400243574330174\n",
      "0.4128694256416521\n",
      "-0.10201901701656056\n",
      "0.3375417049996676\n",
      "0.5520436410013894\n",
      "0.53245229042052\n",
      "0.22529398127468042\n",
      "0.09847579450544268\n",
      "nan\n",
      "-0.12076593697596338\n",
      "-0.15226082429665588\n",
      "0.5565147182889624\n",
      "0.5607152345831516\n",
      "0.1552537114255421\n",
      "0.19129693972598538\n"
     ]
    },
    {
     "name": "stderr",
     "output_type": "stream",
     "text": [
      "C:\\Users\\artbo\\AppData\\Roaming\\Python\\Python39\\site-packages\\numpy\\lib\\function_base.py:2897: RuntimeWarning: invalid value encountered in divide\n",
      "  c /= stddev[:, None]\n",
      "C:\\Users\\artbo\\AppData\\Roaming\\Python\\Python39\\site-packages\\numpy\\lib\\function_base.py:2898: RuntimeWarning: invalid value encountered in divide\n",
      "  c /= stddev[None, :]\n"
     ]
    }
   ],
   "source": [
    "for j in range(22):\n",
    "    X_j = X[:, j]\n",
    "    print(np.corrcoef(X_j, Y)[0, 1])"
   ]
  },
  {
   "cell_type": "code",
   "execution_count": 82,
   "metadata": {},
   "outputs": [
    {
     "name": "stdout",
     "output_type": "stream",
     "text": [
      "now accuracy=0.75\n",
      "updated\n",
      "now accuracy=0.7801724137931034\n",
      "updated\n",
      "now accuracy=0.7967980295566502\n",
      "updated\n",
      "now accuracy=0.7635467980295566\n",
      "now accuracy=0.7475369458128078\n"
     ]
    }
   ],
   "source": [
    "Weights = None\n",
    "bias = None\n",
    "now_acc = 0\n",
    "for start_n in range(5):\n",
    "    seed = int(np.random.rand()*1000)\n",
    "    np.random.seed(seed)\n",
    "    linear = LinearClassifier(n_features=22, n_classes=2, init_weights=random_init(22, 2))\n",
    "    optimizer = AdamOptimizer(linear)\n",
    "    \n",
    "\n",
    "    for epoch in range(8):\n",
    "        for x,y in train_batch_gen:\n",
    "            out = linear(x)\n",
    "            grads = loss(out, y)\n",
    "            losses.append(loss.get_loss())\n",
    "            # print(loss.get_loss())\n",
    "            linear.backprop(*grads)\n",
    "            optimizer.step()\n",
    "    \n",
    "    accuracy = Accuracy(loss.sigmoid(linear(x_test)), y_test)\n",
    "    print(f\"now {accuracy=}\")\n",
    "    if accuracy > now_acc:\n",
    "        Weights = linear.Weights\n",
    "        bias = linear.bias\n",
    "        now_acc = accuracy\n",
    "    \n",
    "        print(\"updated\")\n",
    "\n",
    "\n",
    "        "
   ]
  }
 ],
 "metadata": {
  "kernelspec": {
   "display_name": "base",
   "language": "python",
   "name": "python3"
  },
  "language_info": {
   "codemirror_mode": {
    "name": "ipython",
    "version": 3
   },
   "file_extension": ".py",
   "mimetype": "text/x-python",
   "name": "python",
   "nbconvert_exporter": "python",
   "pygments_lexer": "ipython3",
   "version": "3.9.16"
  }
 },
 "nbformat": 4,
 "nbformat_minor": 2
}
