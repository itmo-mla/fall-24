{
  "nbformat": 4,
  "nbformat_minor": 0,
  "metadata": {
    "colab": {
      "provenance": []
    },
    "kernelspec": {
      "name": "python3",
      "display_name": "Python 3"
    },
    "language_info": {
      "name": "python"
    }
  },
  "cells": [
    {
      "cell_type": "markdown",
      "source": [
        "# 1. Import Libraries"
      ],
      "metadata": {
        "id": "K4OUBe48-0MV"
      }
    },
    {
      "cell_type": "code",
      "execution_count": 335,
      "metadata": {
        "id": "FRBjJcxS-Q0N"
      },
      "outputs": [],
      "source": [
        "import pandas as pd\n",
        "import numpy as np\n",
        "import random\n",
        "\n",
        "import matplotlib.pyplot as plt\n",
        "import seaborn as sns\n",
        "\n",
        "from sklearn.model_selection import train_test_split\n",
        "from sklearn.preprocessing import LabelEncoder, MinMaxScaler\n",
        "\n",
        "from sklearn.linear_model import SGDClassifier\n",
        "\n",
        "from sklearn.metrics import classification_report, accuracy_score, confusion_matrix\n",
        "from datetime import datetime\n",
        "\n",
        "from typing import Literal\n",
        "from pydantic import BaseModel"
      ]
    },
    {
      "cell_type": "code",
      "source": [
        "import warnings\n",
        "from sklearn.exceptions import UndefinedMetricWarning\n",
        "\n",
        "# Suppress UndefinedMetricWarning\n",
        "warnings.filterwarnings(\"ignore\", category=UndefinedMetricWarning)"
      ],
      "metadata": {
        "id": "GYtG60NrAKv8"
      },
      "execution_count": 336,
      "outputs": []
    },
    {
      "cell_type": "markdown",
      "source": [
        "# 2. Load the Dataset"
      ],
      "metadata": {
        "id": "N_bGLk8l-94D"
      }
    },
    {
      "cell_type": "code",
      "source": [
        "path = '/content/Student Depression Dataset.csv'\n",
        "dataset = pd.read_csv(path)\n",
        "print(\"Dataset Loaded:\\n\", dataset.head())"
      ],
      "metadata": {
        "colab": {
          "base_uri": "https://localhost:8080/"
        },
        "id": "0q-YYvz_--fL",
        "outputId": "e4628397-a690-4534-acfb-7792ca79e3df"
      },
      "execution_count": 337,
      "outputs": [
        {
          "output_type": "stream",
          "name": "stdout",
          "text": [
            "Dataset Loaded:\n",
            "    id  Gender   Age           City Profession  Academic Pressure  \\\n",
            "0   2    Male  33.0  Visakhapatnam    Student                5.0   \n",
            "1   8  Female  24.0      Bangalore    Student                2.0   \n",
            "2  26    Male  31.0       Srinagar    Student                3.0   \n",
            "3  30  Female  28.0       Varanasi    Student                3.0   \n",
            "4  32  Female  25.0         Jaipur    Student                4.0   \n",
            "\n",
            "   Work Pressure  CGPA  Study Satisfaction  Job Satisfaction  \\\n",
            "0            0.0  8.97                 2.0               0.0   \n",
            "1            0.0  5.90                 5.0               0.0   \n",
            "2            0.0  7.03                 5.0               0.0   \n",
            "3            0.0  5.59                 2.0               0.0   \n",
            "4            0.0  8.13                 3.0               0.0   \n",
            "\n",
            "      Sleep Duration Dietary Habits   Degree  \\\n",
            "0          5-6 hours        Healthy  B.Pharm   \n",
            "1          5-6 hours       Moderate      BSc   \n",
            "2  Less than 5 hours        Healthy       BA   \n",
            "3          7-8 hours       Moderate      BCA   \n",
            "4          5-6 hours       Moderate   M.Tech   \n",
            "\n",
            "  Have you ever had suicidal thoughts ?  Work/Study Hours  Financial Stress  \\\n",
            "0                                   Yes               3.0               1.0   \n",
            "1                                    No               3.0               2.0   \n",
            "2                                    No               9.0               1.0   \n",
            "3                                   Yes               4.0               5.0   \n",
            "4                                   Yes               1.0               1.0   \n",
            "\n",
            "  Family History of Mental Illness  Depression  \n",
            "0                               No           1  \n",
            "1                              Yes           0  \n",
            "2                              Yes           0  \n",
            "3                              Yes           1  \n",
            "4                               No           0  \n"
          ]
        }
      ]
    },
    {
      "cell_type": "code",
      "source": [
        "print(dataset.shape)"
      ],
      "metadata": {
        "colab": {
          "base_uri": "https://localhost:8080/"
        },
        "id": "U3QEL35ZthvJ",
        "outputId": "d07ae640-280d-4899-972a-b5df9b715773"
      },
      "execution_count": 338,
      "outputs": [
        {
          "output_type": "stream",
          "name": "stdout",
          "text": [
            "(27901, 18)\n"
          ]
        }
      ]
    },
    {
      "cell_type": "code",
      "source": [
        "dataset.dropna(inplace=True)"
      ],
      "metadata": {
        "id": "VbRw8qcz7qv1"
      },
      "execution_count": 339,
      "outputs": []
    },
    {
      "cell_type": "code",
      "source": [
        "print(dataset.isnull().sum())"
      ],
      "metadata": {
        "colab": {
          "base_uri": "https://localhost:8080/"
        },
        "id": "IWZ6N5Jz7KYF",
        "outputId": "1fa1441c-b7b0-4be0-dfb3-f42731ea4430"
      },
      "execution_count": 340,
      "outputs": [
        {
          "output_type": "stream",
          "name": "stdout",
          "text": [
            "id                                       0\n",
            "Gender                                   0\n",
            "Age                                      0\n",
            "City                                     0\n",
            "Profession                               0\n",
            "Academic Pressure                        0\n",
            "Work Pressure                            0\n",
            "CGPA                                     0\n",
            "Study Satisfaction                       0\n",
            "Job Satisfaction                         0\n",
            "Sleep Duration                           0\n",
            "Dietary Habits                           0\n",
            "Degree                                   0\n",
            "Have you ever had suicidal thoughts ?    0\n",
            "Work/Study Hours                         0\n",
            "Financial Stress                         0\n",
            "Family History of Mental Illness         0\n",
            "Depression                               0\n",
            "dtype: int64\n"
          ]
        }
      ]
    },
    {
      "cell_type": "code",
      "source": [
        "print(dataset.dtypes)"
      ],
      "metadata": {
        "colab": {
          "base_uri": "https://localhost:8080/"
        },
        "id": "wKFxnxUSAPc7",
        "outputId": "4771b106-a4ea-458d-bf3a-1e327c1c587b"
      },
      "execution_count": 341,
      "outputs": [
        {
          "output_type": "stream",
          "name": "stdout",
          "text": [
            "id                                         int64\n",
            "Gender                                    object\n",
            "Age                                      float64\n",
            "City                                      object\n",
            "Profession                                object\n",
            "Academic Pressure                        float64\n",
            "Work Pressure                            float64\n",
            "CGPA                                     float64\n",
            "Study Satisfaction                       float64\n",
            "Job Satisfaction                         float64\n",
            "Sleep Duration                            object\n",
            "Dietary Habits                            object\n",
            "Degree                                    object\n",
            "Have you ever had suicidal thoughts ?     object\n",
            "Work/Study Hours                         float64\n",
            "Financial Stress                         float64\n",
            "Family History of Mental Illness          object\n",
            "Depression                                 int64\n",
            "dtype: object\n"
          ]
        }
      ]
    },
    {
      "cell_type": "markdown",
      "source": [
        "# 3. Preprocess the Dataset"
      ],
      "metadata": {
        "id": "OhA8qUNA_gbA"
      }
    },
    {
      "cell_type": "code",
      "source": [
        "dataset.drop(columns=['id'], inplace=True)\n",
        "print('Column id is droped because it desnt affect the classification.')"
      ],
      "metadata": {
        "colab": {
          "base_uri": "https://localhost:8080/"
        },
        "id": "t5S9eFoz5ZfG",
        "outputId": "ecbe1784-6ffe-4509-fd40-8225975f06d9"
      },
      "execution_count": 342,
      "outputs": [
        {
          "output_type": "stream",
          "name": "stdout",
          "text": [
            "Column id is droped because it desnt affect the classification.\n"
          ]
        }
      ]
    },
    {
      "cell_type": "code",
      "source": [
        "print('Droped columns with alomst fixed value:')\n",
        "for column in dataset.columns:\n",
        "    counts = dataset[column].value_counts()\n",
        "    threshold = 0.90\n",
        "    for value in counts.keys():\n",
        "        percentage = counts[value] / len(dataset)\n",
        "        if percentage >= threshold:\n",
        "            dataset.drop(columns=[column], inplace=True)\n",
        "            print(f'{column}: {percentage * 100:.2f}% have the value [{value}]')\n",
        "            break"
      ],
      "metadata": {
        "colab": {
          "base_uri": "https://localhost:8080/"
        },
        "id": "dPelQPwGu5xS",
        "outputId": "6961cd37-2e17-4d93-a051-78b10ee0548a"
      },
      "execution_count": 343,
      "outputs": [
        {
          "output_type": "stream",
          "name": "stdout",
          "text": [
            "Droped columns with alomst fixed value:\n",
            "Profession: 99.89% have the value [Student]\n",
            "Work Pressure: 99.99% have the value [0.0]\n",
            "Job Satisfaction: 99.97% have the value [0.0]\n"
          ]
        }
      ]
    },
    {
      "cell_type": "code",
      "source": [
        "dataset['Depression'] = dataset['Depression'].replace({0: -1})"
      ],
      "metadata": {
        "id": "dbBtQO5tsSH0"
      },
      "execution_count": 344,
      "outputs": []
    },
    {
      "cell_type": "code",
      "source": [
        "def preprocess_dataset(dataset, target_columns):\n",
        "\n",
        "    # Encode categorical variables\n",
        "    le = LabelEncoder()\n",
        "\n",
        "    for column in dataset.select_dtypes(include=['object']).columns:\n",
        "        dataset[column] = le.fit_transform(dataset[column])\n",
        "\n",
        "\n",
        "    sc = MinMaxScaler()\n",
        "    columns = ['Gender', 'Age',  'City', 'Academic Pressure', 'CGPA', 'Study Satisfaction', 'Sleep Duration',\n",
        "               'Dietary Habits', 'Degree', 'Have you ever had suicidal thoughts ?',\n",
        "               'Work/Study Hours', 'Financial Stress', 'Family History of Mental Illness']\n",
        "    dataset[columns] = sc.fit_transform(dataset[columns])\n",
        "\n",
        "    # Split dataset\n",
        "    X = dataset.drop(columns=target_columns, axis=1)  # Features\n",
        "    y = dataset[target_columns] # Target\n",
        "    X = X.to_numpy()\n",
        "    y = y.to_numpy().reshape(-1, 1)\n",
        "\n",
        "    X_train, X_test, y_train, y_test = train_test_split(X, y, test_size=0.2, random_state=42)\n",
        "\n",
        "    return X_train, X_test, y_train, y_test"
      ],
      "metadata": {
        "id": "FEmphcMz_hpG"
      },
      "execution_count": 345,
      "outputs": []
    },
    {
      "cell_type": "code",
      "source": [
        "X_train, X_test, y_train, y_test = preprocess_dataset(dataset, target_columns=['Depression'])\n",
        "print(\"Data Preprocessing Completed.\")"
      ],
      "metadata": {
        "colab": {
          "base_uri": "https://localhost:8080/"
        },
        "id": "X6YePY5wCjdO",
        "outputId": "e0f8f03c-e1aa-4ebf-d637-697fca98f11b"
      },
      "execution_count": 346,
      "outputs": [
        {
          "output_type": "stream",
          "name": "stdout",
          "text": [
            "Data Preprocessing Completed.\n"
          ]
        }
      ]
    },
    {
      "cell_type": "code",
      "source": [
        "print(dataset.dtypes)"
      ],
      "metadata": {
        "colab": {
          "base_uri": "https://localhost:8080/"
        },
        "id": "ou4djU8L5yUW",
        "outputId": "c6664fed-66d9-4f3f-9923-efb5ffaee14d"
      },
      "execution_count": 347,
      "outputs": [
        {
          "output_type": "stream",
          "name": "stdout",
          "text": [
            "Gender                                   float64\n",
            "Age                                      float64\n",
            "City                                     float64\n",
            "Academic Pressure                        float64\n",
            "CGPA                                     float64\n",
            "Study Satisfaction                       float64\n",
            "Sleep Duration                           float64\n",
            "Dietary Habits                           float64\n",
            "Degree                                   float64\n",
            "Have you ever had suicidal thoughts ?    float64\n",
            "Work/Study Hours                         float64\n",
            "Financial Stress                         float64\n",
            "Family History of Mental Illness         float64\n",
            "Depression                                 int64\n",
            "dtype: object\n"
          ]
        }
      ]
    },
    {
      "cell_type": "markdown",
      "source": [
        "# 4. Utilities"
      ],
      "metadata": {
        "id": "cP9VDjadF4nA"
      }
    },
    {
      "cell_type": "code",
      "source": [
        "def calculate_margin(w, X, y):\n",
        "    return (X @ w.T) * y"
      ],
      "metadata": {
        "id": "SM4o5ys0WoGk"
      },
      "execution_count": 348,
      "outputs": []
    },
    {
      "cell_type": "code",
      "source": [
        "def plot_margin(margins):\n",
        "    margins = np.sort(margins.flatten())\n",
        "    plt.plot(margins, c='k', linewidth=3)\n",
        "\n",
        "    plt.axhline(y=0, c='k', linewidth=0.5)\n",
        "\n",
        "    x = np.arange(len(margins))\n",
        "    plt.gca().fill_between(x, margins, where=(margins>=0.3), color='#00ff00')\n",
        "    plt.gca().fill_between(x, margins, where=(margins<=-0.3), color='#ff0000')\n",
        "    plt.gca().fill_between(x, margins, where=np.bitwise_and(margins >= -0.3, margins <= 0.3), color='#ffff00')\n",
        "\n",
        "    plt.ylabel(\"Margin\")\n",
        "    plt.gcf().set_size_inches(5, 3)"
      ],
      "metadata": {
        "id": "2m2Rzp_WWmsz"
      },
      "execution_count": 349,
      "outputs": []
    },
    {
      "cell_type": "code",
      "source": [
        "def plot_classifier_histories(classifier):\n",
        "    fig, axes = plt.subplots(1, 2, figsize=(8, 3))\n",
        "\n",
        "    axes[0].plot(classifier.loss_history, c='b')\n",
        "    axes[0].set_title(\"Loss\")\n",
        "\n",
        "    axes[1].plot(classifier.Q_history, c='r')\n",
        "    axes[1].set_title(\"Quality Functional\")"
      ],
      "metadata": {
        "id": "Dml00AZdxNQq"
      },
      "execution_count": 350,
      "outputs": []
    },
    {
      "cell_type": "code",
      "source": [
        "def plot_histories(loss_history, Q_history):\n",
        "    fig, axes = plt.subplots(1, 2, figsize=(8, 3))\n",
        "\n",
        "    axes[0].plot(loss_history, c='b')\n",
        "    axes[0].set_title(\"Loss\")\n",
        "\n",
        "    axes[1].plot(Q_history, c='r')\n",
        "    axes[1].set_title(\"Quality Functional\")"
      ],
      "metadata": {
        "id": "bx-l29kO-t8e"
      },
      "execution_count": 351,
      "outputs": []
    },
    {
      "cell_type": "markdown",
      "source": [
        "# 5. Reference Linear Classifier"
      ],
      "metadata": {
        "id": "R_FyuiyM6lpU"
      }
    },
    {
      "cell_type": "code",
      "source": [
        "reference_lc = SGDClassifier()\n",
        "reference_lc.fit(X_train, y_train)"
      ],
      "metadata": {
        "colab": {
          "base_uri": "https://localhost:8080/",
          "height": 134
        },
        "id": "nvCopQcm6lX0",
        "outputId": "d7577832-5718-4947-a624-d349fd41227f"
      },
      "execution_count": 352,
      "outputs": [
        {
          "output_type": "stream",
          "name": "stderr",
          "text": [
            "/usr/local/lib/python3.10/dist-packages/sklearn/utils/validation.py:1408: DataConversionWarning: A column-vector y was passed when a 1d array was expected. Please change the shape of y to (n_samples, ), for example using ravel().\n",
            "  y = column_or_1d(y, warn=True)\n"
          ]
        },
        {
          "output_type": "execute_result",
          "data": {
            "text/plain": [
              "SGDClassifier()"
            ],
            "text/html": [
              "<style>#sk-container-id-7 {\n",
              "  /* Definition of color scheme common for light and dark mode */\n",
              "  --sklearn-color-text: #000;\n",
              "  --sklearn-color-text-muted: #666;\n",
              "  --sklearn-color-line: gray;\n",
              "  /* Definition of color scheme for unfitted estimators */\n",
              "  --sklearn-color-unfitted-level-0: #fff5e6;\n",
              "  --sklearn-color-unfitted-level-1: #f6e4d2;\n",
              "  --sklearn-color-unfitted-level-2: #ffe0b3;\n",
              "  --sklearn-color-unfitted-level-3: chocolate;\n",
              "  /* Definition of color scheme for fitted estimators */\n",
              "  --sklearn-color-fitted-level-0: #f0f8ff;\n",
              "  --sklearn-color-fitted-level-1: #d4ebff;\n",
              "  --sklearn-color-fitted-level-2: #b3dbfd;\n",
              "  --sklearn-color-fitted-level-3: cornflowerblue;\n",
              "\n",
              "  /* Specific color for light theme */\n",
              "  --sklearn-color-text-on-default-background: var(--sg-text-color, var(--theme-code-foreground, var(--jp-content-font-color1, black)));\n",
              "  --sklearn-color-background: var(--sg-background-color, var(--theme-background, var(--jp-layout-color0, white)));\n",
              "  --sklearn-color-border-box: var(--sg-text-color, var(--theme-code-foreground, var(--jp-content-font-color1, black)));\n",
              "  --sklearn-color-icon: #696969;\n",
              "\n",
              "  @media (prefers-color-scheme: dark) {\n",
              "    /* Redefinition of color scheme for dark theme */\n",
              "    --sklearn-color-text-on-default-background: var(--sg-text-color, var(--theme-code-foreground, var(--jp-content-font-color1, white)));\n",
              "    --sklearn-color-background: var(--sg-background-color, var(--theme-background, var(--jp-layout-color0, #111)));\n",
              "    --sklearn-color-border-box: var(--sg-text-color, var(--theme-code-foreground, var(--jp-content-font-color1, white)));\n",
              "    --sklearn-color-icon: #878787;\n",
              "  }\n",
              "}\n",
              "\n",
              "#sk-container-id-7 {\n",
              "  color: var(--sklearn-color-text);\n",
              "}\n",
              "\n",
              "#sk-container-id-7 pre {\n",
              "  padding: 0;\n",
              "}\n",
              "\n",
              "#sk-container-id-7 input.sk-hidden--visually {\n",
              "  border: 0;\n",
              "  clip: rect(1px 1px 1px 1px);\n",
              "  clip: rect(1px, 1px, 1px, 1px);\n",
              "  height: 1px;\n",
              "  margin: -1px;\n",
              "  overflow: hidden;\n",
              "  padding: 0;\n",
              "  position: absolute;\n",
              "  width: 1px;\n",
              "}\n",
              "\n",
              "#sk-container-id-7 div.sk-dashed-wrapped {\n",
              "  border: 1px dashed var(--sklearn-color-line);\n",
              "  margin: 0 0.4em 0.5em 0.4em;\n",
              "  box-sizing: border-box;\n",
              "  padding-bottom: 0.4em;\n",
              "  background-color: var(--sklearn-color-background);\n",
              "}\n",
              "\n",
              "#sk-container-id-7 div.sk-container {\n",
              "  /* jupyter's `normalize.less` sets `[hidden] { display: none; }`\n",
              "     but bootstrap.min.css set `[hidden] { display: none !important; }`\n",
              "     so we also need the `!important` here to be able to override the\n",
              "     default hidden behavior on the sphinx rendered scikit-learn.org.\n",
              "     See: https://github.com/scikit-learn/scikit-learn/issues/21755 */\n",
              "  display: inline-block !important;\n",
              "  position: relative;\n",
              "}\n",
              "\n",
              "#sk-container-id-7 div.sk-text-repr-fallback {\n",
              "  display: none;\n",
              "}\n",
              "\n",
              "div.sk-parallel-item,\n",
              "div.sk-serial,\n",
              "div.sk-item {\n",
              "  /* draw centered vertical line to link estimators */\n",
              "  background-image: linear-gradient(var(--sklearn-color-text-on-default-background), var(--sklearn-color-text-on-default-background));\n",
              "  background-size: 2px 100%;\n",
              "  background-repeat: no-repeat;\n",
              "  background-position: center center;\n",
              "}\n",
              "\n",
              "/* Parallel-specific style estimator block */\n",
              "\n",
              "#sk-container-id-7 div.sk-parallel-item::after {\n",
              "  content: \"\";\n",
              "  width: 100%;\n",
              "  border-bottom: 2px solid var(--sklearn-color-text-on-default-background);\n",
              "  flex-grow: 1;\n",
              "}\n",
              "\n",
              "#sk-container-id-7 div.sk-parallel {\n",
              "  display: flex;\n",
              "  align-items: stretch;\n",
              "  justify-content: center;\n",
              "  background-color: var(--sklearn-color-background);\n",
              "  position: relative;\n",
              "}\n",
              "\n",
              "#sk-container-id-7 div.sk-parallel-item {\n",
              "  display: flex;\n",
              "  flex-direction: column;\n",
              "}\n",
              "\n",
              "#sk-container-id-7 div.sk-parallel-item:first-child::after {\n",
              "  align-self: flex-end;\n",
              "  width: 50%;\n",
              "}\n",
              "\n",
              "#sk-container-id-7 div.sk-parallel-item:last-child::after {\n",
              "  align-self: flex-start;\n",
              "  width: 50%;\n",
              "}\n",
              "\n",
              "#sk-container-id-7 div.sk-parallel-item:only-child::after {\n",
              "  width: 0;\n",
              "}\n",
              "\n",
              "/* Serial-specific style estimator block */\n",
              "\n",
              "#sk-container-id-7 div.sk-serial {\n",
              "  display: flex;\n",
              "  flex-direction: column;\n",
              "  align-items: center;\n",
              "  background-color: var(--sklearn-color-background);\n",
              "  padding-right: 1em;\n",
              "  padding-left: 1em;\n",
              "}\n",
              "\n",
              "\n",
              "/* Toggleable style: style used for estimator/Pipeline/ColumnTransformer box that is\n",
              "clickable and can be expanded/collapsed.\n",
              "- Pipeline and ColumnTransformer use this feature and define the default style\n",
              "- Estimators will overwrite some part of the style using the `sk-estimator` class\n",
              "*/\n",
              "\n",
              "/* Pipeline and ColumnTransformer style (default) */\n",
              "\n",
              "#sk-container-id-7 div.sk-toggleable {\n",
              "  /* Default theme specific background. It is overwritten whether we have a\n",
              "  specific estimator or a Pipeline/ColumnTransformer */\n",
              "  background-color: var(--sklearn-color-background);\n",
              "}\n",
              "\n",
              "/* Toggleable label */\n",
              "#sk-container-id-7 label.sk-toggleable__label {\n",
              "  cursor: pointer;\n",
              "  display: flex;\n",
              "  width: 100%;\n",
              "  margin-bottom: 0;\n",
              "  padding: 0.5em;\n",
              "  box-sizing: border-box;\n",
              "  text-align: center;\n",
              "  align-items: start;\n",
              "  justify-content: space-between;\n",
              "  gap: 0.5em;\n",
              "}\n",
              "\n",
              "#sk-container-id-7 label.sk-toggleable__label .caption {\n",
              "  font-size: 0.6rem;\n",
              "  font-weight: lighter;\n",
              "  color: var(--sklearn-color-text-muted);\n",
              "}\n",
              "\n",
              "#sk-container-id-7 label.sk-toggleable__label-arrow:before {\n",
              "  /* Arrow on the left of the label */\n",
              "  content: \"▸\";\n",
              "  float: left;\n",
              "  margin-right: 0.25em;\n",
              "  color: var(--sklearn-color-icon);\n",
              "}\n",
              "\n",
              "#sk-container-id-7 label.sk-toggleable__label-arrow:hover:before {\n",
              "  color: var(--sklearn-color-text);\n",
              "}\n",
              "\n",
              "/* Toggleable content - dropdown */\n",
              "\n",
              "#sk-container-id-7 div.sk-toggleable__content {\n",
              "  max-height: 0;\n",
              "  max-width: 0;\n",
              "  overflow: hidden;\n",
              "  text-align: left;\n",
              "  /* unfitted */\n",
              "  background-color: var(--sklearn-color-unfitted-level-0);\n",
              "}\n",
              "\n",
              "#sk-container-id-7 div.sk-toggleable__content.fitted {\n",
              "  /* fitted */\n",
              "  background-color: var(--sklearn-color-fitted-level-0);\n",
              "}\n",
              "\n",
              "#sk-container-id-7 div.sk-toggleable__content pre {\n",
              "  margin: 0.2em;\n",
              "  border-radius: 0.25em;\n",
              "  color: var(--sklearn-color-text);\n",
              "  /* unfitted */\n",
              "  background-color: var(--sklearn-color-unfitted-level-0);\n",
              "}\n",
              "\n",
              "#sk-container-id-7 div.sk-toggleable__content.fitted pre {\n",
              "  /* unfitted */\n",
              "  background-color: var(--sklearn-color-fitted-level-0);\n",
              "}\n",
              "\n",
              "#sk-container-id-7 input.sk-toggleable__control:checked~div.sk-toggleable__content {\n",
              "  /* Expand drop-down */\n",
              "  max-height: 200px;\n",
              "  max-width: 100%;\n",
              "  overflow: auto;\n",
              "}\n",
              "\n",
              "#sk-container-id-7 input.sk-toggleable__control:checked~label.sk-toggleable__label-arrow:before {\n",
              "  content: \"▾\";\n",
              "}\n",
              "\n",
              "/* Pipeline/ColumnTransformer-specific style */\n",
              "\n",
              "#sk-container-id-7 div.sk-label input.sk-toggleable__control:checked~label.sk-toggleable__label {\n",
              "  color: var(--sklearn-color-text);\n",
              "  background-color: var(--sklearn-color-unfitted-level-2);\n",
              "}\n",
              "\n",
              "#sk-container-id-7 div.sk-label.fitted input.sk-toggleable__control:checked~label.sk-toggleable__label {\n",
              "  background-color: var(--sklearn-color-fitted-level-2);\n",
              "}\n",
              "\n",
              "/* Estimator-specific style */\n",
              "\n",
              "/* Colorize estimator box */\n",
              "#sk-container-id-7 div.sk-estimator input.sk-toggleable__control:checked~label.sk-toggleable__label {\n",
              "  /* unfitted */\n",
              "  background-color: var(--sklearn-color-unfitted-level-2);\n",
              "}\n",
              "\n",
              "#sk-container-id-7 div.sk-estimator.fitted input.sk-toggleable__control:checked~label.sk-toggleable__label {\n",
              "  /* fitted */\n",
              "  background-color: var(--sklearn-color-fitted-level-2);\n",
              "}\n",
              "\n",
              "#sk-container-id-7 div.sk-label label.sk-toggleable__label,\n",
              "#sk-container-id-7 div.sk-label label {\n",
              "  /* The background is the default theme color */\n",
              "  color: var(--sklearn-color-text-on-default-background);\n",
              "}\n",
              "\n",
              "/* On hover, darken the color of the background */\n",
              "#sk-container-id-7 div.sk-label:hover label.sk-toggleable__label {\n",
              "  color: var(--sklearn-color-text);\n",
              "  background-color: var(--sklearn-color-unfitted-level-2);\n",
              "}\n",
              "\n",
              "/* Label box, darken color on hover, fitted */\n",
              "#sk-container-id-7 div.sk-label.fitted:hover label.sk-toggleable__label.fitted {\n",
              "  color: var(--sklearn-color-text);\n",
              "  background-color: var(--sklearn-color-fitted-level-2);\n",
              "}\n",
              "\n",
              "/* Estimator label */\n",
              "\n",
              "#sk-container-id-7 div.sk-label label {\n",
              "  font-family: monospace;\n",
              "  font-weight: bold;\n",
              "  display: inline-block;\n",
              "  line-height: 1.2em;\n",
              "}\n",
              "\n",
              "#sk-container-id-7 div.sk-label-container {\n",
              "  text-align: center;\n",
              "}\n",
              "\n",
              "/* Estimator-specific */\n",
              "#sk-container-id-7 div.sk-estimator {\n",
              "  font-family: monospace;\n",
              "  border: 1px dotted var(--sklearn-color-border-box);\n",
              "  border-radius: 0.25em;\n",
              "  box-sizing: border-box;\n",
              "  margin-bottom: 0.5em;\n",
              "  /* unfitted */\n",
              "  background-color: var(--sklearn-color-unfitted-level-0);\n",
              "}\n",
              "\n",
              "#sk-container-id-7 div.sk-estimator.fitted {\n",
              "  /* fitted */\n",
              "  background-color: var(--sklearn-color-fitted-level-0);\n",
              "}\n",
              "\n",
              "/* on hover */\n",
              "#sk-container-id-7 div.sk-estimator:hover {\n",
              "  /* unfitted */\n",
              "  background-color: var(--sklearn-color-unfitted-level-2);\n",
              "}\n",
              "\n",
              "#sk-container-id-7 div.sk-estimator.fitted:hover {\n",
              "  /* fitted */\n",
              "  background-color: var(--sklearn-color-fitted-level-2);\n",
              "}\n",
              "\n",
              "/* Specification for estimator info (e.g. \"i\" and \"?\") */\n",
              "\n",
              "/* Common style for \"i\" and \"?\" */\n",
              "\n",
              ".sk-estimator-doc-link,\n",
              "a:link.sk-estimator-doc-link,\n",
              "a:visited.sk-estimator-doc-link {\n",
              "  float: right;\n",
              "  font-size: smaller;\n",
              "  line-height: 1em;\n",
              "  font-family: monospace;\n",
              "  background-color: var(--sklearn-color-background);\n",
              "  border-radius: 1em;\n",
              "  height: 1em;\n",
              "  width: 1em;\n",
              "  text-decoration: none !important;\n",
              "  margin-left: 0.5em;\n",
              "  text-align: center;\n",
              "  /* unfitted */\n",
              "  border: var(--sklearn-color-unfitted-level-1) 1pt solid;\n",
              "  color: var(--sklearn-color-unfitted-level-1);\n",
              "}\n",
              "\n",
              ".sk-estimator-doc-link.fitted,\n",
              "a:link.sk-estimator-doc-link.fitted,\n",
              "a:visited.sk-estimator-doc-link.fitted {\n",
              "  /* fitted */\n",
              "  border: var(--sklearn-color-fitted-level-1) 1pt solid;\n",
              "  color: var(--sklearn-color-fitted-level-1);\n",
              "}\n",
              "\n",
              "/* On hover */\n",
              "div.sk-estimator:hover .sk-estimator-doc-link:hover,\n",
              ".sk-estimator-doc-link:hover,\n",
              "div.sk-label-container:hover .sk-estimator-doc-link:hover,\n",
              ".sk-estimator-doc-link:hover {\n",
              "  /* unfitted */\n",
              "  background-color: var(--sklearn-color-unfitted-level-3);\n",
              "  color: var(--sklearn-color-background);\n",
              "  text-decoration: none;\n",
              "}\n",
              "\n",
              "div.sk-estimator.fitted:hover .sk-estimator-doc-link.fitted:hover,\n",
              ".sk-estimator-doc-link.fitted:hover,\n",
              "div.sk-label-container:hover .sk-estimator-doc-link.fitted:hover,\n",
              ".sk-estimator-doc-link.fitted:hover {\n",
              "  /* fitted */\n",
              "  background-color: var(--sklearn-color-fitted-level-3);\n",
              "  color: var(--sklearn-color-background);\n",
              "  text-decoration: none;\n",
              "}\n",
              "\n",
              "/* Span, style for the box shown on hovering the info icon */\n",
              ".sk-estimator-doc-link span {\n",
              "  display: none;\n",
              "  z-index: 9999;\n",
              "  position: relative;\n",
              "  font-weight: normal;\n",
              "  right: .2ex;\n",
              "  padding: .5ex;\n",
              "  margin: .5ex;\n",
              "  width: min-content;\n",
              "  min-width: 20ex;\n",
              "  max-width: 50ex;\n",
              "  color: var(--sklearn-color-text);\n",
              "  box-shadow: 2pt 2pt 4pt #999;\n",
              "  /* unfitted */\n",
              "  background: var(--sklearn-color-unfitted-level-0);\n",
              "  border: .5pt solid var(--sklearn-color-unfitted-level-3);\n",
              "}\n",
              "\n",
              ".sk-estimator-doc-link.fitted span {\n",
              "  /* fitted */\n",
              "  background: var(--sklearn-color-fitted-level-0);\n",
              "  border: var(--sklearn-color-fitted-level-3);\n",
              "}\n",
              "\n",
              ".sk-estimator-doc-link:hover span {\n",
              "  display: block;\n",
              "}\n",
              "\n",
              "/* \"?\"-specific style due to the `<a>` HTML tag */\n",
              "\n",
              "#sk-container-id-7 a.estimator_doc_link {\n",
              "  float: right;\n",
              "  font-size: 1rem;\n",
              "  line-height: 1em;\n",
              "  font-family: monospace;\n",
              "  background-color: var(--sklearn-color-background);\n",
              "  border-radius: 1rem;\n",
              "  height: 1rem;\n",
              "  width: 1rem;\n",
              "  text-decoration: none;\n",
              "  /* unfitted */\n",
              "  color: var(--sklearn-color-unfitted-level-1);\n",
              "  border: var(--sklearn-color-unfitted-level-1) 1pt solid;\n",
              "}\n",
              "\n",
              "#sk-container-id-7 a.estimator_doc_link.fitted {\n",
              "  /* fitted */\n",
              "  border: var(--sklearn-color-fitted-level-1) 1pt solid;\n",
              "  color: var(--sklearn-color-fitted-level-1);\n",
              "}\n",
              "\n",
              "/* On hover */\n",
              "#sk-container-id-7 a.estimator_doc_link:hover {\n",
              "  /* unfitted */\n",
              "  background-color: var(--sklearn-color-unfitted-level-3);\n",
              "  color: var(--sklearn-color-background);\n",
              "  text-decoration: none;\n",
              "}\n",
              "\n",
              "#sk-container-id-7 a.estimator_doc_link.fitted:hover {\n",
              "  /* fitted */\n",
              "  background-color: var(--sklearn-color-fitted-level-3);\n",
              "}\n",
              "</style><div id=\"sk-container-id-7\" class=\"sk-top-container\"><div class=\"sk-text-repr-fallback\"><pre>SGDClassifier()</pre><b>In a Jupyter environment, please rerun this cell to show the HTML representation or trust the notebook. <br />On GitHub, the HTML representation is unable to render, please try loading this page with nbviewer.org.</b></div><div class=\"sk-container\" hidden><div class=\"sk-item\"><div class=\"sk-estimator fitted sk-toggleable\"><input class=\"sk-toggleable__control sk-hidden--visually\" id=\"sk-estimator-id-7\" type=\"checkbox\" checked><label for=\"sk-estimator-id-7\" class=\"sk-toggleable__label fitted sk-toggleable__label-arrow\"><div><div>SGDClassifier</div></div><div><a class=\"sk-estimator-doc-link fitted\" rel=\"noreferrer\" target=\"_blank\" href=\"https://scikit-learn.org/1.6/modules/generated/sklearn.linear_model.SGDClassifier.html\">?<span>Documentation for SGDClassifier</span></a><span class=\"sk-estimator-doc-link fitted\">i<span>Fitted</span></span></div></label><div class=\"sk-toggleable__content fitted\"><pre>SGDClassifier()</pre></div> </div></div></div></div>"
            ]
          },
          "metadata": {},
          "execution_count": 352
        }
      ]
    },
    {
      "cell_type": "code",
      "source": [
        "start_time = datetime.now()\n",
        "\n",
        "y_pred = reference_lc.predict(X_test)\n",
        "\n",
        "end_time = datetime.now()\n",
        "\n",
        "# Metrics\n",
        "accuracy = accuracy_score(y_test, y_pred)\n",
        "report = classification_report(y_test, y_pred)\n",
        "matrix = confusion_matrix(y_test, y_pred)\n",
        "\n",
        "print(f\"\\nReference Linear Classifier\")\n",
        "print(f\"\\nExecution Time: {(end_time - start_time).microseconds} mcs\")\n",
        "print(f\"\\nAccuracy: {accuracy:.2f}\")\n",
        "print(\"\\nClassification Report:\\n\", report)\n",
        "print(\"\\nConfusion Matrix:\\n\")\n",
        "sns.heatmap(matrix, annot=True, cmap=\"Blues\")"
      ],
      "metadata": {
        "colab": {
          "base_uri": "https://localhost:8080/",
          "height": 794
        },
        "id": "XBWa_EQ98EoT",
        "outputId": "149f02c5-d4d5-4a3f-c35e-198c2a651041"
      },
      "execution_count": 353,
      "outputs": [
        {
          "output_type": "stream",
          "name": "stdout",
          "text": [
            "\n",
            "Reference Linear Classifier\n",
            "\n",
            "Execution Time: 2473 mcs\n",
            "\n",
            "Accuracy: 0.84\n",
            "\n",
            "Classification Report:\n",
            "               precision    recall  f1-score   support\n",
            "\n",
            "          -1       0.87      0.72      0.79      2348\n",
            "           1       0.82      0.92      0.87      3232\n",
            "\n",
            "    accuracy                           0.84      5580\n",
            "   macro avg       0.84      0.82      0.83      5580\n",
            "weighted avg       0.84      0.84      0.83      5580\n",
            "\n",
            "\n",
            "Confusion Matrix:\n",
            "\n"
          ]
        },
        {
          "output_type": "execute_result",
          "data": {
            "text/plain": [
              "<Axes: >"
            ]
          },
          "metadata": {},
          "execution_count": 353
        },
        {
          "output_type": "display_data",
          "data": {
            "text/plain": [
              "<Figure size 640x480 with 2 Axes>"
            ],
            "image/png": "[encoded data removed]"
          },
          "metadata": {}
        }
      ]
    },
    {
      "cell_type": "markdown",
      "source": [
        "# 6. Custom Linear Classifier"
      ],
      "metadata": {
        "id": "rgJdRCTY8zFL"
      }
    },
    {
      "cell_type": "code",
      "source": [
        "class CustomLinearClassifier:\n",
        "    def __init__(self, lr=0.01, max_iter=1000, reg=0.5, gamma=0.9,\n",
        "                 momentum=False, optimize_lr=False, use_margins=False, initialization=\"correlation\"):\n",
        "        self.lr = lr\n",
        "        self.max_iter = max_iter\n",
        "        self.reg = reg\n",
        "        self.gamma = gamma\n",
        "        self.momentum = momentum\n",
        "        self.optimize_lr = optimize_lr\n",
        "        self.use_margins = use_margins\n",
        "        self.initialization = initialization\n",
        "\n",
        "        self.w = None\n",
        "        self.Q = None\n",
        "\n",
        "        self.v = 0\n",
        "\n",
        "        self.loss_history = []\n",
        "        self.Q_history = []\n",
        "\n",
        "    def initialize_weights(self, X, y):\n",
        "        n_features = X.shape[1]\n",
        "        if self.initialization == \"random\":\n",
        "            return np.random.uniform(low=-1 / (2 * n_features), high=1 / (2 * n_features), size=(1, n_features))\n",
        "        elif self.initialization == \"correlation\":\n",
        "            return np.array([(y.T @ X[:, i]) / (X[:, i].T @ X[:, i]) for i in range(X.shape[1])]).T\n",
        "\n",
        "    def quadratic_margin_loss(self, w, X, y):\n",
        "        M = (w @ X) * y\n",
        "        return (1-M)**2\n",
        "\n",
        "    def quadratic_margin_dloss(self, w, X, y):\n",
        "        M = (w @ X) * y\n",
        "        return -2*(1-M)*(y @ X.T)\n",
        "\n",
        "    def fit(self, X, Y, lambda_=0.001):\n",
        "        self.w = self.initialize_weights(X, Y)\n",
        "\n",
        "        if self.Q is None:\n",
        "            random_sample = np.random.choice(range(len(X)), size=(30))\n",
        "            random_X_sample = X[random_sample]\n",
        "            random_y_sample = Y[random_sample]\n",
        "\n",
        "            self.Q = np.mean([self.quadratic_margin_loss(self.w, x, y) for (x, y) in zip(random_X_sample, random_y_sample)])\n",
        "\n",
        "        for _ in range(self.max_iter):\n",
        "            if self.use_margins:\n",
        "                margins = ((X @ self.w.T) * Y).flatten()\n",
        "                abs_inv_margins = max(abs(margins)) - abs(margins)\n",
        "                abs_inv_margins = abs_inv_margins / sum(abs_inv_margins)\n",
        "                idx = np.random.choice(np.arange(len(X)), p=abs_inv_margins)\n",
        "                x, y = X[idx], Y[idx]\n",
        "            else:\n",
        "                x, y = random.choice(list(zip(X, Y)))\n",
        "\n",
        "            x = x.reshape(-1, 1)\n",
        "            y = y.reshape(-1, 1)\n",
        "\n",
        "            l = self.quadratic_margin_loss(self.w, x, y)\n",
        "\n",
        "            if self.optimize_lr:\n",
        "                self.lr = 1 / sum(x**2)\n",
        "            if self.momentum:\n",
        "                self.v = self.gamma * self.v + (1 - self.gamma) * self.quadratic_margin_dloss(self.w - self.lr * self.gamma * self.v, x, y)\n",
        "                self.w = self.w * (1 - self.lr * self.reg) - self.lr * self.v\n",
        "            else:\n",
        "                self.w = self.w * (1 - self.lr * self.reg) - self.lr * self.quadratic_margin_dloss(self.w, x, y)\n",
        "\n",
        "            self.Q = lambda_ * l + (1-lambda_) * self.Q\n",
        "\n",
        "            self.loss_history += [l[0, 0]]\n",
        "            self.Q_history += [self.Q[0, 0]]\n",
        "\n",
        "    def predict(self, X):\n",
        "        return np.sign(X @ self.w.T)"
      ],
      "metadata": {
        "id": "A-Hdj1Wj8ys7"
      },
      "execution_count": 354,
      "outputs": []
    },
    {
      "cell_type": "markdown",
      "source": [
        "## Initial Random Weights"
      ],
      "metadata": {
        "id": "g9RAvg9849zS"
      }
    },
    {
      "cell_type": "code",
      "source": [
        "custom_lc = CustomLinearClassifier(momentum=True, optimize_lr=True, use_margins=True, initialization=\"random\")\n",
        "custom_lc.fit(X_train, y_train)"
      ],
      "metadata": {
        "id": "Llkyg_ykCcgw"
      },
      "execution_count": 355,
      "outputs": []
    },
    {
      "cell_type": "code",
      "source": [
        "start_time = datetime.now()\n",
        "\n",
        "y_pred = custom_lc.predict(X_test)\n",
        "\n",
        "end_time = datetime.now()\n",
        "\n",
        "# Metrics\n",
        "accuracy = accuracy_score(y_test, y_pred)\n",
        "report = classification_report(y_test, y_pred)\n",
        "matrix = confusion_matrix(y_test, y_pred)\n",
        "\n",
        "print(f\"\\nCustom Linear Classifier With Initial Random Weights\")\n",
        "print(f\"\\nExecution Time: {(end_time - start_time).microseconds} mcs\")\n",
        "print(f\"\\nAccuracy: {accuracy:.2f}\")\n",
        "print(\"\\nClassification Report:\\n\", report)\n",
        "print(\"\\nConfusion Matrix:\\n\")\n",
        "sns.heatmap(matrix, annot=True, cmap=\"Blues\")"
      ],
      "metadata": {
        "colab": {
          "base_uri": "https://localhost:8080/",
          "height": 794
        },
        "id": "d5RclEKZOwoU",
        "outputId": "249b556d-e907-4d37-b195-2e1a07ad9fb9"
      },
      "execution_count": 356,
      "outputs": [
        {
          "output_type": "stream",
          "name": "stdout",
          "text": [
            "\n",
            "Custom Linear Classifier With Initial Random Weights\n",
            "\n",
            "Execution Time: 712 mcs\n",
            "\n",
            "Accuracy: 0.72\n",
            "\n",
            "Classification Report:\n",
            "               precision    recall  f1-score   support\n",
            "\n",
            "          -1       0.65      0.74      0.69      2348\n",
            "           1       0.79      0.71      0.75      3232\n",
            "\n",
            "    accuracy                           0.72      5580\n",
            "   macro avg       0.72      0.72      0.72      5580\n",
            "weighted avg       0.73      0.72      0.72      5580\n",
            "\n",
            "\n",
            "Confusion Matrix:\n",
            "\n"
          ]
        },
        {
          "output_type": "execute_result",
          "data": {
            "text/plain": [
              "<Axes: >"
            ]
          },
          "metadata": {},
          "execution_count": 356
        },
        {
          "output_type": "display_data",
          "data": {
            "text/plain": [
              "<Figure size 640x480 with 2 Axes>"
            ],
            "image/png": "[encoded data removed]"
          },
          "metadata": {}
        }
      ]
    },
    {
      "cell_type": "code",
      "source": [
        "plot_classifier_histories(custom_lc)"
      ],
      "metadata": {
        "colab": {
          "base_uri": "https://localhost:8080/",
          "height": 314
        },
        "id": "jdzamVanxUKw",
        "outputId": "4110cc43-d7a7-4009-b3be-4fd9c329e58f"
      },
      "execution_count": 357,
      "outputs": [
        {
          "output_type": "display_data",
          "data": {
            "text/plain": [
              "<Figure size 800x300 with 2 Axes>"
            ],
            "image/png": "[encoded data removed]"
          },
          "metadata": {}
        }
      ]
    },
    {
      "cell_type": "code",
      "source": [
        "margins = calculate_margin(custom_lc.w, X_test, y_test)\n",
        "plot_margin(margins)"
      ],
      "metadata": {
        "colab": {
          "base_uri": "https://localhost:8080/",
          "height": 291
        },
        "id": "RXDlaA_TWsop",
        "outputId": "8ca1cce9-e60f-4f15-bc20-5cb1efe00c5c"
      },
      "execution_count": 358,
      "outputs": [
        {
          "output_type": "display_data",
          "data": {
            "text/plain": [
              "<Figure size 500x300 with 1 Axes>"
            ],
            "image/png": "[encoded data removed]"
          },
          "metadata": {}
        }
      ]
    },
    {
      "cell_type": "markdown",
      "source": [
        "## Initial MultiStart Weights"
      ],
      "metadata": {
        "id": "1YkICBDh7iQO"
      }
    },
    {
      "cell_type": "code",
      "source": [
        "n_start = 25\n",
        "\n",
        "best_accuracy = 0\n",
        "best_time = 0\n",
        "best_report = None\n",
        "best_matrix = None\n",
        "best_weights = None\n",
        "best_lh = None\n",
        "best_qh = None\n",
        "\n",
        "for id in range(n_start):\n",
        "    custom_lc = CustomLinearClassifier(momentum=True, optimize_lr=True, use_margins=True, initialization=\"random\")\n",
        "    custom_lc.fit(X_train, y_train)\n",
        "\n",
        "    start_time = datetime.now()\n",
        "\n",
        "    y_pred = custom_lc.predict(X_test)\n",
        "\n",
        "    end_time = datetime.now()\n",
        "\n",
        "    # Metrics\n",
        "    accuracy = accuracy_score(y_test, y_pred)\n",
        "    report = classification_report(y_test, y_pred)\n",
        "    matrix = confusion_matrix(y_test, y_pred)\n",
        "\n",
        "    if accuracy > best_accuracy:\n",
        "        best_weights = custom_lc.w\n",
        "        best_accuracy = accuracy\n",
        "        best_time = end_time - start_time\n",
        "        best_report = report\n",
        "        best_matrix = matrix\n",
        "        best_lh = custom_lc.loss_history\n",
        "        best_qh = custom_lc.Q_history\n",
        "\n",
        "    print(f'[{id}]: Accuracy: {accuracy:.2f}')\n",
        "\n",
        "print(f'\\nBest Weights: {best_weights}')"
      ],
      "metadata": {
        "colab": {
          "base_uri": "https://localhost:8080/"
        },
        "outputId": "5e7f2608-a015-4d5b-c992-694626e7ab88",
        "id": "nXj8h4yN7iQO"
      },
      "execution_count": 359,
      "outputs": [
        {
          "output_type": "stream",
          "name": "stdout",
          "text": [
            "[0]: Accuracy: 0.74\n",
            "[1]: Accuracy: 0.59\n",
            "[2]: Accuracy: 0.56\n",
            "[3]: Accuracy: 0.71\n",
            "[4]: Accuracy: 0.77\n",
            "[5]: Accuracy: 0.75\n",
            "[6]: Accuracy: 0.72\n",
            "[7]: Accuracy: 0.66\n",
            "[8]: Accuracy: 0.74\n",
            "[9]: Accuracy: 0.44\n",
            "[10]: Accuracy: 0.69\n",
            "[11]: Accuracy: 0.49\n",
            "[12]: Accuracy: 0.73\n",
            "[13]: Accuracy: 0.64\n",
            "[14]: Accuracy: 0.58\n",
            "[15]: Accuracy: 0.60\n",
            "[16]: Accuracy: 0.65\n",
            "[17]: Accuracy: 0.56\n",
            "[18]: Accuracy: 0.59\n",
            "[19]: Accuracy: 0.76\n",
            "[20]: Accuracy: 0.65\n",
            "[21]: Accuracy: 0.63\n",
            "[22]: Accuracy: 0.70\n",
            "[23]: Accuracy: 0.53\n",
            "[24]: Accuracy: 0.63\n",
            "\n",
            "Best Weights: [[-0.41615016 -0.16996526 -0.01537359  0.32515974 -0.15839347 -0.27275657\n",
            "  -0.16120517 -0.10111889 -0.02488956  0.71295622  0.25876114  0.34328966\n",
            "  -0.1029759 ]]\n"
          ]
        }
      ]
    },
    {
      "cell_type": "code",
      "source": [
        "print(f\"\\nCustom Linear Classifier With Initial MultiStart Weights\")\n",
        "print(f\"\\nBest Weights: {best_weights}\")\n",
        "print(f\"\\nExecution Time: {best_time.microseconds} mcs\")\n",
        "print(f\"\\nAccuracy: {best_accuracy:.2f}\")\n",
        "print(\"\\nClassification Report:\\n\", best_report)\n",
        "print(\"\\nConfusion Matrix:\\n\")\n",
        "sns.heatmap(best_matrix, annot=True, cmap=\"Blues\")"
      ],
      "metadata": {
        "colab": {
          "base_uri": "https://localhost:8080/",
          "height": 864
        },
        "outputId": "2bd60397-535b-461f-9f01-a756cad53e7a",
        "id": "0N4zE8Ev7iQO"
      },
      "execution_count": 360,
      "outputs": [
        {
          "output_type": "stream",
          "name": "stdout",
          "text": [
            "\n",
            "Custom Linear Classifier With Initial MultiStart Weights\n",
            "\n",
            "Best Weights: [[-0.41615016 -0.16996526 -0.01537359  0.32515974 -0.15839347 -0.27275657\n",
            "  -0.16120517 -0.10111889 -0.02488956  0.71295622  0.25876114  0.34328966\n",
            "  -0.1029759 ]]\n",
            "\n",
            "Execution Time: 1919 mcs\n",
            "\n",
            "Accuracy: 0.77\n",
            "\n",
            "Classification Report:\n",
            "               precision    recall  f1-score   support\n",
            "\n",
            "          -1       0.82      0.58      0.68      2348\n",
            "           1       0.75      0.91      0.82      3232\n",
            "\n",
            "    accuracy                           0.77      5580\n",
            "   macro avg       0.78      0.74      0.75      5580\n",
            "weighted avg       0.78      0.77      0.76      5580\n",
            "\n",
            "\n",
            "Confusion Matrix:\n",
            "\n"
          ]
        },
        {
          "output_type": "execute_result",
          "data": {
            "text/plain": [
              "<Axes: >"
            ]
          },
          "metadata": {},
          "execution_count": 360
        },
        {
          "output_type": "display_data",
          "data": {
            "text/plain": [
              "<Figure size 640x480 with 2 Axes>"
            ],
            "image/png": "[encoded data removed]"
          },
          "metadata": {}
        }
      ]
    },
    {
      "cell_type": "code",
      "source": [
        "plot_histories(best_lh, best_qh)"
      ],
      "metadata": {
        "colab": {
          "base_uri": "https://localhost:8080/",
          "height": 314
        },
        "outputId": "cbc5b2e5-80ee-4a58-9cb4-55f6276288c6",
        "id": "DmczxXae7iQO"
      },
      "execution_count": 361,
      "outputs": [
        {
          "output_type": "display_data",
          "data": {
            "text/plain": [
              "<Figure size 800x300 with 2 Axes>"
            ],
            "image/png": "[encoded data removed]"
          },
          "metadata": {}
        }
      ]
    },
    {
      "cell_type": "code",
      "source": [
        "margins = calculate_margin(best_weights, X_test, y_test)\n",
        "plot_margin(margins)"
      ],
      "metadata": {
        "colab": {
          "base_uri": "https://localhost:8080/",
          "height": 291
        },
        "id": "bUVZzjYbYScU",
        "outputId": "648fb8bf-3703-4956-8d3c-2e45982211bb"
      },
      "execution_count": 362,
      "outputs": [
        {
          "output_type": "display_data",
          "data": {
            "text/plain": [
              "<Figure size 500x300 with 1 Axes>"
            ],
            "image/png": "[encoded data removed]"
          },
          "metadata": {}
        }
      ]
    },
    {
      "cell_type": "markdown",
      "source": [
        "## Initial Correlation Weights"
      ],
      "metadata": {
        "id": "TdHXHYIzYqvw"
      }
    },
    {
      "cell_type": "code",
      "source": [
        "custom_lc = CustomLinearClassifier(momentum=True, optimize_lr=True, use_margins=True, initialization=\"correlation\")\n",
        "custom_lc.fit(X_train, y_train)"
      ],
      "metadata": {
        "id": "8vtVcMu0Yqvx"
      },
      "execution_count": 363,
      "outputs": []
    },
    {
      "cell_type": "code",
      "source": [
        "start_time = datetime.now()\n",
        "\n",
        "y_pred = custom_lc.predict(X_test)\n",
        "\n",
        "end_time = datetime.now()\n",
        "\n",
        "# Metrics\n",
        "accuracy = accuracy_score(y_test, y_pred)\n",
        "report = classification_report(y_test, y_pred)\n",
        "matrix = confusion_matrix(y_test, y_pred)\n",
        "\n",
        "print(f\"\\nCustom Linear Classifier With Initial Correlation Weights\")\n",
        "print(f\"\\nExecution Time: {(end_time - start_time).microseconds} mcs\")\n",
        "print(f\"\\nAccuracy: {accuracy:.2f}\")\n",
        "print(\"\\nClassification Report:\\n\", report)\n",
        "print(\"\\nConfusion Matrix:\\n\")\n",
        "sns.heatmap(matrix, annot=True, cmap=\"Blues\")"
      ],
      "metadata": {
        "colab": {
          "base_uri": "https://localhost:8080/",
          "height": 794
        },
        "outputId": "e9120a6f-ecd5-4a58-bcad-8cc722100b84",
        "id": "lLA4-7rIYqvx"
      },
      "execution_count": 367,
      "outputs": [
        {
          "output_type": "stream",
          "name": "stdout",
          "text": [
            "\n",
            "Custom Linear Classifier With Initial Correlation Weights\n",
            "\n",
            "Execution Time: 8475 mcs\n",
            "\n",
            "Accuracy: 0.72\n",
            "\n",
            "Classification Report:\n",
            "               precision    recall  f1-score   support\n",
            "\n",
            "          -1       0.74      0.51      0.61      2348\n",
            "           1       0.71      0.87      0.78      3232\n",
            "\n",
            "    accuracy                           0.72      5580\n",
            "   macro avg       0.72      0.69      0.69      5580\n",
            "weighted avg       0.72      0.72      0.71      5580\n",
            "\n",
            "\n",
            "Confusion Matrix:\n",
            "\n"
          ]
        },
        {
          "output_type": "execute_result",
          "data": {
            "text/plain": [
              "<Axes: >"
            ]
          },
          "metadata": {},
          "execution_count": 367
        },
        {
          "output_type": "display_data",
          "data": {
            "text/plain": [
              "<Figure size 640x480 with 2 Axes>"
            ],
            "image/png": "[encoded data removed]"
          },
          "metadata": {}
        }
      ]
    },
    {
      "cell_type": "code",
      "source": [
        "plot_classifier_histories(custom_lc)"
      ],
      "metadata": {
        "colab": {
          "base_uri": "https://localhost:8080/",
          "height": 314
        },
        "outputId": "4badc74a-8f88-438a-f25e-58a04f8b8747",
        "id": "S98Yv0pZYqvx"
      },
      "execution_count": 368,
      "outputs": [
        {
          "output_type": "display_data",
          "data": {
            "text/plain": [
              "<Figure size 800x300 with 2 Axes>"
            ],
            "image/png": "[encoded data removed]"
          },
          "metadata": {}
        }
      ]
    },
    {
      "cell_type": "code",
      "source": [
        "margins = calculate_margin(custom_lc.w, X_test, y_test)\n",
        "plot_margin(margins)"
      ],
      "metadata": {
        "colab": {
          "base_uri": "https://localhost:8080/",
          "height": 291
        },
        "outputId": "97837230-832a-4f60-e58d-761bd2bffb98",
        "id": "UpV1Kes4Yqvx"
      },
      "execution_count": 369,
      "outputs": [
        {
          "output_type": "display_data",
          "data": {
            "text/plain": [
              "<Figure size 500x300 with 1 Axes>"
            ],
            "image/png": "[encoded data removed]"
          },
          "metadata": {}
        }
      ]
    }
  ]
}