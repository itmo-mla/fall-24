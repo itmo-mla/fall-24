{
  "nbformat": 4,
  "nbformat_minor": 0,
  "metadata": {
    "colab": {
      "provenance": [],
      "collapsed_sections": [
        "xrlN4sSqL0rF"
      ]
    },
    "kernelspec": {
      "name": "python3",
      "display_name": "Python 3"
    },
    "language_info": {
      "name": "python"
    }
  },
  "cells": [
    {
      "cell_type": "markdown",
      "source": [
        "# 1. Import Libraries"
      ],
      "metadata": {
        "id": "9vlySlAcLqbF"
      }
    },
    {
      "cell_type": "code",
      "source": [
        "import pandas as pd\n",
        "import numpy as np\n",
        "\n",
        "from sklearn.model_selection import train_test_split\n",
        "from sklearn.preprocessing import LabelEncoder, StandardScaler\n",
        "from sklearn.neighbors import KNeighborsClassifier\n",
        "from sklearn.metrics import classification_report, accuracy_score, confusion_matrix\n",
        "from scipy.spatial.distance import cdist\n",
        "\n",
        "import matplotlib.pyplot as plt\n",
        "import seaborn as sns\n",
        "import time\n",
        "import random"
      ],
      "metadata": {
        "id": "-HZUo4LeLpvd"
      },
      "execution_count": 429,
      "outputs": []
    },
    {
      "cell_type": "markdown",
      "source": [
        "# 2. Load the Dataset"
      ],
      "metadata": {
        "id": "xrlN4sSqL0rF"
      }
    },
    {
      "cell_type": "code",
      "source": [
        "path = '/content/KNNAlgorithmDataset.csv'\n",
        "dataset = pd.read_csv(path)\n",
        "print(\"Dataset Loaded:\\n\", dataset.head())"
      ],
      "metadata": {
        "colab": {
          "base_uri": "https://localhost:8080/"
        },
        "id": "4sROTrBPL8zN",
        "outputId": "27d6f21e-07fa-4206-c06f-0b5c41a6b973"
      },
      "execution_count": 430,
      "outputs": [
        {
          "output_type": "stream",
          "name": "stdout",
          "text": [
            "Dataset Loaded:\n",
            "          id diagnosis  radius_mean  texture_mean  perimeter_mean  area_mean  \\\n",
            "0    842302         M        17.99         10.38          122.80     1001.0   \n",
            "1    842517         M        20.57         17.77          132.90     1326.0   \n",
            "2  84300903         M        19.69         21.25          130.00     1203.0   \n",
            "3  84348301         M        11.42         20.38           77.58      386.1   \n",
            "4  84358402         M        20.29         14.34          135.10     1297.0   \n",
            "\n",
            "   smoothness_mean  compactness_mean  concavity_mean  concave points_mean  \\\n",
            "0          0.11840           0.27760          0.3001              0.14710   \n",
            "1          0.08474           0.07864          0.0869              0.07017   \n",
            "2          0.10960           0.15990          0.1974              0.12790   \n",
            "3          0.14250           0.28390          0.2414              0.10520   \n",
            "4          0.10030           0.13280          0.1980              0.10430   \n",
            "\n",
            "   ...  texture_worst  perimeter_worst  area_worst  smoothness_worst  \\\n",
            "0  ...          17.33           184.60      2019.0            0.1622   \n",
            "1  ...          23.41           158.80      1956.0            0.1238   \n",
            "2  ...          25.53           152.50      1709.0            0.1444   \n",
            "3  ...          26.50            98.87       567.7            0.2098   \n",
            "4  ...          16.67           152.20      1575.0            0.1374   \n",
            "\n",
            "   compactness_worst  concavity_worst  concave points_worst  symmetry_worst  \\\n",
            "0             0.6656           0.7119                0.2654          0.4601   \n",
            "1             0.1866           0.2416                0.1860          0.2750   \n",
            "2             0.4245           0.4504                0.2430          0.3613   \n",
            "3             0.8663           0.6869                0.2575          0.6638   \n",
            "4             0.2050           0.4000                0.1625          0.2364   \n",
            "\n",
            "   fractal_dimension_worst  Unnamed: 32  \n",
            "0                  0.11890          NaN  \n",
            "1                  0.08902          NaN  \n",
            "2                  0.08758          NaN  \n",
            "3                  0.17300          NaN  \n",
            "4                  0.07678          NaN  \n",
            "\n",
            "[5 rows x 33 columns]\n"
          ]
        }
      ]
    },
    {
      "cell_type": "markdown",
      "source": [
        "# 3. Preprocess the Dataset"
      ],
      "metadata": {
        "id": "mH5CMEFnMUxF"
      }
    },
    {
      "cell_type": "markdown",
      "source": [
        "See the number of missing values for each feature"
      ],
      "metadata": {
        "id": "icoCLzMdPFH8"
      }
    },
    {
      "cell_type": "code",
      "source": [
        "print(dataset.isnull().sum())"
      ],
      "metadata": {
        "colab": {
          "base_uri": "https://localhost:8080/"
        },
        "id": "4_vxVwCPMsF9",
        "outputId": "327a7d7f-216b-43f5-e5ec-5375619dde90"
      },
      "execution_count": 431,
      "outputs": [
        {
          "output_type": "stream",
          "name": "stdout",
          "text": [
            "id                           0\n",
            "diagnosis                    0\n",
            "radius_mean                  0\n",
            "texture_mean                 0\n",
            "perimeter_mean               0\n",
            "area_mean                    0\n",
            "smoothness_mean              0\n",
            "compactness_mean             0\n",
            "concavity_mean               0\n",
            "concave points_mean          0\n",
            "symmetry_mean                0\n",
            "fractal_dimension_mean       0\n",
            "radius_se                    0\n",
            "texture_se                   0\n",
            "perimeter_se                 0\n",
            "area_se                      0\n",
            "smoothness_se                0\n",
            "compactness_se               0\n",
            "concavity_se                 0\n",
            "concave points_se            0\n",
            "symmetry_se                  0\n",
            "fractal_dimension_se         0\n",
            "radius_worst                 0\n",
            "texture_worst                0\n",
            "perimeter_worst              0\n",
            "area_worst                   0\n",
            "smoothness_worst             0\n",
            "compactness_worst            0\n",
            "concavity_worst              0\n",
            "concave points_worst         0\n",
            "symmetry_worst               0\n",
            "fractal_dimension_worst      0\n",
            "Unnamed: 32                569\n",
            "dtype: int64\n"
          ]
        }
      ]
    },
    {
      "cell_type": "markdown",
      "source": [
        "Drop the column `id` besause it doesn't affect the classification and the column `Unnamed: 32` because it has too many missing values."
      ],
      "metadata": {
        "id": "z3HubxcjPMzr"
      }
    },
    {
      "cell_type": "code",
      "source": [
        "dataset = dataset.drop(columns=['id','Unnamed: 32'])"
      ],
      "metadata": {
        "id": "6P4ux-bsNOil"
      },
      "execution_count": 432,
      "outputs": []
    },
    {
      "cell_type": "markdown",
      "source": [
        "Function to preprocess the dataset and split it into train data and test data"
      ],
      "metadata": {
        "id": "I4J5mL4-Po6H"
      }
    },
    {
      "cell_type": "code",
      "source": [
        "def preprocess_dataset(dataset, target_columns):\n",
        "    # Encode categorical variables\n",
        "    le = LabelEncoder()\n",
        "    for column in dataset.select_dtypes(include=['object']).columns:\n",
        "        dataset[column] = le.fit_transform(dataset[column])\n",
        "\n",
        "    # Split dataset\n",
        "    X = dataset.drop(columns=target_columns)  # Features\n",
        "    X = StandardScaler().fit_transform(X)\n",
        "    y = dataset[target_columns].values.ravel() # Target\n",
        "    X_train, X_test, y_train, y_test = train_test_split(X, y, test_size=0.2, random_state=42)\n",
        "\n",
        "    return X_train, X_test, y_train, y_test"
      ],
      "metadata": {
        "id": "oouQ2IhiMXxN"
      },
      "execution_count": 433,
      "outputs": []
    },
    {
      "cell_type": "code",
      "source": [
        "X_train, X_test, y_train, y_test = preprocess_dataset(dataset, target_columns=['diagnosis'])\n",
        "print(\"Data Preprocessing Completed.\")"
      ],
      "metadata": {
        "colab": {
          "base_uri": "https://localhost:8080/"
        },
        "id": "6xfKsToEMfKF",
        "outputId": "991fd1ac-6652-4078-c42f-6303cce5a5cd"
      },
      "execution_count": 434,
      "outputs": [
        {
          "output_type": "stream",
          "name": "stdout",
          "text": [
            "Data Preprocessing Completed.\n"
          ]
        }
      ]
    },
    {
      "cell_type": "markdown",
      "source": [
        "# 4. Apply KNN using sklearn"
      ],
      "metadata": {
        "id": "UCe427YkP6iY"
      }
    },
    {
      "cell_type": "code",
      "source": [
        "def apply_library_knn(X_train, X_test, y_train, y_test, k=5):\n",
        "    knn = KNeighborsClassifier(n_neighbors=k)  # Default k=5\n",
        "    start_time = time.time()\n",
        "    knn.fit(X_train, y_train)\n",
        "    y_pred = knn.predict(X_test)\n",
        "    end_time = time.time()\n",
        "\n",
        "    # Metrics\n",
        "    accuracy = accuracy_score(y_test, y_pred)\n",
        "    report = classification_report(y_test, y_pred)\n",
        "    matrix = confusion_matrix(y_test, y_pred)\n",
        "\n",
        "    print(f\"\\nLibrary KNN Execution Time: {end_time - start_time:.4f} seconds\")\n",
        "    print(f\"\\nAccuracy: {accuracy:.2f}\")\n",
        "    print(\"\\nClassification Report:\\n\", report)\n",
        "    print(\"\\nConfusion Matrix:\\n\")\n",
        "    sns.heatmap(matrix, annot=True, cmap=\"Blues\")\n",
        "\n",
        "    return knn, accuracy, end_time - start_time"
      ],
      "metadata": {
        "id": "q9TZ8-MkQANE"
      },
      "execution_count": 435,
      "outputs": []
    },
    {
      "cell_type": "code",
      "execution_count": 436,
      "metadata": {
        "colab": {
          "base_uri": "https://localhost:8080/",
          "height": 775
        },
        "id": "msKIsu7VLVa3",
        "outputId": "1c256e17-e8b3-4501-8c06-a525ce6aab71"
      },
      "outputs": [
        {
          "output_type": "stream",
          "name": "stdout",
          "text": [
            "Applying KNN using sklearn...\n",
            "\n",
            "Library KNN Execution Time: 0.0047 seconds\n",
            "\n",
            "Accuracy: 0.95\n",
            "\n",
            "Classification Report:\n",
            "               precision    recall  f1-score   support\n",
            "\n",
            "           0       0.96      0.96      0.96        71\n",
            "           1       0.93      0.93      0.93        43\n",
            "\n",
            "    accuracy                           0.95       114\n",
            "   macro avg       0.94      0.94      0.94       114\n",
            "weighted avg       0.95      0.95      0.95       114\n",
            "\n",
            "\n",
            "Confusion Matrix:\n",
            "\n"
          ]
        },
        {
          "output_type": "display_data",
          "data": {
            "text/plain": [
              "<Figure size 640x480 with 2 Axes>"
            ],
            "image/png": "[encoded data removed]"
          },
          "metadata": {}
        }
      ],
      "source": [
        "print(\"Applying KNN using sklearn...\")\n",
        "knn, accuracy, time_taken = apply_library_knn(X_train, X_test, y_train, y_test, k=5)"
      ]
    },
    {
      "cell_type": "markdown",
      "source": [
        "# 5. Apply Costum KNN with Parzen window method"
      ],
      "metadata": {
        "id": "dvus0yROVSaR"
      }
    },
    {
      "cell_type": "markdown",
      "source": [
        "Gaussian kernel function"
      ],
      "metadata": {
        "id": "ZT8B0y5BVeBS"
      }
    },
    {
      "cell_type": "code",
      "source": [
        "def gaussian_kernel(distance, bandwidth):\n",
        "    return np.exp(-0.5 * (distance / bandwidth) ** 2)"
      ],
      "metadata": {
        "id": "GzKoT36rVcOR"
      },
      "execution_count": 437,
      "outputs": []
    },
    {
      "cell_type": "markdown",
      "source": [
        "Custom KNN Classifier with Parzen Window"
      ],
      "metadata": {
        "id": "0_iX-equVhpo"
      }
    },
    {
      "cell_type": "code",
      "source": [
        "class CustomKNN:\n",
        "    def __init__(self, k=5):\n",
        "        self.k = k\n",
        "        self.X_train = None\n",
        "        self.y_train = None\n",
        "\n",
        "    def fit(self, X_train, y_train):\n",
        "        self.X_train = X_train\n",
        "        self.y_train = y_train\n",
        "\n",
        "    def predict_single(self, x):\n",
        "        # Calculate distances\n",
        "        distances = np.linalg.norm(self.X_train - x.reshape((1,-1)), axis=1)\n",
        "\n",
        "        # Sort indices by distance\n",
        "        sorted_indices = np.argsort(distances)\n",
        "\n",
        "        # Select k nearest neighbors\n",
        "        k_nearest_indices = sorted_indices[:self.k]\n",
        "        k_nearest_distances = distances[k_nearest_indices]\n",
        "        k_nearest_labels = self.y_train[k_nearest_indices]\n",
        "\n",
        "        # Apply Gaussian kernel for weights\n",
        "        weights = np.zeros((self.k, len(np.unique(self.y_train))))\n",
        "        bandwidth = np.sort(distances, axis=0)[self.k]\n",
        "        weights[np.arange(self.k), k_nearest_labels] = 1 / np.sqrt(2 * np.pi) * gaussian_kernel(k_nearest_distances, bandwidth)\n",
        "\n",
        "        # Aggregate weights per class\n",
        "        class_weights = {}\n",
        "        for label, weight in zip(k_nearest_labels, weights):\n",
        "            class_weights[label] = class_weights.get(label, 0) + weight\n",
        "\n",
        "        # Predict class with max weight\n",
        "        predicted_class = np.argmax(np.sum(weights, axis=0)).astype(np.int32)\n",
        "\n",
        "        return predicted_class\n",
        "\n",
        "    def predict(self, X_test):\n",
        "        predictions = []\n",
        "        for x in X_test:\n",
        "            predictions.append(self.predict_single(x))\n",
        "\n",
        "        return np.array(predictions)"
      ],
      "metadata": {
        "id": "pSwfc_bUVjBo"
      },
      "execution_count": 438,
      "outputs": []
    },
    {
      "cell_type": "markdown",
      "source": [
        "Evaluate custom KNN"
      ],
      "metadata": {
        "id": "WwqlmxBnV29A"
      }
    },
    {
      "cell_type": "code",
      "source": [
        "def evaluate_custom_knn(X_train, X_test, y_train, y_test, k=5):\n",
        "    custom_knn = CustomKNN(k=k)\n",
        "    custom_knn.fit(X_train, y_train)\n",
        "\n",
        "    start_time = time.time()\n",
        "    y_pred = custom_knn.predict(X_test)\n",
        "    end_time = time.time()\n",
        "\n",
        "    # Metrics\n",
        "    accuracy = accuracy_score(y_test, y_pred)\n",
        "    report = classification_report(y_test, y_pred)\n",
        "    matrix = confusion_matrix(y_test, y_pred)\n",
        "\n",
        "    print(f\"\\nCustom KNN Execution Time: {end_time - start_time:.4f} seconds\")\n",
        "    print(f\"\\nAccuracy: {accuracy:.2f}\")\n",
        "    print(\"\\nClassification Report:\\n\", report)\n",
        "    print(\"\\nConfusion Matrix:\\n\")\n",
        "    sns.heatmap(matrix, annot=True, cmap=\"Blues\")\n",
        "\n",
        "    return custom_knn, accuracy, end_time - start_time"
      ],
      "metadata": {
        "id": "8AtPyFHLVz4p"
      },
      "execution_count": 439,
      "outputs": []
    },
    {
      "cell_type": "code",
      "source": [
        "print(\"Evaluating Custom KNN with Parzen Window...\")\n",
        "custom_knn, accuracy, time_taken = evaluate_custom_knn(X_train, X_test, y_train, y_test, k=5)"
      ],
      "metadata": {
        "colab": {
          "base_uri": "https://localhost:8080/",
          "height": 775
        },
        "id": "SPhcXg5YV7yA",
        "outputId": "ce0701d2-de21-4adf-8a40-abbaa42e623b"
      },
      "execution_count": 440,
      "outputs": [
        {
          "output_type": "stream",
          "name": "stdout",
          "text": [
            "Evaluating Custom KNN with Parzen Window...\n",
            "\n",
            "Custom KNN Execution Time: 0.0283 seconds\n",
            "\n",
            "Accuracy: 0.95\n",
            "\n",
            "Classification Report:\n",
            "               precision    recall  f1-score   support\n",
            "\n",
            "           0       0.96      0.96      0.96        71\n",
            "           1       0.93      0.93      0.93        43\n",
            "\n",
            "    accuracy                           0.95       114\n",
            "   macro avg       0.94      0.94      0.94       114\n",
            "weighted avg       0.95      0.95      0.95       114\n",
            "\n",
            "\n",
            "Confusion Matrix:\n",
            "\n"
          ]
        },
        {
          "output_type": "display_data",
          "data": {
            "text/plain": [
              "<Figure size 640x480 with 2 Axes>"
            ],
            "image/png": "[encoded data removed]"
          },
          "metadata": {}
        }
      ]
    },
    {
      "cell_type": "markdown",
      "source": [
        "# 6. LOO Cross-Validation"
      ],
      "metadata": {
        "id": "vTANuGwwaaNp"
      }
    },
    {
      "cell_type": "markdown",
      "source": [
        "LOO Cross-Validation Function"
      ],
      "metadata": {
        "id": "8YvYilOdah9i"
      }
    },
    {
      "cell_type": "code",
      "source": [
        "def loo_cross_validation(X, y, k_values, knn_module_name):\n",
        "    n_samples = len(X)\n",
        "    best_k = None\n",
        "    min_risk = float('inf')\n",
        "    risks = []\n",
        "\n",
        "    for k in k_values:\n",
        "        total_errors = 0\n",
        "        for i in range(n_samples):\n",
        "            # Split data for LOO: 1 test sample, n-1 training samples\n",
        "            X_train = np.delete(X, i, axis=0)\n",
        "            y_train = np.delete(y, i, axis=0)\n",
        "            X_test = X[i].reshape(1, -1)\n",
        "            y_test = y[i]\n",
        "\n",
        "            # Train KNN Module\n",
        "            knn_module = None\n",
        "            if knn_module_name == 'CustomKNN':\n",
        "                knn_module = CustomKNN(k=k)\n",
        "            elif knn_module_name == 'KNeighborsClassifier':\n",
        "                knn_module = KNeighborsClassifier(n_neighbors=k)\n",
        "            knn_module.fit(X_train, y_train)\n",
        "            y_pred = knn_module.predict(X_test)[0]\n",
        "\n",
        "            # Count errors\n",
        "            if y_pred != y_test:\n",
        "                total_errors += 1\n",
        "\n",
        "        # Compute risk (error rate)\n",
        "        risk = total_errors / n_samples\n",
        "        risks.append(risk)\n",
        "\n",
        "        # Update best parameters\n",
        "        if risk < min_risk:\n",
        "            min_risk = risk\n",
        "            best_k = k\n",
        "\n",
        "    return best_k, risks"
      ],
      "metadata": {
        "id": "tbZR2Plaaby_"
      },
      "execution_count": 441,
      "outputs": []
    },
    {
      "cell_type": "markdown",
      "source": [
        "Plot Empirical Risk"
      ],
      "metadata": {
        "id": "ew8AE-NKalEP"
      }
    },
    {
      "cell_type": "code",
      "source": [
        "def plot_risk(risks, k_values):\n",
        "    plt.plot(k_values, risks, 'b-o', markersize=6, markeredgecolor='k')\n",
        "    plt.xlim(0, 30)\n",
        "    plt.grid(\"on\")\n",
        "    plt.ylabel(\"Error rate\")\n",
        "    plt.xlabel(\"k neighbours\")\n",
        "    plt.title(\"Leave One Out Method\")"
      ],
      "metadata": {
        "id": "PcC8ofCcalYI"
      },
      "execution_count": 442,
      "outputs": []
    },
    {
      "cell_type": "code",
      "source": [
        "X = dataset.drop(columns=['diagnosis'])  # Features\n",
        "X = StandardScaler().fit_transform(X)\n",
        "y = dataset['diagnosis'].values.ravel() # Target\n",
        "\n",
        "# Define k and bandwidth ranges\n",
        "k_values = list(range(1, 30))"
      ],
      "metadata": {
        "id": "L6Wif6p5nxlT"
      },
      "execution_count": 443,
      "outputs": []
    },
    {
      "cell_type": "code",
      "source": [
        "print(\"Running LOO Cross-Validation for Reference KNN...\")\n",
        "best_k_ref, risks_ref = loo_cross_validation(X, y, k_values, knn_module_name='KNeighborsClassifier')\n",
        "print(f\"Best k: {best_k_ref}\")\n",
        "\n",
        "# Plot empirical risk\n",
        "plot_risk(risks_ref, k_values)"
      ],
      "metadata": {
        "colab": {
          "base_uri": "https://localhost:8080/",
          "height": 508
        },
        "id": "P4RnbFMn12HP",
        "outputId": "8668bfab-4314-4475-c844-11684b00c893"
      },
      "execution_count": 444,
      "outputs": [
        {
          "output_type": "stream",
          "name": "stdout",
          "text": [
            "Running LOO Cross-Validation for Reference KNN...\n",
            "Best k: 5\n"
          ]
        },
        {
          "output_type": "display_data",
          "data": {
            "text/plain": [
              "<Figure size 640x480 with 1 Axes>"
            ],
            "image/png": "[encoded data removed]"
          },
          "metadata": {}
        }
      ]
    },
    {
      "cell_type": "code",
      "source": [
        "print(\"Running LOO Cross-Validation for Custom KNN...\")\n",
        "best_k_imp, risks_imp = loo_cross_validation(X, y, k_values, knn_module_name='CustomKNN')\n",
        "print(f\"Best k: {best_k_imp}\")\n",
        "\n",
        "# Plot empirical risk\n",
        "plot_risk(risks_imp, k_values)"
      ],
      "metadata": {
        "colab": {
          "base_uri": "https://localhost:8080/",
          "height": 508
        },
        "id": "ZsXaOyN4ar2H",
        "outputId": "646e905f-09a3-463c-a7fc-e94a163e8f81"
      },
      "execution_count": 445,
      "outputs": [
        {
          "output_type": "stream",
          "name": "stdout",
          "text": [
            "Running LOO Cross-Validation for Custom KNN...\n",
            "Best k: 5\n"
          ]
        },
        {
          "output_type": "display_data",
          "data": {
            "text/plain": [
              "<Figure size 640x480 with 1 Axes>"
            ],
            "image/png": "[encoded data removed]"
          },
          "metadata": {}
        }
      ]
    },
    {
      "cell_type": "markdown",
      "source": [
        "# 7. Checking performance for a random test value"
      ],
      "metadata": {
        "id": "mDSJBcAcz2uc"
      }
    },
    {
      "cell_type": "code",
      "source": [
        "index = random.randint(0, len(X_test))\n",
        "x = X_test[index]\n",
        "\n",
        "# init custom KNN\n",
        "knn_imp = CustomKNN(k=9)\n",
        "knn_imp.fit(X_train,y_train)\n",
        "\n",
        "#init reference KNN\n",
        "knn_ref = KNeighborsClassifier(n_neighbors=9)\n",
        "knn_ref.fit(X_train,y_train)\n",
        "\n",
        "# run custom KNN\n",
        "start_imp = time.time()\n",
        "pred_imp = knn_imp.predict_single(x)\n",
        "end_imp = time.time()\n",
        "\n",
        "e_imp = (end_imp - start_imp) * 1000\n",
        "\n",
        "#run reference KNN\n",
        "start_ref = time.time()\n",
        "pred_ref = knn_ref.predict(x.reshape((1,-1)))\n",
        "end_ref = time.time()\n",
        "\n",
        "e_ref = (end_ref - start_ref) * 1000\n",
        "\n",
        "print(f'Got random test value at index = {index}')\n",
        "print(f'Implemented KNN prediction: {pred_imp} | Reference KNN prediction: {pred_2[0]}')\n",
        "print(f'Elapsed Time: for Implemented KNN: {e_imp} ms | for Reference KNN: {e_ref} ms')"
      ],
      "metadata": {
        "colab": {
          "base_uri": "https://localhost:8080/"
        },
        "id": "XzbTpEajqyYA",
        "outputId": "589c7d41-6281-47dc-c4de-87f168bc5e99"
      },
      "execution_count": 446,
      "outputs": [
        {
          "output_type": "stream",
          "name": "stdout",
          "text": [
            "Got random test value at index = 86\n",
            "Implemented KNN prediction: 1 | Reference KNN prediction: 0\n",
            "Elapsed Time: for Implemented KNN: 0.5533695220947266 ms | for Reference KNN: 1.508951187133789 ms\n"
          ]
        }
      ]
    }
  ]
}