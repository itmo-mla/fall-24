{
 "cells": [
  {
   "cell_type": "code",
   "execution_count": 1,
   "metadata": {},
   "outputs": [],
   "source": [
    "import numpy as np\n",
    "np.set_printoptions(suppress=True, precision=6)\n",
    "\n",
    "import pandas as pd\n",
    "import matplotlib.pyplot as plt\n",
    "\n",
    "from sklearn.metrics import r2_score\n"
   ]
  },
  {
   "cell_type": "code",
   "execution_count": 2,
   "metadata": {},
   "outputs": [],
   "source": [
    "%reload_ext autoreload\n",
    "%autoreload 2"
   ]
  },
  {
   "cell_type": "code",
   "execution_count": 3,
   "metadata": {},
   "outputs": [],
   "source": [
    "def plot_result(y_test, y_pred, idxs):\n",
    "    x_range = np.arange(idxs[0], idxs[1])\n",
    "    plt.plot(x_range, y_test[idxs[0]:idxs[1]], color='red', label='Ground Truth')\n",
    "    plt.plot(x_range, y_pred[idxs[0]:idxs[1]], color='blue', label='Predicted')\n",
    "    plt.legend(loc='upper left')"
   ]
  },
  {
   "cell_type": "markdown",
   "metadata": {},
   "source": [
    "## Подготовка датасета"
   ]
  },
  {
   "cell_type": "code",
   "execution_count": 4,
   "metadata": {},
   "outputs": [
    {
     "data": {
      "text/html": [
       "<div>\n",
       "<style scoped>\n",
       "    .dataframe tbody tr th:only-of-type {\n",
       "        vertical-align: middle;\n",
       "    }\n",
       "\n",
       "    .dataframe tbody tr th {\n",
       "        vertical-align: top;\n",
       "    }\n",
       "\n",
       "    .dataframe thead th {\n",
       "        text-align: right;\n",
       "    }\n",
       "</style>\n",
       "<table border=\"1\" class=\"dataframe\">\n",
       "  <thead>\n",
       "    <tr style=\"text-align: right;\">\n",
       "      <th></th>\n",
       "      <th>date</th>\n",
       "      <th>Usage_kWh</th>\n",
       "      <th>Lagging_Current_Reactive.Power_kVarh</th>\n",
       "      <th>Leading_Current_Reactive_Power_kVarh</th>\n",
       "      <th>CO2(tCO2)</th>\n",
       "      <th>Lagging_Current_Power_Factor</th>\n",
       "      <th>Leading_Current_Power_Factor</th>\n",
       "      <th>NSM</th>\n",
       "      <th>WeekStatus</th>\n",
       "      <th>Day_of_week</th>\n",
       "      <th>Load_Type</th>\n",
       "    </tr>\n",
       "  </thead>\n",
       "  <tbody>\n",
       "    <tr>\n",
       "      <th>0</th>\n",
       "      <td>01/01/2018 00:15</td>\n",
       "      <td>3.17</td>\n",
       "      <td>2.95</td>\n",
       "      <td>0.0</td>\n",
       "      <td>0.0</td>\n",
       "      <td>73.21</td>\n",
       "      <td>100.0</td>\n",
       "      <td>900</td>\n",
       "      <td>Weekday</td>\n",
       "      <td>Monday</td>\n",
       "      <td>Light_Load</td>\n",
       "    </tr>\n",
       "    <tr>\n",
       "      <th>1</th>\n",
       "      <td>01/01/2018 00:30</td>\n",
       "      <td>4.00</td>\n",
       "      <td>4.46</td>\n",
       "      <td>0.0</td>\n",
       "      <td>0.0</td>\n",
       "      <td>66.77</td>\n",
       "      <td>100.0</td>\n",
       "      <td>1800</td>\n",
       "      <td>Weekday</td>\n",
       "      <td>Monday</td>\n",
       "      <td>Light_Load</td>\n",
       "    </tr>\n",
       "    <tr>\n",
       "      <th>2</th>\n",
       "      <td>01/01/2018 00:45</td>\n",
       "      <td>3.24</td>\n",
       "      <td>3.28</td>\n",
       "      <td>0.0</td>\n",
       "      <td>0.0</td>\n",
       "      <td>70.28</td>\n",
       "      <td>100.0</td>\n",
       "      <td>2700</td>\n",
       "      <td>Weekday</td>\n",
       "      <td>Monday</td>\n",
       "      <td>Light_Load</td>\n",
       "    </tr>\n",
       "    <tr>\n",
       "      <th>3</th>\n",
       "      <td>01/01/2018 01:00</td>\n",
       "      <td>3.31</td>\n",
       "      <td>3.56</td>\n",
       "      <td>0.0</td>\n",
       "      <td>0.0</td>\n",
       "      <td>68.09</td>\n",
       "      <td>100.0</td>\n",
       "      <td>3600</td>\n",
       "      <td>Weekday</td>\n",
       "      <td>Monday</td>\n",
       "      <td>Light_Load</td>\n",
       "    </tr>\n",
       "    <tr>\n",
       "      <th>4</th>\n",
       "      <td>01/01/2018 01:15</td>\n",
       "      <td>3.82</td>\n",
       "      <td>4.50</td>\n",
       "      <td>0.0</td>\n",
       "      <td>0.0</td>\n",
       "      <td>64.72</td>\n",
       "      <td>100.0</td>\n",
       "      <td>4500</td>\n",
       "      <td>Weekday</td>\n",
       "      <td>Monday</td>\n",
       "      <td>Light_Load</td>\n",
       "    </tr>\n",
       "  </tbody>\n",
       "</table>\n",
       "</div>"
      ],
      "text/plain": [
       "               date  Usage_kWh  Lagging_Current_Reactive.Power_kVarh  \\\n",
       "0  01/01/2018 00:15       3.17                                  2.95   \n",
       "1  01/01/2018 00:30       4.00                                  4.46   \n",
       "2  01/01/2018 00:45       3.24                                  3.28   \n",
       "3  01/01/2018 01:00       3.31                                  3.56   \n",
       "4  01/01/2018 01:15       3.82                                  4.50   \n",
       "\n",
       "   Leading_Current_Reactive_Power_kVarh  CO2(tCO2)  \\\n",
       "0                                   0.0        0.0   \n",
       "1                                   0.0        0.0   \n",
       "2                                   0.0        0.0   \n",
       "3                                   0.0        0.0   \n",
       "4                                   0.0        0.0   \n",
       "\n",
       "   Lagging_Current_Power_Factor  Leading_Current_Power_Factor   NSM  \\\n",
       "0                         73.21                         100.0   900   \n",
       "1                         66.77                         100.0  1800   \n",
       "2                         70.28                         100.0  2700   \n",
       "3                         68.09                         100.0  3600   \n",
       "4                         64.72                         100.0  4500   \n",
       "\n",
       "  WeekStatus Day_of_week   Load_Type  \n",
       "0    Weekday      Monday  Light_Load  \n",
       "1    Weekday      Monday  Light_Load  \n",
       "2    Weekday      Monday  Light_Load  \n",
       "3    Weekday      Monday  Light_Load  \n",
       "4    Weekday      Monday  Light_Load  "
      ]
     },
     "execution_count": 4,
     "metadata": {},
     "output_type": "execute_result"
    }
   ],
   "source": [
    "data = pd.read_csv(\"SteelIndustryData.csv\")\n",
    "data.head()"
   ]
  },
  {
   "cell_type": "code",
   "execution_count": 5,
   "metadata": {},
   "outputs": [
    {
     "name": "stdout",
     "output_type": "stream",
     "text": [
      "Index(['Lagging_Current_Reactive.Power_kVarh',\n",
      "       'Leading_Current_Reactive_Power_kVarh', 'CO2(tCO2)',\n",
      "       'Lagging_Current_Power_Factor', 'Leading_Current_Power_Factor', 'NSM',\n",
      "       'WeekStatus', 'Day_of_week', 'Load_Type'],\n",
      "      dtype='object')\n"
     ]
    }
   ],
   "source": [
    "y = data[\"Usage_kWh\"]\n",
    "X = data.drop([\"date\", \"Usage_kWh\"], axis=1)\n",
    "print(X.columns)"
   ]
  },
  {
   "cell_type": "code",
   "execution_count": 6,
   "metadata": {},
   "outputs": [
    {
     "data": {
      "text/plain": [
       "Index(['Lagging_Current_Reactive.Power_kVarh',\n",
       "       'Leading_Current_Reactive_Power_kVarh', 'CO2(tCO2)',\n",
       "       'Lagging_Current_Power_Factor', 'Leading_Current_Power_Factor', 'NSM',\n",
       "       'WeekStatus', 'Load_Type', 'Day_of_week_sin', 'Day_of_week_cos'],\n",
       "      dtype='object')"
      ]
     },
     "execution_count": 6,
     "metadata": {},
     "output_type": "execute_result"
    }
   ],
   "source": [
    "from sklearn.preprocessing import LabelEncoder\n",
    "\n",
    "le = LabelEncoder()\n",
    "\n",
    "X[\"WeekStatus\"] = le.fit_transform(X[\"WeekStatus\"])\n",
    "X[\"Load_Type\"] = le.fit_transform(X[\"Load_Type\"])\n",
    "\n",
    "\n",
    "X[\"Day_of_week\"] = le.fit_transform(X[\"Day_of_week\"])\n",
    "\n",
    "X[\"Day_of_week_sin\"] = np.sin(2 * np.pi * X[\"Day_of_week\"]/7.0)\n",
    "X[\"Day_of_week_cos\"] = np.cos(2 * np.pi * X[\"Day_of_week\"]/7.0)\n",
    "\n",
    "X = X.drop([\"Day_of_week\"], axis=1)\n",
    "X.columns"
   ]
  },
  {
   "cell_type": "code",
   "execution_count": 7,
   "metadata": {},
   "outputs": [
    {
     "data": {
      "text/html": [
       "<div>\n",
       "<style scoped>\n",
       "    .dataframe tbody tr th:only-of-type {\n",
       "        vertical-align: middle;\n",
       "    }\n",
       "\n",
       "    .dataframe tbody tr th {\n",
       "        vertical-align: top;\n",
       "    }\n",
       "\n",
       "    .dataframe thead th {\n",
       "        text-align: right;\n",
       "    }\n",
       "</style>\n",
       "<table border=\"1\" class=\"dataframe\">\n",
       "  <thead>\n",
       "    <tr style=\"text-align: right;\">\n",
       "      <th></th>\n",
       "      <th>Lagging_Current_Reactive.Power_kVarh</th>\n",
       "      <th>Leading_Current_Reactive_Power_kVarh</th>\n",
       "      <th>CO2(tCO2)</th>\n",
       "      <th>Lagging_Current_Power_Factor</th>\n",
       "      <th>Leading_Current_Power_Factor</th>\n",
       "      <th>NSM</th>\n",
       "      <th>WeekStatus</th>\n",
       "      <th>Load_Type</th>\n",
       "      <th>Day_of_week_sin</th>\n",
       "      <th>Day_of_week_cos</th>\n",
       "    </tr>\n",
       "  </thead>\n",
       "  <tbody>\n",
       "    <tr>\n",
       "      <th>count</th>\n",
       "      <td>35040.000000</td>\n",
       "      <td>35040.000000</td>\n",
       "      <td>35040.000000</td>\n",
       "      <td>35040.000000</td>\n",
       "      <td>35040.000000</td>\n",
       "      <td>35040.000000</td>\n",
       "      <td>35040.000000</td>\n",
       "      <td>35040.000000</td>\n",
       "      <td>35040.000000</td>\n",
       "      <td>35040.000000</td>\n",
       "    </tr>\n",
       "    <tr>\n",
       "      <th>mean</th>\n",
       "      <td>0.134510</td>\n",
       "      <td>0.139443</td>\n",
       "      <td>0.164632</td>\n",
       "      <td>0.805781</td>\n",
       "      <td>0.843679</td>\n",
       "      <td>0.500000</td>\n",
       "      <td>0.284932</td>\n",
       "      <td>0.380479</td>\n",
       "      <td>0.002142</td>\n",
       "      <td>0.001708</td>\n",
       "    </tr>\n",
       "    <tr>\n",
       "      <th>std</th>\n",
       "      <td>0.168259</td>\n",
       "      <td>0.267452</td>\n",
       "      <td>0.230726</td>\n",
       "      <td>0.189213</td>\n",
       "      <td>0.304565</td>\n",
       "      <td>0.291702</td>\n",
       "      <td>0.451388</td>\n",
       "      <td>0.428762</td>\n",
       "      <td>0.707329</td>\n",
       "      <td>0.706899</td>\n",
       "    </tr>\n",
       "    <tr>\n",
       "      <th>min</th>\n",
       "      <td>0.000000</td>\n",
       "      <td>0.000000</td>\n",
       "      <td>0.000000</td>\n",
       "      <td>0.000000</td>\n",
       "      <td>0.000000</td>\n",
       "      <td>0.000000</td>\n",
       "      <td>0.000000</td>\n",
       "      <td>0.000000</td>\n",
       "      <td>-0.974928</td>\n",
       "      <td>-0.900969</td>\n",
       "    </tr>\n",
       "    <tr>\n",
       "      <th>25%</th>\n",
       "      <td>0.023733</td>\n",
       "      <td>0.000000</td>\n",
       "      <td>0.000000</td>\n",
       "      <td>0.633200</td>\n",
       "      <td>0.997000</td>\n",
       "      <td>0.250000</td>\n",
       "      <td>0.000000</td>\n",
       "      <td>0.000000</td>\n",
       "      <td>-0.781831</td>\n",
       "      <td>-0.900969</td>\n",
       "    </tr>\n",
       "    <tr>\n",
       "      <th>50%</th>\n",
       "      <td>0.051594</td>\n",
       "      <td>0.000000</td>\n",
       "      <td>0.000000</td>\n",
       "      <td>0.879600</td>\n",
       "      <td>1.000000</td>\n",
       "      <td>0.500000</td>\n",
       "      <td>0.000000</td>\n",
       "      <td>0.000000</td>\n",
       "      <td>0.000000</td>\n",
       "      <td>-0.222521</td>\n",
       "    </tr>\n",
       "    <tr>\n",
       "      <th>75%</th>\n",
       "      <td>0.233619</td>\n",
       "      <td>0.075288</td>\n",
       "      <td>0.285714</td>\n",
       "      <td>0.990225</td>\n",
       "      <td>1.000000</td>\n",
       "      <td>0.750000</td>\n",
       "      <td>1.000000</td>\n",
       "      <td>1.000000</td>\n",
       "      <td>0.781831</td>\n",
       "      <td>0.623490</td>\n",
       "    </tr>\n",
       "    <tr>\n",
       "      <th>max</th>\n",
       "      <td>1.000000</td>\n",
       "      <td>1.000000</td>\n",
       "      <td>1.000000</td>\n",
       "      <td>1.000000</td>\n",
       "      <td>1.000000</td>\n",
       "      <td>1.000000</td>\n",
       "      <td>1.000000</td>\n",
       "      <td>1.000000</td>\n",
       "      <td>0.974928</td>\n",
       "      <td>1.000000</td>\n",
       "    </tr>\n",
       "  </tbody>\n",
       "</table>\n",
       "</div>"
      ],
      "text/plain": [
       "       Lagging_Current_Reactive.Power_kVarh  \\\n",
       "count                          35040.000000   \n",
       "mean                               0.134510   \n",
       "std                                0.168259   \n",
       "min                                0.000000   \n",
       "25%                                0.023733   \n",
       "50%                                0.051594   \n",
       "75%                                0.233619   \n",
       "max                                1.000000   \n",
       "\n",
       "       Leading_Current_Reactive_Power_kVarh     CO2(tCO2)  \\\n",
       "count                          35040.000000  35040.000000   \n",
       "mean                               0.139443      0.164632   \n",
       "std                                0.267452      0.230726   \n",
       "min                                0.000000      0.000000   \n",
       "25%                                0.000000      0.000000   \n",
       "50%                                0.000000      0.000000   \n",
       "75%                                0.075288      0.285714   \n",
       "max                                1.000000      1.000000   \n",
       "\n",
       "       Lagging_Current_Power_Factor  Leading_Current_Power_Factor  \\\n",
       "count                  35040.000000                  35040.000000   \n",
       "mean                       0.805781                      0.843679   \n",
       "std                        0.189213                      0.304565   \n",
       "min                        0.000000                      0.000000   \n",
       "25%                        0.633200                      0.997000   \n",
       "50%                        0.879600                      1.000000   \n",
       "75%                        0.990225                      1.000000   \n",
       "max                        1.000000                      1.000000   \n",
       "\n",
       "                NSM    WeekStatus     Load_Type  Day_of_week_sin  \\\n",
       "count  35040.000000  35040.000000  35040.000000     35040.000000   \n",
       "mean       0.500000      0.284932      0.380479         0.002142   \n",
       "std        0.291702      0.451388      0.428762         0.707329   \n",
       "min        0.000000      0.000000      0.000000        -0.974928   \n",
       "25%        0.250000      0.000000      0.000000        -0.781831   \n",
       "50%        0.500000      0.000000      0.000000         0.000000   \n",
       "75%        0.750000      1.000000      1.000000         0.781831   \n",
       "max        1.000000      1.000000      1.000000         0.974928   \n",
       "\n",
       "       Day_of_week_cos  \n",
       "count     35040.000000  \n",
       "mean          0.001708  \n",
       "std           0.706899  \n",
       "min          -0.900969  \n",
       "25%          -0.900969  \n",
       "50%          -0.222521  \n",
       "75%           0.623490  \n",
       "max           1.000000  "
      ]
     },
     "execution_count": 7,
     "metadata": {},
     "output_type": "execute_result"
    }
   ],
   "source": [
    "from sklearn.preprocessing import MinMaxScaler\n",
    "\n",
    "sc = MinMaxScaler()\n",
    "for c in ['Lagging_Current_Reactive.Power_kVarh', \n",
    "          'Leading_Current_Reactive_Power_kVarh', \n",
    "          'CO2(tCO2)', \n",
    "          'Lagging_Current_Power_Factor',\n",
    "          'Leading_Current_Power_Factor', \n",
    "          'NSM', \n",
    "          'Load_Type']:\n",
    "    X[c] = sc.fit_transform(X.loc[:, c:c])\n",
    "\n",
    "X.describe()"
   ]
  },
  {
   "cell_type": "code",
   "execution_count": 8,
   "metadata": {},
   "outputs": [],
   "source": [
    "y_scaler = MinMaxScaler()\n",
    "y = y_scaler.fit_transform(y.to_numpy().reshape(-1, 1))"
   ]
  },
  {
   "cell_type": "code",
   "execution_count": 9,
   "metadata": {},
   "outputs": [
    {
     "name": "stdout",
     "output_type": "stream",
     "text": [
      "(28032, 10) (7008, 10)\n",
      "(28032, 1) (7008, 1)\n"
     ]
    }
   ],
   "source": [
    "test_size = 0.2\n",
    "split_idx = int((1-test_size) * len(X))\n",
    "\n",
    "X_train, X_test = X[:split_idx], X[split_idx:]\n",
    "y_train, y_test = y[:split_idx], y[split_idx:]\n",
    "\n",
    "print(X_train.shape, X_test.shape)\n",
    "print(y_train.shape, y_test.shape)\n"
   ]
  },
  {
   "cell_type": "code",
   "execution_count": 102,
   "metadata": {},
   "outputs": [],
   "source": [
    "X_train = X[:1000].to_numpy()\n",
    "y_train = y[:1000]\n",
    "\n",
    "X_test = X[1000:2000].to_numpy()\n",
    "y_test = y[1000:2000]\n"
   ]
  },
  {
   "cell_type": "markdown",
   "metadata": {},
   "source": [
    "## Кастомная модель\n"
   ]
  },
  {
   "cell_type": "code",
   "execution_count": 103,
   "metadata": {},
   "outputs": [],
   "source": [
    "from linear_regression import LinearRegression, quality"
   ]
  },
  {
   "cell_type": "code",
   "execution_count": 104,
   "metadata": {},
   "outputs": [],
   "source": [
    "lr = LinearRegression(tau=0)"
   ]
  },
  {
   "cell_type": "code",
   "execution_count": 105,
   "metadata": {},
   "outputs": [
    {
     "name": "stdout",
     "output_type": "stream",
     "text": [
      "1.23 ms ± 0 ns per loop (mean ± std. dev. of 1 run, 1 loop each)\n",
      "R2-score=0.9304\n"
     ]
    }
   ],
   "source": [
    "# No Regularization\n",
    "%timeit -n 1 -r 1 lr.fit(X_train, y_train)\n",
    "\n",
    "y_pred = lr.predict(X_test)\n",
    "print(f\"R2-score={r2_score(y_test, y_pred):.4f}\")\n"
   ]
  },
  {
   "cell_type": "code",
   "execution_count": 106,
   "metadata": {},
   "outputs": [
    {
     "name": "stdout",
     "output_type": "stream",
     "text": [
      "271 µs ± 115 µs per loop (mean ± std. dev. of 3 runs, 10 loops each)\n"
     ]
    }
   ],
   "source": [
    "%timeit -n 10 -r 3 lr.fit(X_train, y_train)"
   ]
  },
  {
   "cell_type": "code",
   "execution_count": 107,
   "metadata": {},
   "outputs": [],
   "source": [
    "best_tau = 0\n",
    "best_q = np.infty\n",
    "best_weights = None\n",
    "\n",
    "q_list = []\n",
    "r2_list = []\n",
    "\n",
    "tau_range = np.arange(0, 20, 0.01)\n",
    "for tau in tau_range:\n",
    "    lr.fit(X_train, y_train, tau)\n",
    "    y_pred = lr.predict(X_test)\n",
    "\n",
    "    q = quality(lr.best_weight, X_test, y_test, tau)\n",
    "    if q < best_q:\n",
    "        best_weights = lr.best_weight\n",
    "        best_tau = tau\n",
    "        best_q = q\n",
    "\n",
    "    r2_list.append(r2_score(y_test, y_pred))\n",
    "    q_list.append(q)"
   ]
  },
  {
   "cell_type": "code",
   "execution_count": 108,
   "metadata": {},
   "outputs": [
    {
     "name": "stdout",
     "output_type": "stream",
     "text": [
      "Best tau=2.06, least Q=4.582\n"
     ]
    }
   ],
   "source": [
    "print(f\"Best tau={best_tau:.2f}, least Q={best_q:.3f}\")"
   ]
  },
  {
   "cell_type": "code",
   "execution_count": 109,
   "metadata": {},
   "outputs": [
    {
     "data": {
      "image/png": "[encoded data removed]",
      "text/plain": [
       "<Figure size 640x480 with 2 Axes>"
      ]
     },
     "metadata": {},
     "output_type": "display_data"
    }
   ],
   "source": [
    "fig, ax1 = plt.subplots() \n",
    "color = 'red'\n",
    "ax1.set_xlabel('tau') \n",
    "ax1.set_ylabel('R2 Score', color=color) \n",
    "ax1.plot(tau_range, r2_list, color=color) \n",
    "ax1.tick_params(axis='y', labelcolor=color)\n",
    "\n",
    "ax2 = ax1.twinx() \n",
    "color = 'blue'\n",
    "ax2.set_ylabel('Q', color=color) \n",
    "ax2.plot(tau_range, q_list, color=color) \n",
    "ax2.scatter(best_tau, best_q, s=50, marker='o', color=color, edgecolor='k')\n",
    "ax2.tick_params(axis ='y', labelcolor=color) \n",
    "\n",
    "plt.savefig(\"tau_optimization.png\", bbox_inches=\"tight\")"
   ]
  },
  {
   "cell_type": "code",
   "execution_count": 110,
   "metadata": {},
   "outputs": [
    {
     "name": "stdout",
     "output_type": "stream",
     "text": [
      "R2-score: 0.9445\n"
     ]
    },
    {
     "data": {
      "image/png": "[encoded data removed]",
      "text/plain": [
       "<Figure size 640x480 with 1 Axes>"
      ]
     },
     "metadata": {},
     "output_type": "display_data"
    }
   ],
   "source": [
    "lr.best_weight = best_weights\n",
    "y_pred = lr.predict(X_test)\n",
    "print(f\"R2-score: {r2_score(y_test, y_pred):.4f}\")\n",
    "\n",
    "plot_result(y_test, y_pred, (300, 500))\n",
    "plt.savefig(\"compare_custom.png\", bbox_inches=\"tight\")"
   ]
  },
  {
   "cell_type": "markdown",
   "metadata": {},
   "source": [
    "## Эталонная модель"
   ]
  },
  {
   "cell_type": "code",
   "execution_count": 111,
   "metadata": {},
   "outputs": [
    {
     "name": "stdout",
     "output_type": "stream",
     "text": [
      "995 µs ± 174 µs per loop (mean ± std. dev. of 5 runs, 10 loops each)\n"
     ]
    }
   ],
   "source": [
    "from sklearn.linear_model import LinearRegression as LinearRegressionSklearn\n",
    "\n",
    "model = LinearRegressionSklearn()\n",
    "%timeit -n 10 -r 5 model.fit(X_train, y_train)"
   ]
  },
  {
   "cell_type": "code",
   "execution_count": 112,
   "metadata": {},
   "outputs": [
    {
     "data": {
      "text/plain": [
       "0.9272249451679488"
      ]
     },
     "execution_count": 112,
     "metadata": {},
     "output_type": "execute_result"
    }
   ],
   "source": [
    "y_pred = model.predict(X_test)\n",
    "r2_score(y_test, y_pred)"
   ]
  },
  {
   "cell_type": "code",
   "execution_count": 113,
   "metadata": {},
   "outputs": [
    {
     "data": {
      "image/png": "[encoded data removed]",
      "text/plain": [
       "<Figure size 640x480 with 1 Axes>"
      ]
     },
     "metadata": {},
     "output_type": "display_data"
    }
   ],
   "source": [
    "plot_result(y_test, y_pred, (300, 500))\n",
    "plt.savefig(\"compare_sklearn.png\", bbox_inches=\"tight\")\n"
   ]
  },
  {
   "cell_type": "markdown",
   "metadata": {},
   "source": [
    "## More data"
   ]
  },
  {
   "cell_type": "code",
   "execution_count": 97,
   "metadata": {},
   "outputs": [],
   "source": [
    "idx = 15000\n",
    "X_train = X[:idx]\n",
    "y_train = y[:idx]\n",
    "\n",
    "X_test = X[idx:idx+1000]\n",
    "y_test = y[idx:idx+1000]"
   ]
  },
  {
   "cell_type": "code",
   "execution_count": 99,
   "metadata": {},
   "outputs": [
    {
     "name": "stdout",
     "output_type": "stream",
     "text": [
      "7.03 ms ± 0 ns per loop (mean ± std. dev. of 1 run, 1 loop each)\n",
      "R2-score: 0.98342\n",
      "8.11 ms ± 1.09 ms per loop (mean ± std. dev. of 5 runs, 10 loops each)\n",
      "R2-score: 0.98296\n"
     ]
    }
   ],
   "source": [
    "lr = LinearRegression(tau=0)\n",
    "%timeit -n 1 -r 1 lr.fit(X_train, y_train)\n",
    "\n",
    "y_pred_custom = lr.predict(X_test)\n",
    "print(f\"R2-score: {r2_score(y_test, y_pred_custom):.5f}\")\n",
    "\n",
    "model = LinearRegressionSklearn()\n",
    "%timeit -n 10 -r 5 model.fit(X_train, y_train)\n",
    "y_pred_sklearn = model.predict(X_test)\n",
    "print(f\"R2-score: {r2_score(y_test, y_pred_sklearn):.5f}\")"
   ]
  },
  {
   "cell_type": "code",
   "execution_count": null,
   "metadata": {},
   "outputs": [],
   "source": []
  }
 ],
 "metadata": {
  "kernelspec": {
   "display_name": "fundamentals",
   "language": "python",
   "name": "fundamencals"
  },
  "language_info": {
   "codemirror_mode": {
    "name": "ipython",
    "version": 3
   },
   "file_extension": ".py",
   "mimetype": "text/x-python",
   "name": "python",
   "nbconvert_exporter": "python",
   "pygments_lexer": "ipython3",
   "version": "3.9.12"
  }
 },
 "nbformat": 4,
 "nbformat_minor": 4
}
