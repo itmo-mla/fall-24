{
 "cells": [
  {
   "cell_type": "code",
   "execution_count": 10,
   "metadata": {
    "collapsed": true
   },
   "outputs": [],
   "source": [
    "import numpy as np\n",
    "import pandas as pd"
   ]
  },
  {
   "cell_type": "code",
   "execution_count": 11,
   "outputs": [
    {
     "data": {
      "text/plain": "           Area  MajorAxisLength  MinorAxisLength  Eccentricity  ConvexArea  \\\n0      0.262097         0.165901         0.614922      0.149139    0.248903   \n1      0.045525         0.005123         0.352934      0.168567    0.051726   \n2      0.068418         0.019803         0.366292      0.188069    0.065607   \n3      0.071670         0.026591         0.363903      0.213671    0.068573   \n4      0.152315         0.100769         0.456247      0.250355    0.145094   \n...         ...              ...              ...           ...         ...   \n18180  0.433273         0.682917         0.345224      0.904994    0.406810   \n18181  0.658559         0.875159         0.492965      0.905642    0.620121   \n18182  0.499870         0.739322         0.384251      0.906891    0.468858   \n18183  0.447190         0.708342         0.354474      0.909189    0.428283   \n18184  0.469823         0.723781         0.356884      0.912888    0.439435   \n\n       EquivDiameter    Extent  Perimeter  Roundness  AspectRation  Class  \n0           0.337191  0.544960   0.244209   0.807934      0.032371      1  \n1           0.066336  0.655171   0.036283   0.899898      0.037204      1  \n2           0.098164  0.746848   0.041724   0.950265      0.042222      1  \n3           0.102609  0.795277   0.043795   0.952688      0.049077      1  \n4           0.207586  0.767156   0.106958   0.958906      0.059471      1  \n...              ...       ...        ...        ...           ...    ...  \n18180       0.517174  0.229182   0.436426   0.669518      0.608684      0  \n18181       0.725477  0.524943   0.605115   0.639275      0.610397      0  \n18182       0.581631  0.353738   0.466260   0.696071      0.613720      0  \n18183       0.530871  0.216874   0.469849   0.630873      0.619915      0  \n18184       0.552884  0.212058   0.454574   0.681611      0.630108      0  \n\n[18185 rows x 11 columns]",
      "text/html": "<div>\n<style scoped>\n    .dataframe tbody tr th:only-of-type {\n        vertical-align: middle;\n    }\n\n    .dataframe tbody tr th {\n        vertical-align: top;\n    }\n\n    .dataframe thead th {\n        text-align: right;\n    }\n</style>\n<table border=\"1\" class=\"dataframe\">\n  <thead>\n    <tr style=\"text-align: right;\">\n      <th></th>\n      <th>Area</th>\n      <th>MajorAxisLength</th>\n      <th>MinorAxisLength</th>\n      <th>Eccentricity</th>\n      <th>ConvexArea</th>\n      <th>EquivDiameter</th>\n      <th>Extent</th>\n      <th>Perimeter</th>\n      <th>Roundness</th>\n      <th>AspectRation</th>\n      <th>Class</th>\n    </tr>\n  </thead>\n  <tbody>\n    <tr>\n      <th>0</th>\n      <td>0.262097</td>\n      <td>0.165901</td>\n      <td>0.614922</td>\n      <td>0.149139</td>\n      <td>0.248903</td>\n      <td>0.337191</td>\n      <td>0.544960</td>\n      <td>0.244209</td>\n      <td>0.807934</td>\n      <td>0.032371</td>\n      <td>1</td>\n    </tr>\n    <tr>\n      <th>1</th>\n      <td>0.045525</td>\n      <td>0.005123</td>\n      <td>0.352934</td>\n      <td>0.168567</td>\n      <td>0.051726</td>\n      <td>0.066336</td>\n      <td>0.655171</td>\n      <td>0.036283</td>\n      <td>0.899898</td>\n      <td>0.037204</td>\n      <td>1</td>\n    </tr>\n    <tr>\n      <th>2</th>\n      <td>0.068418</td>\n      <td>0.019803</td>\n      <td>0.366292</td>\n      <td>0.188069</td>\n      <td>0.065607</td>\n      <td>0.098164</td>\n      <td>0.746848</td>\n      <td>0.041724</td>\n      <td>0.950265</td>\n      <td>0.042222</td>\n      <td>1</td>\n    </tr>\n    <tr>\n      <th>3</th>\n      <td>0.071670</td>\n      <td>0.026591</td>\n      <td>0.363903</td>\n      <td>0.213671</td>\n      <td>0.068573</td>\n      <td>0.102609</td>\n      <td>0.795277</td>\n      <td>0.043795</td>\n      <td>0.952688</td>\n      <td>0.049077</td>\n      <td>1</td>\n    </tr>\n    <tr>\n      <th>4</th>\n      <td>0.152315</td>\n      <td>0.100769</td>\n      <td>0.456247</td>\n      <td>0.250355</td>\n      <td>0.145094</td>\n      <td>0.207586</td>\n      <td>0.767156</td>\n      <td>0.106958</td>\n      <td>0.958906</td>\n      <td>0.059471</td>\n      <td>1</td>\n    </tr>\n    <tr>\n      <th>...</th>\n      <td>...</td>\n      <td>...</td>\n      <td>...</td>\n      <td>...</td>\n      <td>...</td>\n      <td>...</td>\n      <td>...</td>\n      <td>...</td>\n      <td>...</td>\n      <td>...</td>\n      <td>...</td>\n    </tr>\n    <tr>\n      <th>18180</th>\n      <td>0.433273</td>\n      <td>0.682917</td>\n      <td>0.345224</td>\n      <td>0.904994</td>\n      <td>0.406810</td>\n      <td>0.517174</td>\n      <td>0.229182</td>\n      <td>0.436426</td>\n      <td>0.669518</td>\n      <td>0.608684</td>\n      <td>0</td>\n    </tr>\n    <tr>\n      <th>18181</th>\n      <td>0.658559</td>\n      <td>0.875159</td>\n      <td>0.492965</td>\n      <td>0.905642</td>\n      <td>0.620121</td>\n      <td>0.725477</td>\n      <td>0.524943</td>\n      <td>0.605115</td>\n      <td>0.639275</td>\n      <td>0.610397</td>\n      <td>0</td>\n    </tr>\n    <tr>\n      <th>18182</th>\n      <td>0.499870</td>\n      <td>0.739322</td>\n      <td>0.384251</td>\n      <td>0.906891</td>\n      <td>0.468858</td>\n      <td>0.581631</td>\n      <td>0.353738</td>\n      <td>0.466260</td>\n      <td>0.696071</td>\n      <td>0.613720</td>\n      <td>0</td>\n    </tr>\n    <tr>\n      <th>18183</th>\n      <td>0.447190</td>\n      <td>0.708342</td>\n      <td>0.354474</td>\n      <td>0.909189</td>\n      <td>0.428283</td>\n      <td>0.530871</td>\n      <td>0.216874</td>\n      <td>0.469849</td>\n      <td>0.630873</td>\n      <td>0.619915</td>\n      <td>0</td>\n    </tr>\n    <tr>\n      <th>18184</th>\n      <td>0.469823</td>\n      <td>0.723781</td>\n      <td>0.356884</td>\n      <td>0.912888</td>\n      <td>0.439435</td>\n      <td>0.552884</td>\n      <td>0.212058</td>\n      <td>0.454574</td>\n      <td>0.681611</td>\n      <td>0.630108</td>\n      <td>0</td>\n    </tr>\n  </tbody>\n</table>\n<p>18185 rows × 11 columns</p>\n</div>"
     },
     "execution_count": 11,
     "metadata": {},
     "output_type": "execute_result"
    }
   ],
   "source": [
    "from load_data import load_scaled_data\n",
    "\n",
    "df = load_scaled_data()\n",
    "df"
   ],
   "metadata": {
    "collapsed": false
   }
  },
  {
   "cell_type": "code",
   "execution_count": 12,
   "outputs": [],
   "source": [
    "X, y = df.drop('Class', axis=1).to_numpy(), df['Class'].to_numpy()\n",
    "y[y==0]=-1"
   ],
   "metadata": {
    "collapsed": false
   }
  },
  {
   "cell_type": "code",
   "execution_count": 13,
   "outputs": [],
   "source": [
    "from sklearn.model_selection import train_test_split\n",
    "X_train, X_test, y_train, y_test = train_test_split(X, y, test_size=0.2, random_state=42)"
   ],
   "metadata": {
    "collapsed": false
   }
  },
  {
   "cell_type": "code",
   "execution_count": 14,
   "outputs": [
    {
     "name": "stdout",
     "output_type": "stream",
     "text": [
      "Margins: [1.75696489 0.82632011 1.46958827 ... 0.65748952 1.39895412 2.66458522]\n"
     ]
    }
   ],
   "source": [
    "from LinearClassification import LinearClassifier\n",
    "\n",
    "model = LinearClassifier(input_dim=X.shape[1])\n",
    "model.initialize_weights_multistart(num_starts=5)\n",
    "model.stochastic_gradient_descent(X_train, y_train, epochs=20)\n",
    "margins = model.compute_margin(X_test, y_test)\n",
    "print(\"Margins:\", margins)"
   ],
   "metadata": {
    "collapsed": false
   }
  },
  {
   "cell_type": "code",
   "execution_count": 15,
   "outputs": [
    {
     "name": "stdout",
     "output_type": "stream",
     "text": [
      "loss: 0.27752952965622446, Q: 0.00027752952965622447\n",
      "loss: 0.2887471124460623, Q: 0.0005659991125726307\n",
      "loss: 0.32614676989209, Q: 0.000891579883352148\n",
      "loss: 0.29529495914966614, Q: 0.001185983262618462\n",
      "loss: 0.28874711446496787, Q: 0.0014735443938208115\n",
      "loss: 0.32614676989209623, Q: 0.0017982176193190869\n",
      "loss: 0.29529495914967163, Q: 0.0020917143608494395\n",
      "loss: 0.2887471144649729, Q: 0.0023783697609535627\n",
      "loss: 0.32614676989210245, Q: 0.0027021381610847117\n",
      "loss: 0.29529495914967707, Q: 0.002994730982073304\n",
      "loss: 0.288747114464978, Q: 0.003280483365556209\n",
      "loss: 0.32614676989210867, Q: 0.003603349652082761\n",
      "loss: 0.2952949591496825, Q: 0.003895041261580361\n",
      "loss: 0.2887471144649831, Q: 0.004179893334783764\n",
      "loss: 0.326146769892115, Q: 0.004501860211341095\n",
      "loss: 0.29529495914968795, Q: 0.004792653310279442\n",
      "loss: 0.2887471144649882, Q: 0.005076607771434151\n",
      "loss: 0.32614676989212116, Q: 0.005397677933554838\n",
      "loss: 0.29529495914969345, Q: 0.0056875752147709764\n",
      "loss: 0.28874711446499324, Q: 0.005970634754021199\n"
     ]
    }
   ],
   "source": [
    "for i in range(len(model.loss_history)):\n",
    "    print(f\"loss: {model.loss_history[i]}, Q: {model.recurent_loss_history[i]}\")"
   ],
   "metadata": {
    "collapsed": false
   }
  },
  {
   "cell_type": "markdown",
   "source": [
    "## Метрики"
   ],
   "metadata": {
    "collapsed": false
   }
  },
  {
   "cell_type": "code",
   "execution_count": 16,
   "outputs": [],
   "source": [
    "y_pred = model.predict(X_test)"
   ],
   "metadata": {
    "collapsed": false
   }
  },
  {
   "cell_type": "code",
   "execution_count": 17,
   "outputs": [
    {
     "name": "stdout",
     "output_type": "stream",
     "text": [
      "              precision    recall  f1-score   support\n",
      "\n",
      "           1       0.99      0.98      0.98      2005\n",
      "          -1       0.97      0.99      0.98      1632\n",
      "\n",
      "    accuracy                           0.98      3637\n",
      "   macro avg       0.98      0.98      0.98      3637\n",
      "weighted avg       0.98      0.98      0.98      3637\n",
      "\n"
     ]
    }
   ],
   "source": [
    "from sklearn.metrics import classification_report\n",
    "\n",
    "print(classification_report(y_test, y_pred, labels=(1, -1)))"
   ],
   "metadata": {
    "collapsed": false
   }
  },
  {
   "cell_type": "code",
   "execution_count": 18,
   "outputs": [],
   "source": [
    "import matplotlib.pyplot as plt\n",
    "def plot_margin(margins):\n",
    "    margins = np.sort(margins.flatten())\n",
    "    dMargin = margins.max()*0.3\n",
    "    plt.plot(margins, c='k', linewidth=3)\n",
    "\n",
    "    plt.axhline(y=0, c='k', linewidth=0.35)\n",
    "\n",
    "    x = np.arange(len(margins))\n",
    "    plt.gca().fill_between(x, margins, where=(margins>=dMargin), color='#00ff00')\n",
    "    plt.gca().fill_between(x, margins, where=(margins<=-dMargin), color='#ff0000')\n",
    "    plt.gca().fill_between(x, margins, where=np.bitwise_and(margins >= -dMargin, margins <= dMargin), color='#ffff00')\n",
    "\n",
    "    plt.ylabel(\"Margin\")\n",
    "    plt.gcf().set_size_inches(9, 6)"
   ],
   "metadata": {
    "collapsed": false
   }
  },
  {
   "cell_type": "markdown",
   "source": [
    "## Отступ"
   ],
   "metadata": {
    "collapsed": false
   }
  },
  {
   "cell_type": "code",
   "execution_count": 19,
   "outputs": [
    {
     "data": {
      "text/plain": "<Figure size 900x600 with 1 Axes>",
      "image/png": "[encoded data removed]"
     },
     "metadata": {},
     "output_type": "display_data"
    }
   ],
   "source": [
    "plot_margin(model.compute_margin(X_test, y_test))"
   ],
   "metadata": {
    "collapsed": false
   }
  },
  {
   "cell_type": "code",
   "execution_count": 20,
   "outputs": [
    {
     "name": "stdout",
     "output_type": "stream",
     "text": [
      "              precision    recall  f1-score   support\n",
      "\n",
      "           1       0.99      0.99      0.99      2005\n",
      "          -1       0.99      0.98      0.99      1632\n",
      "\n",
      "    accuracy                           0.99      3637\n",
      "   macro avg       0.99      0.99      0.99      3637\n",
      "weighted avg       0.99      0.99      0.99      3637\n",
      "\n"
     ]
    }
   ],
   "source": [
    "from sklearn.linear_model import SGDClassifier\n",
    "\n",
    "cls_sklearn = SGDClassifier(penalty='l2')\n",
    "cls_sklearn.fit(X_train, y_train, intercept_init=5)\n",
    "y_pred = cls_sklearn.predict(X_test)\n",
    "print(classification_report(y_test, y_pred, labels=(1, -1)))"
   ],
   "metadata": {
    "collapsed": false
   }
  },
  {
   "cell_type": "markdown",
   "source": [
    "## Время"
   ],
   "metadata": {
    "collapsed": false
   }
  },
  {
   "cell_type": "code",
   "execution_count": 21,
   "outputs": [
    {
     "name": "stdout",
     "output_type": "stream",
     "text": [
      "19.9 ms ± 3.1 ms per loop (mean ± std. dev. of 7 runs, 10 loops each)\n"
     ]
    }
   ],
   "source": [
    "cls_sklearn = SGDClassifier(penalty='l2')\n",
    "%timeit cls_sklearn.fit(X_train, y_train, intercept_init=5)"
   ],
   "metadata": {
    "collapsed": false
   }
  },
  {
   "cell_type": "code",
   "execution_count": 22,
   "outputs": [
    {
     "name": "stdout",
     "output_type": "stream",
     "text": [
      "18.5 s ± 3.81 s per loop (mean ± std. dev. of 7 runs, 1 loop each)\n"
     ]
    }
   ],
   "source": [
    "model = LinearClassifier(input_dim=X.shape[1])\n",
    "model.initialize_weights_multistart(num_starts=5)\n",
    "%timeit model.stochastic_gradient_descent(X_train, y_train, epochs=20)"
   ],
   "metadata": {
    "collapsed": false
   }
  },
  {
   "cell_type": "code",
   "execution_count": 22,
   "outputs": [],
   "source": [],
   "metadata": {
    "collapsed": false
   }
  }
 ],
 "metadata": {
  "kernelspec": {
   "display_name": "Python 3",
   "language": "python",
   "name": "python3"
  },
  "language_info": {
   "codemirror_mode": {
    "name": "ipython",
    "version": 2
   },
   "file_extension": ".py",
   "mimetype": "text/x-python",
   "name": "python",
   "nbconvert_exporter": "python",
   "pygments_lexer": "ipython2",
   "version": "2.7.6"
  }
 },
 "nbformat": 4,
 "nbformat_minor": 0
}
