{
 "cells": [
  {
   "cell_type": "code",
   "execution_count": 12,
   "id": "initial_id",
   "metadata": {
    "collapsed": true,
    "ExecuteTime": {
     "end_time": "2024-11-11T17:59:49.325777Z",
     "start_time": "2024-11-11T17:59:49.291469Z"
    }
   },
   "outputs": [],
   "source": [
    "import numpy as np\n",
    "\n",
    "from sklearn.datasets import load_wine\n",
    "from sklearn.model_selection import train_test_split"
   ]
  },
  {
   "cell_type": "markdown",
   "source": [
    "# Загрузка данных"
   ],
   "metadata": {
    "collapsed": false
   },
   "id": "608bcae24ef02f8c"
  },
  {
   "cell_type": "code",
   "execution_count": 13,
   "outputs": [
    {
     "data": {
      "text/plain": "array([[1.423e+01, 1.710e+00, 2.430e+00, ..., 1.040e+00, 3.920e+00,\n        1.065e+03],\n       [1.320e+01, 1.780e+00, 2.140e+00, ..., 1.050e+00, 3.400e+00,\n        1.050e+03],\n       [1.316e+01, 2.360e+00, 2.670e+00, ..., 1.030e+00, 3.170e+00,\n        1.185e+03],\n       ...,\n       [1.327e+01, 4.280e+00, 2.260e+00, ..., 5.900e-01, 1.560e+00,\n        8.350e+02],\n       [1.317e+01, 2.590e+00, 2.370e+00, ..., 6.000e-01, 1.620e+00,\n        8.400e+02],\n       [1.413e+01, 4.100e+00, 2.740e+00, ..., 6.100e-01, 1.600e+00,\n        5.600e+02]])"
     },
     "execution_count": 13,
     "metadata": {},
     "output_type": "execute_result"
    }
   ],
   "source": [
    "X, y = load_wine(return_X_y=True)\n",
    "X_train, X_test, y_train, y_test = train_test_split(X, y, test_size=0.1, random_state=42)\n",
    "X"
   ],
   "metadata": {
    "collapsed": false,
    "ExecuteTime": {
     "end_time": "2024-11-11T17:59:49.356003Z",
     "start_time": "2024-11-11T17:59:49.296713Z"
    }
   },
   "id": "49f49327a05a7fd3"
  },
  {
   "cell_type": "markdown",
   "source": [
    "# Реализация KNN"
   ],
   "metadata": {
    "collapsed": false
   },
   "id": "b79d0c962d9464f7"
  },
  {
   "cell_type": "code",
   "execution_count": 14,
   "outputs": [],
   "source": [
    "class KNN:\n",
    "    def __init__(self, k: int = 3):\n",
    "        self.k = k\n",
    "        self.X_train = None\n",
    "        self.y_train = None\n",
    "        self.unique_labels_count = None\n",
    "\n",
    "    def fit(self, X: np.ndarray, y: np.array):\n",
    "        self.X_train = X\n",
    "        self.y_train = y\n",
    "        self.unique_labels_count = len(np.unique(self.y_train))\n",
    "        return self\n",
    "\n",
    "    def predict_proba(self, X: np.ndarray):\n",
    "        probs = np.zeros((len(X), self.unique_labels_count))\n",
    "\n",
    "        for i, x in enumerate(X):\n",
    "            distances = np.array([self.euclidean_distance(x, xt) for xt in self.X_train])\n",
    "            sorted_indices = np.argsort(distances)\n",
    "            distances /= distances[sorted_indices[self.k]]\n",
    "            kernels = self.gaussian_kernel(distances[sorted_indices])\n",
    "            for w, y in zip(kernels, self.y_train[sorted_indices]):\n",
    "                probs[i][y] += w\n",
    "            probs[i] /= probs[i].sum()\n",
    "\n",
    "        return probs\n",
    "\n",
    "    def predict(self, X: np.ndarray):\n",
    "        return np.argmax(self.predict_proba(X), axis=1)\n",
    "\n",
    "    @staticmethod\n",
    "    def euclidean_distance(x1: np.array, x2: np.array):\n",
    "        return np.linalg.norm(x1 - x2)\n",
    "\n",
    "    @staticmethod\n",
    "    def gaussian_kernel(r: np.array):\n",
    "        return 1 / np.sqrt(2 * np.pi) * np.exp(-0.5 * r ** 2)"
   ],
   "metadata": {
    "collapsed": false,
    "ExecuteTime": {
     "end_time": "2024-11-11T17:59:49.362844Z",
     "start_time": "2024-11-11T17:59:49.314331Z"
    }
   },
   "id": "d68e18aa2c123c7d"
  },
  {
   "cell_type": "code",
   "execution_count": 15,
   "outputs": [
    {
     "name": "stdout",
     "output_type": "stream",
     "text": [
      "Accuracy 0.6666666666666666\n"
     ]
    }
   ],
   "source": [
    "knn = KNN(3)\n",
    "knn.fit(X_train, y_train)\n",
    "y_pred = knn.predict(X_test)\n",
    "print('Accuracy', np.mean(y_pred == y_test))"
   ],
   "metadata": {
    "collapsed": false,
    "ExecuteTime": {
     "end_time": "2024-11-11T17:59:49.363447Z",
     "start_time": "2024-11-11T17:59:49.324966Z"
    }
   },
   "id": "286bd489d9f8235b"
  },
  {
   "cell_type": "markdown",
   "source": [
    "# Leave-One-Out"
   ],
   "metadata": {
    "collapsed": false
   },
   "id": "eb78e739d1a7809b"
  },
  {
   "cell_type": "code",
   "execution_count": 16,
   "outputs": [],
   "source": [
    "def leave_one_out(\n",
    "    X: np.ndarray,\n",
    "    y: np.array,\n",
    "):\n",
    "    for i in range(len(X)):\n",
    "        yield X[i], y[i], np.delete(X, i, 0), np.delete(y, i)"
   ],
   "metadata": {
    "collapsed": false,
    "ExecuteTime": {
     "end_time": "2024-11-11T17:59:49.363901Z",
     "start_time": "2024-11-11T17:59:49.340891Z"
    }
   },
   "id": "dd7b1884f3def802"
  },
  {
   "cell_type": "markdown",
   "source": [
    "# Подбор параметра K"
   ],
   "metadata": {
    "collapsed": false
   },
   "id": "a34077ece13b2405"
  },
  {
   "cell_type": "code",
   "execution_count": 17,
   "outputs": [],
   "source": [
    "def print_best_k(errors: list[tuple[int, float]]):\n",
    "    sorted_errors = sorted(errors, key=lambda e: (e[1], e[0]))\n",
    "    for k, error_rate in sorted_errors[:10]:\n",
    "        print(f'{k=}, {error_rate=:.2f}')"
   ],
   "metadata": {
    "collapsed": false,
    "ExecuteTime": {
     "end_time": "2024-11-11T17:59:49.364298Z",
     "start_time": "2024-11-11T17:59:49.345740Z"
    }
   },
   "id": "100f04300e5f5069"
  },
  {
   "cell_type": "markdown",
   "source": [
    "## Leave-One-Out"
   ],
   "metadata": {
    "collapsed": false
   },
   "id": "540d0d4d7eaf35b8"
  },
  {
   "cell_type": "code",
   "execution_count": 18,
   "outputs": [
    {
     "name": "stdout",
     "output_type": "stream",
     "text": [
      "Лучшие параметры K по Leave-One-Out\n",
      "k=1, error_rate=0.24\n",
      "k=3, error_rate=0.25\n",
      "k=2, error_rate=0.26\n",
      "k=4, error_rate=0.26\n",
      "k=5, error_rate=0.27\n",
      "k=8, error_rate=0.28\n",
      "k=13, error_rate=0.28\n",
      "k=21, error_rate=0.28\n",
      "k=9, error_rate=0.29\n",
      "k=10, error_rate=0.29\n"
     ]
    }
   ],
   "source": [
    "loo_errors = []\n",
    "\n",
    "for k in range(1, len(X_train) - 1):\n",
    "    loo_errors.append([k, 0])\n",
    "    for xi, yi, X_rest, y_rest in leave_one_out(X_train, y_train):\n",
    "        yi_pred, = KNN(k).fit(X_rest, y_rest).predict([xi])\n",
    "        loo_errors[-1][1] += (yi != yi_pred)\n",
    "    loo_errors[-1][1] /= len(X_train)\n",
    "\n",
    "print('Лучшие параметры K по Leave-One-Out')\n",
    "print_best_k(loo_errors)"
   ],
   "metadata": {
    "collapsed": false,
    "ExecuteTime": {
     "end_time": "2024-11-11T17:59:58.160382Z",
     "start_time": "2024-11-11T17:59:49.354531Z"
    }
   },
   "id": "5e8539591494d915"
  },
  {
   "cell_type": "markdown",
   "source": [
    "## Hold-Out"
   ],
   "metadata": {
    "collapsed": false
   },
   "id": "86679927aad54f84"
  },
  {
   "cell_type": "code",
   "execution_count": 19,
   "outputs": [
    {
     "name": "stdout",
     "output_type": "stream",
     "text": [
      "Лучшие параметры K полученные из экспериментам\n",
      "k=11, error_rate=0.22\n",
      "k=12, error_rate=0.22\n",
      "k=13, error_rate=0.22\n",
      "k=14, error_rate=0.22\n",
      "k=15, error_rate=0.22\n",
      "k=16, error_rate=0.22\n",
      "k=17, error_rate=0.22\n",
      "k=18, error_rate=0.22\n",
      "k=19, error_rate=0.22\n",
      "k=20, error_rate=0.22\n"
     ]
    }
   ],
   "source": [
    "empiric_errors = []\n",
    "\n",
    "for k in range(1, len(X_train)):\n",
    "    y_pred = KNN(k).fit(X_train, y_train).predict(X_test)\n",
    "    error_rate = np.mean(y_test != y_pred)\n",
    "    empiric_errors.append((k, error_rate))\n",
    "\n",
    "print('Лучшие параметры K полученные из экспериментам')\n",
    "print_best_k(empiric_errors)"
   ],
   "metadata": {
    "collapsed": false,
    "ExecuteTime": {
     "end_time": "2024-11-11T17:59:59.092597Z",
     "start_time": "2024-11-11T17:59:58.158875Z"
    }
   },
   "id": "5e74b398c211c229"
  },
  {
   "cell_type": "code",
   "execution_count": 20,
   "outputs": [
    {
     "data": {
      "text/plain": "<Figure size 640x480 with 1 Axes>",
      "image/png": "[encoded data removed]"
     },
     "metadata": {},
     "output_type": "display_data"
    }
   ],
   "source": [
    "import matplotlib.pyplot as plt\n",
    "\n",
    "plt.title('Best K param')\n",
    "plt.plot(*zip(*loo_errors), color='r', label='LOO')\n",
    "plt.plot(*zip(*empiric_errors), color='g', label='Hold-Out')\n",
    "plt.xlabel('k')\n",
    "plt.ylabel('Error rate (smaller = better)')\n",
    "plt.legend()\n",
    "plt.show()"
   ],
   "metadata": {
    "collapsed": false,
    "ExecuteTime": {
     "end_time": "2024-11-11T17:59:59.169669Z",
     "start_time": "2024-11-11T17:59:59.108800Z"
    }
   },
   "id": "1b352048b3b1798c"
  },
  {
   "cell_type": "markdown",
   "source": [
    "# Сравнение с эталонной реализацией"
   ],
   "metadata": {
    "collapsed": false
   },
   "id": "d0e2c33134cd4f04"
  },
  {
   "cell_type": "code",
   "execution_count": 21,
   "outputs": [
    {
     "name": "stdout",
     "output_type": "stream",
     "text": [
      "KNN(k=1)\n",
      "Time: 0.0065152079332619905s\n",
      "Accuracy: 0.7222222222222222\n",
      "\n",
      "KNN(k=10)\n",
      "Time: 0.0052839580457657576s\n",
      "Accuracy: 0.7222222222222222\n",
      "\n",
      "KNN(k=20)\n",
      "Time: 0.005104833049699664s\n",
      "Accuracy: 0.7777777777777778\n",
      "\n",
      "KNeighborsClassifier(k=1)\n",
      "Time: 0.0022031250409781933s\n",
      "Accuracy: 0.7777777777777778\n",
      "\n",
      "KNeighborsClassifier(k=10)\n",
      "Time: 0.0009392499923706055s\n",
      "Accuracy: 0.5555555555555556\n",
      "\n",
      "KNeighborsClassifier(k=20)\n",
      "Time: 0.0008967090398073196s\n",
      "Accuracy: 0.7777777777777778\n"
     ]
    }
   ],
   "source": [
    "import time\n",
    "\n",
    "from sklearn.neighbors import KNeighborsClassifier\n",
    "\n",
    "ks = (1, 10, 20)\n",
    "impls = (KNN, KNeighborsClassifier)\n",
    "\n",
    "for impl in impls:\n",
    "    for k in ks:\n",
    "        start = time.monotonic()\n",
    "        neigh = impl(k)\n",
    "        neigh.fit(X_train, y_train)\n",
    "        y_pred = neigh.predict(X_test)\n",
    "        speed = time.monotonic() - start\n",
    "        print(f'{impl.__name__}(k={k})\\n'\n",
    "              f'Time: {speed}s\\n'\n",
    "              f'Accuracy: {np.mean(y_pred == y_test)}\\n')\n"
   ],
   "metadata": {
    "collapsed": false,
    "ExecuteTime": {
     "end_time": "2024-11-11T17:59:59.224169Z",
     "start_time": "2024-11-11T17:59:59.170326Z"
    }
   },
   "id": "bf11afac4e328d8f"
  },
  {
   "cell_type": "code",
   "execution_count": 21,
   "outputs": [],
   "source": [],
   "metadata": {
    "collapsed": false,
    "ExecuteTime": {
     "end_time": "2024-11-11T17:59:59.224294Z",
     "start_time": "2024-11-11T17:59:59.192917Z"
    }
   },
   "id": "63d93677db14f14"
  }
 ],
 "metadata": {
  "kernelspec": {
   "display_name": "Python 3",
   "language": "python",
   "name": "python3"
  },
  "language_info": {
   "codemirror_mode": {
    "name": "ipython",
    "version": 2
   },
   "file_extension": ".py",
   "mimetype": "text/x-python",
   "name": "python",
   "nbconvert_exporter": "python",
   "pygments_lexer": "ipython2",
   "version": "2.7.6"
  }
 },
 "nbformat": 4,
 "nbformat_minor": 5
}
